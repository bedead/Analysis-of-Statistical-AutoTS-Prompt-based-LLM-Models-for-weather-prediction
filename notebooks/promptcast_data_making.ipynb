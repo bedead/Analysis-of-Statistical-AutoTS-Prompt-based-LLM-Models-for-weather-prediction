{
 "cells": [
  {
   "cell_type": "markdown",
   "id": "7bda8a99",
   "metadata": {},
   "source": [
    "### Imports and setup of LLM\n",
    "\n",
    "PromptCast github: https://github.com/HaoUNSW/PISA/"
   ]
  },
  {
   "cell_type": "code",
   "execution_count": 2,
   "id": "d6f0d6ed",
   "metadata": {},
   "outputs": [
    {
     "data": {
      "text/html": [
       "<div>\n",
       "<style scoped>\n",
       "    .dataframe tbody tr th:only-of-type {\n",
       "        vertical-align: middle;\n",
       "    }\n",
       "\n",
       "    .dataframe tbody tr th {\n",
       "        vertical-align: top;\n",
       "    }\n",
       "\n",
       "    .dataframe thead th {\n",
       "        text-align: right;\n",
       "    }\n",
       "</style>\n",
       "<table border=\"1\" class=\"dataframe\">\n",
       "  <thead>\n",
       "    <tr style=\"text-align: right;\">\n",
       "      <th></th>\n",
       "      <th>Date</th>\n",
       "      <th>Avg Temperature</th>\n",
       "    </tr>\n",
       "  </thead>\n",
       "  <tbody>\n",
       "    <tr>\n",
       "      <th>0</th>\n",
       "      <td>2010-01-01</td>\n",
       "      <td>55.7</td>\n",
       "    </tr>\n",
       "    <tr>\n",
       "      <th>1</th>\n",
       "      <td>2010-01-02</td>\n",
       "      <td>50.6</td>\n",
       "    </tr>\n",
       "    <tr>\n",
       "      <th>2</th>\n",
       "      <td>2010-01-03</td>\n",
       "      <td>52.8</td>\n",
       "    </tr>\n",
       "    <tr>\n",
       "      <th>3</th>\n",
       "      <td>2010-01-04</td>\n",
       "      <td>51.0</td>\n",
       "    </tr>\n",
       "    <tr>\n",
       "      <th>4</th>\n",
       "      <td>2010-01-05</td>\n",
       "      <td>53.1</td>\n",
       "    </tr>\n",
       "  </tbody>\n",
       "</table>\n",
       "</div>"
      ],
      "text/plain": [
       "         Date  Avg Temperature\n",
       "0  2010-01-01             55.7\n",
       "1  2010-01-02             50.6\n",
       "2  2010-01-03             52.8\n",
       "3  2010-01-04             51.0\n",
       "4  2010-01-05             53.1"
      ]
     },
     "execution_count": 2,
     "metadata": {},
     "output_type": "execute_result"
    }
   ],
   "source": [
    "import pandas as pd\n",
    "df = pd.read_csv(\"../dataset/weatherdata_temp.csv\")\n",
    "df.head()"
   ]
  },
  {
   "cell_type": "code",
   "execution_count": 3,
   "id": "8dd065a7",
   "metadata": {},
   "outputs": [
    {
     "data": {
      "text/plain": [
       "(5012, 2)"
      ]
     },
     "execution_count": 3,
     "metadata": {},
     "output_type": "execute_result"
    }
   ],
   "source": [
    "df.shape"
   ]
  },
  {
   "cell_type": "markdown",
   "id": "912d328e",
   "metadata": {},
   "source": [
    "#### Generating temperature_questions_pisa_prompt.txt questions for prompt"
   ]
  },
  {
   "cell_type": "code",
   "execution_count": 6,
   "metadata": {},
   "outputs": [
    {
     "name": "stdout",
     "output_type": "stream",
     "text": [
      "Created 313 sequences\n",
      "\n",
      "First sequence example:\n",
      "From January 01, 2010, Friday to January 15, 2010, Friday, the average temperature was 56, 51, 53, 51, 53, 54, 53, 50, 52, 47, 48, 50, 51, 50, 52 degree on each day. What is the temperature going to be on January 16, 2010, Saturday?\n",
      "\n",
      "Created answer file with temperature values\n"
     ]
    }
   ],
   "source": [
    "import pandas as pd\n",
    "from datetime import datetime, timedelta\n",
    "\n",
    "# Convert Date column to datetime\n",
    "df[\"Date\"] = pd.to_datetime(df[\"Date\"])\n",
    "\n",
    "\n",
    "# Function to get day name\n",
    "def get_day_name(date):\n",
    "    return date.strftime(\"%A\")\n",
    "\n",
    "\n",
    "# Function to format date\n",
    "def format_date(date):\n",
    "    return date.strftime(\"%B %d, %Y\")\n",
    "\n",
    "\n",
    "# Create sequences of 15 days and generate questions\n",
    "sequences = []\n",
    "window_size = 15\n",
    "\n",
    "# Use step size of 16 to get non-overlapping sequences\n",
    "for i in range(0, len(df) - window_size, 16):\n",
    "    window_data = df.iloc[i : i + window_size]\n",
    "    next_day = df.iloc[i + window_size]\n",
    "\n",
    "    start_date = window_data.iloc[0][\"Date\"]\n",
    "    end_date = window_data.iloc[-1][\"Date\"]\n",
    "    next_date = next_day[\"Date\"]\n",
    "\n",
    "    temperatures = [str(int(round(temp))) for temp in window_data[\"Avg Temperature\"]]\n",
    "\n",
    "    question = (\n",
    "        f\"From {format_date(start_date)}, {get_day_name(start_date)} to \"\n",
    "        f\"{format_date(end_date)}, {get_day_name(end_date)}, \"\n",
    "        f\"the average temperature was {', '.join(temperatures)} degree on each day. \"\n",
    "        f\"What is the temperature going to be on {format_date(next_date)}, \"\n",
    "        f\"{get_day_name(next_date)}?\"\n",
    "    )\n",
    "\n",
    "    sequences.append(question)\n",
    "\n",
    "# Save to text file\n",
    "with open(\"../dataset/temperature_questions_pisa_prompt.txt\", \"w\") as f:\n",
    "    f.write(\"\\n\".join(sequences))\n",
    "\n",
    "# Save temperature answers\n",
    "with open(\"../dataset/temperature_answers_pisa_prompt.txt\", \"w\") as f:\n",
    "    for i in range(0, len(df) - window_size, 16):\n",
    "        next_day = df.iloc[i + window_size]\n",
    "        answer = str(int(round(next_day[\"Avg Temperature\"])))\n",
    "        f.write(answer + \"\\n\")\n",
    "\n",
    "print(f\"Created {len(sequences)} sequences\")\n",
    "print(\"\\nFirst sequence example:\")\n",
    "print(sequences[0])\n",
    "print(\"\\nCreated answer file with temperature values\")"
   ]
  },
  {
   "cell_type": "code",
   "execution_count": 8,
   "id": "7c0448aa",
   "metadata": {},
   "outputs": [
    {
     "data": {
      "text/html": [
       "<div>\n",
       "<style scoped>\n",
       "    .dataframe tbody tr th:only-of-type {\n",
       "        vertical-align: middle;\n",
       "    }\n",
       "\n",
       "    .dataframe tbody tr th {\n",
       "        vertical-align: top;\n",
       "    }\n",
       "\n",
       "    .dataframe thead th {\n",
       "        text-align: right;\n",
       "    }\n",
       "</style>\n",
       "<table border=\"1\" class=\"dataframe\">\n",
       "  <thead>\n",
       "    <tr style=\"text-align: right;\">\n",
       "      <th></th>\n",
       "      <th>Date</th>\n",
       "      <th>Avg Temperature</th>\n",
       "    </tr>\n",
       "  </thead>\n",
       "  <tbody>\n",
       "    <tr>\n",
       "      <th>15</th>\n",
       "      <td>2010-01-16</td>\n",
       "      <td>53.7</td>\n",
       "    </tr>\n",
       "  </tbody>\n",
       "</table>\n",
       "</div>"
      ],
      "text/plain": [
       "         Date  Avg Temperature\n",
       "15 2010-01-16             53.7"
      ]
     },
     "execution_count": 8,
     "metadata": {},
     "output_type": "execute_result"
    }
   ],
   "source": [
    "df[df['Date'] == '2010-01-16']"
   ]
  },
  {
   "cell_type": "code",
   "execution_count": null,
   "id": "87684350",
   "metadata": {},
   "outputs": [],
   "source": []
  }
 ],
 "metadata": {
  "kernelspec": {
   "display_name": "venv",
   "language": "python",
   "name": "python3"
  },
  "language_info": {
   "codemirror_mode": {
    "name": "ipython",
    "version": 3
   },
   "file_extension": ".py",
   "mimetype": "text/x-python",
   "name": "python",
   "nbconvert_exporter": "python",
   "pygments_lexer": "ipython3",
   "version": "3.10.0"
  }
 },
 "nbformat": 4,
 "nbformat_minor": 5
}
