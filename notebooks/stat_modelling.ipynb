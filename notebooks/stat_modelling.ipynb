{
 "cells": [
  {
   "cell_type": "code",
   "execution_count": 2,
   "metadata": {},
   "outputs": [
    {
     "data": {
      "text/html": [
       "<div>\n",
       "<style scoped>\n",
       "    .dataframe tbody tr th:only-of-type {\n",
       "        vertical-align: middle;\n",
       "    }\n",
       "\n",
       "    .dataframe tbody tr th {\n",
       "        vertical-align: top;\n",
       "    }\n",
       "\n",
       "    .dataframe thead th {\n",
       "        text-align: right;\n",
       "    }\n",
       "</style>\n",
       "<table border=\"1\" class=\"dataframe\">\n",
       "  <thead>\n",
       "    <tr style=\"text-align: right;\">\n",
       "      <th></th>\n",
       "      <th>Date</th>\n",
       "      <th>Max Temperature</th>\n",
       "      <th>Avg Temperature</th>\n",
       "      <th>Min Temperature</th>\n",
       "      <th>Max Dew Point</th>\n",
       "      <th>Avg Dew Point</th>\n",
       "      <th>Min Dew Point</th>\n",
       "      <th>Max Humidity</th>\n",
       "      <th>Avg Humidity</th>\n",
       "      <th>Min Humidity</th>\n",
       "      <th>...</th>\n",
       "      <th>Min Wind Speed</th>\n",
       "      <th>Max Pressure</th>\n",
       "      <th>Avg Pressure</th>\n",
       "      <th>Min Pressure</th>\n",
       "      <th>Total Precipitation</th>\n",
       "      <th>Temperature Range</th>\n",
       "      <th>Dew Point Range</th>\n",
       "      <th>Humidity Range</th>\n",
       "      <th>Wind Speed Range</th>\n",
       "      <th>Pressure Range</th>\n",
       "    </tr>\n",
       "  </thead>\n",
       "  <tbody>\n",
       "    <tr>\n",
       "      <th>0</th>\n",
       "      <td>2010-01-01</td>\n",
       "      <td>70.0</td>\n",
       "      <td>55.7</td>\n",
       "      <td>45.0</td>\n",
       "      <td>52.0</td>\n",
       "      <td>47.5</td>\n",
       "      <td>41.0</td>\n",
       "      <td>100.0</td>\n",
       "      <td>77.5</td>\n",
       "      <td>43.0</td>\n",
       "      <td>...</td>\n",
       "      <td>0.0</td>\n",
       "      <td>29.2</td>\n",
       "      <td>29.2</td>\n",
       "      <td>29.1</td>\n",
       "      <td>0.0</td>\n",
       "      <td>25.0</td>\n",
       "      <td>11.0</td>\n",
       "      <td>57.0</td>\n",
       "      <td>8.0</td>\n",
       "      <td>0.1</td>\n",
       "    </tr>\n",
       "    <tr>\n",
       "      <th>1</th>\n",
       "      <td>2010-01-02</td>\n",
       "      <td>59.0</td>\n",
       "      <td>50.6</td>\n",
       "      <td>46.0</td>\n",
       "      <td>54.0</td>\n",
       "      <td>49.6</td>\n",
       "      <td>46.0</td>\n",
       "      <td>100.0</td>\n",
       "      <td>96.7</td>\n",
       "      <td>77.0</td>\n",
       "      <td>...</td>\n",
       "      <td>3.0</td>\n",
       "      <td>29.3</td>\n",
       "      <td>29.3</td>\n",
       "      <td>29.2</td>\n",
       "      <td>0.0</td>\n",
       "      <td>13.0</td>\n",
       "      <td>8.0</td>\n",
       "      <td>23.0</td>\n",
       "      <td>5.0</td>\n",
       "      <td>0.1</td>\n",
       "    </tr>\n",
       "    <tr>\n",
       "      <th>2</th>\n",
       "      <td>2010-01-03</td>\n",
       "      <td>57.0</td>\n",
       "      <td>52.8</td>\n",
       "      <td>48.0</td>\n",
       "      <td>57.0</td>\n",
       "      <td>52.1</td>\n",
       "      <td>48.0</td>\n",
       "      <td>100.0</td>\n",
       "      <td>97.3</td>\n",
       "      <td>82.0</td>\n",
       "      <td>...</td>\n",
       "      <td>3.0</td>\n",
       "      <td>29.3</td>\n",
       "      <td>29.2</td>\n",
       "      <td>29.2</td>\n",
       "      <td>0.0</td>\n",
       "      <td>9.0</td>\n",
       "      <td>9.0</td>\n",
       "      <td>18.0</td>\n",
       "      <td>9.0</td>\n",
       "      <td>0.1</td>\n",
       "    </tr>\n",
       "    <tr>\n",
       "      <th>3</th>\n",
       "      <td>2010-01-04</td>\n",
       "      <td>55.0</td>\n",
       "      <td>51.0</td>\n",
       "      <td>48.0</td>\n",
       "      <td>50.0</td>\n",
       "      <td>48.4</td>\n",
       "      <td>48.0</td>\n",
       "      <td>100.0</td>\n",
       "      <td>91.9</td>\n",
       "      <td>77.0</td>\n",
       "      <td>...</td>\n",
       "      <td>7.0</td>\n",
       "      <td>29.3</td>\n",
       "      <td>29.2</td>\n",
       "      <td>29.1</td>\n",
       "      <td>0.0</td>\n",
       "      <td>7.0</td>\n",
       "      <td>2.0</td>\n",
       "      <td>23.0</td>\n",
       "      <td>8.0</td>\n",
       "      <td>0.2</td>\n",
       "    </tr>\n",
       "    <tr>\n",
       "      <th>4</th>\n",
       "      <td>2010-01-05</td>\n",
       "      <td>63.0</td>\n",
       "      <td>53.1</td>\n",
       "      <td>46.0</td>\n",
       "      <td>52.0</td>\n",
       "      <td>47.9</td>\n",
       "      <td>46.0</td>\n",
       "      <td>100.0</td>\n",
       "      <td>85.1</td>\n",
       "      <td>55.0</td>\n",
       "      <td>...</td>\n",
       "      <td>0.0</td>\n",
       "      <td>29.2</td>\n",
       "      <td>29.1</td>\n",
       "      <td>29.1</td>\n",
       "      <td>0.0</td>\n",
       "      <td>17.0</td>\n",
       "      <td>6.0</td>\n",
       "      <td>45.0</td>\n",
       "      <td>14.0</td>\n",
       "      <td>0.1</td>\n",
       "    </tr>\n",
       "  </tbody>\n",
       "</table>\n",
       "<p>5 rows × 22 columns</p>\n",
       "</div>"
      ],
      "text/plain": [
       "         Date  Max Temperature  Avg Temperature  Min Temperature  \\\n",
       "0  2010-01-01             70.0             55.7             45.0   \n",
       "1  2010-01-02             59.0             50.6             46.0   \n",
       "2  2010-01-03             57.0             52.8             48.0   \n",
       "3  2010-01-04             55.0             51.0             48.0   \n",
       "4  2010-01-05             63.0             53.1             46.0   \n",
       "\n",
       "   Max Dew Point  Avg Dew Point  Min Dew Point  Max Humidity  Avg Humidity  \\\n",
       "0           52.0           47.5           41.0         100.0          77.5   \n",
       "1           54.0           49.6           46.0         100.0          96.7   \n",
       "2           57.0           52.1           48.0         100.0          97.3   \n",
       "3           50.0           48.4           48.0         100.0          91.9   \n",
       "4           52.0           47.9           46.0         100.0          85.1   \n",
       "\n",
       "   Min Humidity  ...  Min Wind Speed  Max Pressure  Avg Pressure  \\\n",
       "0          43.0  ...             0.0          29.2          29.2   \n",
       "1          77.0  ...             3.0          29.3          29.3   \n",
       "2          82.0  ...             3.0          29.3          29.2   \n",
       "3          77.0  ...             7.0          29.3          29.2   \n",
       "4          55.0  ...             0.0          29.2          29.1   \n",
       "\n",
       "   Min Pressure  Total Precipitation  Temperature Range  Dew Point Range  \\\n",
       "0          29.1                  0.0               25.0             11.0   \n",
       "1          29.2                  0.0               13.0              8.0   \n",
       "2          29.2                  0.0                9.0              9.0   \n",
       "3          29.1                  0.0                7.0              2.0   \n",
       "4          29.1                  0.0               17.0              6.0   \n",
       "\n",
       "   Humidity Range  Wind Speed Range  Pressure Range  \n",
       "0            57.0               8.0             0.1  \n",
       "1            23.0               5.0             0.1  \n",
       "2            18.0               9.0             0.1  \n",
       "3            23.0               8.0             0.2  \n",
       "4            45.0              14.0             0.1  \n",
       "\n",
       "[5 rows x 22 columns]"
      ]
     },
     "execution_count": 2,
     "metadata": {},
     "output_type": "execute_result"
    }
   ],
   "source": [
    "import pandas as pd\n",
    "df = pd.read_csv('..\\dataset\\weatherdata_cleaned.csv')\n",
    "df.head()"
   ]
  },
  {
   "cell_type": "markdown",
   "metadata": {},
   "source": [
    "#### spliting the data for train and test - simple split"
   ]
  },
  {
   "cell_type": "code",
   "execution_count": 3,
   "metadata": {},
   "outputs": [
    {
     "name": "stdout",
     "output_type": "stream",
     "text": [
      "scaled_df index frequency: None\n"
     ]
    }
   ],
   "source": [
    "## setting date as index\n",
    "# Convert indices to datetime with specified frequency for all data\n",
    "df.set_index('Date', inplace=True)\n",
    "df.index = pd.DatetimeIndex(df.index)\n",
    "\n",
    "# Verify the indices match\n",
    "print(\"scaled_df index frequency:\", df.index.freq)"
   ]
  },
  {
   "cell_type": "code",
   "execution_count": 4,
   "metadata": {},
   "outputs": [
    {
     "data": {
      "text/html": [
       "<div>\n",
       "<style scoped>\n",
       "    .dataframe tbody tr th:only-of-type {\n",
       "        vertical-align: middle;\n",
       "    }\n",
       "\n",
       "    .dataframe tbody tr th {\n",
       "        vertical-align: top;\n",
       "    }\n",
       "\n",
       "    .dataframe thead th {\n",
       "        text-align: right;\n",
       "    }\n",
       "</style>\n",
       "<table border=\"1\" class=\"dataframe\">\n",
       "  <thead>\n",
       "    <tr style=\"text-align: right;\">\n",
       "      <th></th>\n",
       "      <th>Max Temperature</th>\n",
       "      <th>Avg Temperature</th>\n",
       "      <th>Min Temperature</th>\n",
       "      <th>Max Dew Point</th>\n",
       "      <th>Avg Dew Point</th>\n",
       "      <th>Min Dew Point</th>\n",
       "      <th>Max Humidity</th>\n",
       "      <th>Avg Humidity</th>\n",
       "      <th>Min Humidity</th>\n",
       "      <th>Max Wind Speed</th>\n",
       "      <th>...</th>\n",
       "      <th>Min Wind Speed</th>\n",
       "      <th>Max Pressure</th>\n",
       "      <th>Avg Pressure</th>\n",
       "      <th>Min Pressure</th>\n",
       "      <th>Total Precipitation</th>\n",
       "      <th>Temperature Range</th>\n",
       "      <th>Dew Point Range</th>\n",
       "      <th>Humidity Range</th>\n",
       "      <th>Wind Speed Range</th>\n",
       "      <th>Pressure Range</th>\n",
       "    </tr>\n",
       "    <tr>\n",
       "      <th>Date</th>\n",
       "      <th></th>\n",
       "      <th></th>\n",
       "      <th></th>\n",
       "      <th></th>\n",
       "      <th></th>\n",
       "      <th></th>\n",
       "      <th></th>\n",
       "      <th></th>\n",
       "      <th></th>\n",
       "      <th></th>\n",
       "      <th></th>\n",
       "      <th></th>\n",
       "      <th></th>\n",
       "      <th></th>\n",
       "      <th></th>\n",
       "      <th></th>\n",
       "      <th></th>\n",
       "      <th></th>\n",
       "      <th></th>\n",
       "      <th></th>\n",
       "      <th></th>\n",
       "    </tr>\n",
       "  </thead>\n",
       "  <tbody>\n",
       "    <tr>\n",
       "      <th>2010-01-01</th>\n",
       "      <td>70.0</td>\n",
       "      <td>55.7</td>\n",
       "      <td>45.0</td>\n",
       "      <td>52.0</td>\n",
       "      <td>47.5</td>\n",
       "      <td>41.0</td>\n",
       "      <td>100.0</td>\n",
       "      <td>77.5</td>\n",
       "      <td>43.0</td>\n",
       "      <td>8.0</td>\n",
       "      <td>...</td>\n",
       "      <td>0.0</td>\n",
       "      <td>29.2</td>\n",
       "      <td>29.2</td>\n",
       "      <td>29.1</td>\n",
       "      <td>0.0</td>\n",
       "      <td>25.0</td>\n",
       "      <td>11.0</td>\n",
       "      <td>57.0</td>\n",
       "      <td>8.0</td>\n",
       "      <td>0.1</td>\n",
       "    </tr>\n",
       "    <tr>\n",
       "      <th>2010-01-02</th>\n",
       "      <td>59.0</td>\n",
       "      <td>50.6</td>\n",
       "      <td>46.0</td>\n",
       "      <td>54.0</td>\n",
       "      <td>49.6</td>\n",
       "      <td>46.0</td>\n",
       "      <td>100.0</td>\n",
       "      <td>96.7</td>\n",
       "      <td>77.0</td>\n",
       "      <td>8.0</td>\n",
       "      <td>...</td>\n",
       "      <td>3.0</td>\n",
       "      <td>29.3</td>\n",
       "      <td>29.3</td>\n",
       "      <td>29.2</td>\n",
       "      <td>0.0</td>\n",
       "      <td>13.0</td>\n",
       "      <td>8.0</td>\n",
       "      <td>23.0</td>\n",
       "      <td>5.0</td>\n",
       "      <td>0.1</td>\n",
       "    </tr>\n",
       "  </tbody>\n",
       "</table>\n",
       "<p>2 rows × 21 columns</p>\n",
       "</div>"
      ],
      "text/plain": [
       "            Max Temperature  Avg Temperature  Min Temperature  Max Dew Point  \\\n",
       "Date                                                                           \n",
       "2010-01-01             70.0             55.7             45.0           52.0   \n",
       "2010-01-02             59.0             50.6             46.0           54.0   \n",
       "\n",
       "            Avg Dew Point  Min Dew Point  Max Humidity  Avg Humidity  \\\n",
       "Date                                                                   \n",
       "2010-01-01           47.5           41.0         100.0          77.5   \n",
       "2010-01-02           49.6           46.0         100.0          96.7   \n",
       "\n",
       "            Min Humidity  Max Wind Speed  ...  Min Wind Speed  Max Pressure  \\\n",
       "Date                                      ...                                 \n",
       "2010-01-01          43.0             8.0  ...             0.0          29.2   \n",
       "2010-01-02          77.0             8.0  ...             3.0          29.3   \n",
       "\n",
       "            Avg Pressure  Min Pressure  Total Precipitation  \\\n",
       "Date                                                          \n",
       "2010-01-01          29.2          29.1                  0.0   \n",
       "2010-01-02          29.3          29.2                  0.0   \n",
       "\n",
       "            Temperature Range  Dew Point Range  Humidity Range  \\\n",
       "Date                                                             \n",
       "2010-01-01               25.0             11.0            57.0   \n",
       "2010-01-02               13.0              8.0            23.0   \n",
       "\n",
       "            Wind Speed Range  Pressure Range  \n",
       "Date                                          \n",
       "2010-01-01               8.0             0.1  \n",
       "2010-01-02               5.0             0.1  \n",
       "\n",
       "[2 rows x 21 columns]"
      ]
     },
     "execution_count": 4,
     "metadata": {},
     "output_type": "execute_result"
    }
   ],
   "source": [
    "df.head(2)"
   ]
  },
  {
   "cell_type": "code",
   "execution_count": 5,
   "metadata": {},
   "outputs": [
    {
     "data": {
      "text/html": [
       "<div>\n",
       "<style scoped>\n",
       "    .dataframe tbody tr th:only-of-type {\n",
       "        vertical-align: middle;\n",
       "    }\n",
       "\n",
       "    .dataframe tbody tr th {\n",
       "        vertical-align: top;\n",
       "    }\n",
       "\n",
       "    .dataframe thead th {\n",
       "        text-align: right;\n",
       "    }\n",
       "</style>\n",
       "<table border=\"1\" class=\"dataframe\">\n",
       "  <thead>\n",
       "    <tr style=\"text-align: right;\">\n",
       "      <th></th>\n",
       "      <th>Max Temperature</th>\n",
       "      <th>Avg Temperature</th>\n",
       "      <th>Min Temperature</th>\n",
       "      <th>Max Dew Point</th>\n",
       "      <th>Avg Dew Point</th>\n",
       "      <th>Min Dew Point</th>\n",
       "      <th>Max Humidity</th>\n",
       "      <th>Avg Humidity</th>\n",
       "      <th>Min Humidity</th>\n",
       "      <th>Max Wind Speed</th>\n",
       "      <th>...</th>\n",
       "      <th>Min Wind Speed</th>\n",
       "      <th>Max Pressure</th>\n",
       "      <th>Avg Pressure</th>\n",
       "      <th>Min Pressure</th>\n",
       "      <th>Total Precipitation</th>\n",
       "      <th>Temperature Range</th>\n",
       "      <th>Dew Point Range</th>\n",
       "      <th>Humidity Range</th>\n",
       "      <th>Wind Speed Range</th>\n",
       "      <th>Pressure Range</th>\n",
       "    </tr>\n",
       "  </thead>\n",
       "  <tbody>\n",
       "    <tr>\n",
       "      <th>count</th>\n",
       "      <td>5012.000000</td>\n",
       "      <td>5012.000000</td>\n",
       "      <td>5012.000000</td>\n",
       "      <td>5012.000000</td>\n",
       "      <td>5012.000000</td>\n",
       "      <td>5012.000000</td>\n",
       "      <td>5012.000000</td>\n",
       "      <td>5012.000000</td>\n",
       "      <td>5012.000000</td>\n",
       "      <td>5012.000000</td>\n",
       "      <td>...</td>\n",
       "      <td>5012.000000</td>\n",
       "      <td>5012.000000</td>\n",
       "      <td>5012.000000</td>\n",
       "      <td>5012.000000</td>\n",
       "      <td>5012.0</td>\n",
       "      <td>5012.000000</td>\n",
       "      <td>5012.000000</td>\n",
       "      <td>5012.000000</td>\n",
       "      <td>5012.000000</td>\n",
       "      <td>5012.000000</td>\n",
       "    </tr>\n",
       "    <tr>\n",
       "      <th>mean</th>\n",
       "      <td>87.795690</td>\n",
       "      <td>77.604669</td>\n",
       "      <td>66.460295</td>\n",
       "      <td>64.845970</td>\n",
       "      <td>59.894214</td>\n",
       "      <td>53.117119</td>\n",
       "      <td>82.992019</td>\n",
       "      <td>60.846069</td>\n",
       "      <td>37.878292</td>\n",
       "      <td>12.418396</td>\n",
       "      <td>...</td>\n",
       "      <td>0.889665</td>\n",
       "      <td>29.024162</td>\n",
       "      <td>28.939346</td>\n",
       "      <td>28.209178</td>\n",
       "      <td>0.0</td>\n",
       "      <td>21.335395</td>\n",
       "      <td>11.728851</td>\n",
       "      <td>45.113727</td>\n",
       "      <td>11.528731</td>\n",
       "      <td>0.814984</td>\n",
       "    </tr>\n",
       "    <tr>\n",
       "      <th>std</th>\n",
       "      <td>13.241873</td>\n",
       "      <td>13.457093</td>\n",
       "      <td>16.837960</td>\n",
       "      <td>12.187823</td>\n",
       "      <td>12.697660</td>\n",
       "      <td>16.822315</td>\n",
       "      <td>18.586778</td>\n",
       "      <td>20.077181</td>\n",
       "      <td>20.215590</td>\n",
       "      <td>16.261837</td>\n",
       "      <td>...</td>\n",
       "      <td>1.797800</td>\n",
       "      <td>0.198137</td>\n",
       "      <td>0.237664</td>\n",
       "      <td>4.423005</td>\n",
       "      <td>0.0</td>\n",
       "      <td>11.625047</td>\n",
       "      <td>10.882920</td>\n",
       "      <td>16.429400</td>\n",
       "      <td>16.218812</td>\n",
       "      <td>4.417714</td>\n",
       "    </tr>\n",
       "    <tr>\n",
       "      <th>min</th>\n",
       "      <td>48.000000</td>\n",
       "      <td>41.200000</td>\n",
       "      <td>0.000000</td>\n",
       "      <td>37.000000</td>\n",
       "      <td>25.700000</td>\n",
       "      <td>0.000000</td>\n",
       "      <td>19.000000</td>\n",
       "      <td>12.400000</td>\n",
       "      <td>0.000000</td>\n",
       "      <td>0.000000</td>\n",
       "      <td>...</td>\n",
       "      <td>0.000000</td>\n",
       "      <td>28.500000</td>\n",
       "      <td>26.200000</td>\n",
       "      <td>0.000000</td>\n",
       "      <td>0.0</td>\n",
       "      <td>0.000000</td>\n",
       "      <td>0.000000</td>\n",
       "      <td>0.000000</td>\n",
       "      <td>0.000000</td>\n",
       "      <td>0.000000</td>\n",
       "    </tr>\n",
       "    <tr>\n",
       "      <th>25%</th>\n",
       "      <td>79.000000</td>\n",
       "      <td>66.175000</td>\n",
       "      <td>54.750000</td>\n",
       "      <td>55.000000</td>\n",
       "      <td>49.700000</td>\n",
       "      <td>43.000000</td>\n",
       "      <td>75.000000</td>\n",
       "      <td>47.900000</td>\n",
       "      <td>23.000000</td>\n",
       "      <td>9.000000</td>\n",
       "      <td>...</td>\n",
       "      <td>0.000000</td>\n",
       "      <td>28.900000</td>\n",
       "      <td>28.800000</td>\n",
       "      <td>28.700000</td>\n",
       "      <td>0.0</td>\n",
       "      <td>15.000000</td>\n",
       "      <td>6.000000</td>\n",
       "      <td>33.000000</td>\n",
       "      <td>8.000000</td>\n",
       "      <td>0.100000</td>\n",
       "    </tr>\n",
       "    <tr>\n",
       "      <th>50%</th>\n",
       "      <td>90.000000</td>\n",
       "      <td>81.600000</td>\n",
       "      <td>72.000000</td>\n",
       "      <td>63.000000</td>\n",
       "      <td>57.100000</td>\n",
       "      <td>52.000000</td>\n",
       "      <td>89.000000</td>\n",
       "      <td>62.300000</td>\n",
       "      <td>35.000000</td>\n",
       "      <td>12.000000</td>\n",
       "      <td>...</td>\n",
       "      <td>0.000000</td>\n",
       "      <td>29.000000</td>\n",
       "      <td>28.900000</td>\n",
       "      <td>28.900000</td>\n",
       "      <td>0.0</td>\n",
       "      <td>21.000000</td>\n",
       "      <td>9.000000</td>\n",
       "      <td>44.000000</td>\n",
       "      <td>10.000000</td>\n",
       "      <td>0.100000</td>\n",
       "    </tr>\n",
       "    <tr>\n",
       "      <th>75%</th>\n",
       "      <td>97.000000</td>\n",
       "      <td>87.700000</td>\n",
       "      <td>81.000000</td>\n",
       "      <td>77.000000</td>\n",
       "      <td>72.900000</td>\n",
       "      <td>68.000000</td>\n",
       "      <td>100.000000</td>\n",
       "      <td>75.500000</td>\n",
       "      <td>52.000000</td>\n",
       "      <td>14.000000</td>\n",
       "      <td>...</td>\n",
       "      <td>0.000000</td>\n",
       "      <td>29.200000</td>\n",
       "      <td>29.100000</td>\n",
       "      <td>29.100000</td>\n",
       "      <td>0.0</td>\n",
       "      <td>25.000000</td>\n",
       "      <td>13.000000</td>\n",
       "      <td>57.000000</td>\n",
       "      <td>12.000000</td>\n",
       "      <td>0.200000</td>\n",
       "    </tr>\n",
       "    <tr>\n",
       "      <th>max</th>\n",
       "      <td>162.000000</td>\n",
       "      <td>104.700000</td>\n",
       "      <td>95.000000</td>\n",
       "      <td>194.000000</td>\n",
       "      <td>82.500000</td>\n",
       "      <td>81.000000</td>\n",
       "      <td>100.000000</td>\n",
       "      <td>100.000000</td>\n",
       "      <td>100.000000</td>\n",
       "      <td>690.000000</td>\n",
       "      <td>...</td>\n",
       "      <td>12.000000</td>\n",
       "      <td>29.900000</td>\n",
       "      <td>29.400000</td>\n",
       "      <td>29.300000</td>\n",
       "      <td>0.0</td>\n",
       "      <td>113.000000</td>\n",
       "      <td>149.000000</td>\n",
       "      <td>100.000000</td>\n",
       "      <td>690.000000</td>\n",
       "      <td>29.400000</td>\n",
       "    </tr>\n",
       "  </tbody>\n",
       "</table>\n",
       "<p>8 rows × 21 columns</p>\n",
       "</div>"
      ],
      "text/plain": [
       "       Max Temperature  Avg Temperature  Min Temperature  Max Dew Point  \\\n",
       "count      5012.000000      5012.000000      5012.000000    5012.000000   \n",
       "mean         87.795690        77.604669        66.460295      64.845970   \n",
       "std          13.241873        13.457093        16.837960      12.187823   \n",
       "min          48.000000        41.200000         0.000000      37.000000   \n",
       "25%          79.000000        66.175000        54.750000      55.000000   \n",
       "50%          90.000000        81.600000        72.000000      63.000000   \n",
       "75%          97.000000        87.700000        81.000000      77.000000   \n",
       "max         162.000000       104.700000        95.000000     194.000000   \n",
       "\n",
       "       Avg Dew Point  Min Dew Point  Max Humidity  Avg Humidity  Min Humidity  \\\n",
       "count    5012.000000    5012.000000   5012.000000   5012.000000   5012.000000   \n",
       "mean       59.894214      53.117119     82.992019     60.846069     37.878292   \n",
       "std        12.697660      16.822315     18.586778     20.077181     20.215590   \n",
       "min        25.700000       0.000000     19.000000     12.400000      0.000000   \n",
       "25%        49.700000      43.000000     75.000000     47.900000     23.000000   \n",
       "50%        57.100000      52.000000     89.000000     62.300000     35.000000   \n",
       "75%        72.900000      68.000000    100.000000     75.500000     52.000000   \n",
       "max        82.500000      81.000000    100.000000    100.000000    100.000000   \n",
       "\n",
       "       Max Wind Speed  ...  Min Wind Speed  Max Pressure  Avg Pressure  \\\n",
       "count     5012.000000  ...     5012.000000   5012.000000   5012.000000   \n",
       "mean        12.418396  ...        0.889665     29.024162     28.939346   \n",
       "std         16.261837  ...        1.797800      0.198137      0.237664   \n",
       "min          0.000000  ...        0.000000     28.500000     26.200000   \n",
       "25%          9.000000  ...        0.000000     28.900000     28.800000   \n",
       "50%         12.000000  ...        0.000000     29.000000     28.900000   \n",
       "75%         14.000000  ...        0.000000     29.200000     29.100000   \n",
       "max        690.000000  ...       12.000000     29.900000     29.400000   \n",
       "\n",
       "       Min Pressure  Total Precipitation  Temperature Range  Dew Point Range  \\\n",
       "count   5012.000000               5012.0        5012.000000      5012.000000   \n",
       "mean      28.209178                  0.0          21.335395        11.728851   \n",
       "std        4.423005                  0.0          11.625047        10.882920   \n",
       "min        0.000000                  0.0           0.000000         0.000000   \n",
       "25%       28.700000                  0.0          15.000000         6.000000   \n",
       "50%       28.900000                  0.0          21.000000         9.000000   \n",
       "75%       29.100000                  0.0          25.000000        13.000000   \n",
       "max       29.300000                  0.0         113.000000       149.000000   \n",
       "\n",
       "       Humidity Range  Wind Speed Range  Pressure Range  \n",
       "count     5012.000000       5012.000000     5012.000000  \n",
       "mean        45.113727         11.528731        0.814984  \n",
       "std         16.429400         16.218812        4.417714  \n",
       "min          0.000000          0.000000        0.000000  \n",
       "25%         33.000000          8.000000        0.100000  \n",
       "50%         44.000000         10.000000        0.100000  \n",
       "75%         57.000000         12.000000        0.200000  \n",
       "max        100.000000        690.000000       29.400000  \n",
       "\n",
       "[8 rows x 21 columns]"
      ]
     },
     "execution_count": 5,
     "metadata": {},
     "output_type": "execute_result"
    }
   ],
   "source": [
    "df.describe()"
   ]
  },
  {
   "cell_type": "code",
   "execution_count": 6,
   "metadata": {},
   "outputs": [],
   "source": [
    "df.drop(columns=['Total Precipitation'], inplace=True)"
   ]
  },
  {
   "cell_type": "code",
   "execution_count": 7,
   "metadata": {},
   "outputs": [
    {
     "data": {
      "text/plain": [
       "((4009, 20), (1003, 20))"
      ]
     },
     "execution_count": 7,
     "metadata": {},
     "output_type": "execute_result"
    }
   ],
   "source": [
    "## spliting target training data\n",
    "size = int(len(df) * 0.80)\n",
    "train, test = df[0:size], df[size : len(df)]\n",
    "\n",
    "train.shape, test.shape"
   ]
  },
  {
   "cell_type": "code",
   "execution_count": 8,
   "metadata": {},
   "outputs": [
    {
     "data": {
      "text/html": [
       "<div>\n",
       "<style scoped>\n",
       "    .dataframe tbody tr th:only-of-type {\n",
       "        vertical-align: middle;\n",
       "    }\n",
       "\n",
       "    .dataframe tbody tr th {\n",
       "        vertical-align: top;\n",
       "    }\n",
       "\n",
       "    .dataframe thead th {\n",
       "        text-align: right;\n",
       "    }\n",
       "</style>\n",
       "<table border=\"1\" class=\"dataframe\">\n",
       "  <thead>\n",
       "    <tr style=\"text-align: right;\">\n",
       "      <th></th>\n",
       "      <th>Max Temperature</th>\n",
       "      <th>Avg Temperature</th>\n",
       "      <th>Min Temperature</th>\n",
       "      <th>Max Dew Point</th>\n",
       "      <th>Avg Dew Point</th>\n",
       "      <th>Min Dew Point</th>\n",
       "      <th>Max Humidity</th>\n",
       "      <th>Avg Humidity</th>\n",
       "      <th>Min Humidity</th>\n",
       "      <th>Max Wind Speed</th>\n",
       "      <th>Avg Wind Speed</th>\n",
       "      <th>Min Wind Speed</th>\n",
       "      <th>Max Pressure</th>\n",
       "      <th>Avg Pressure</th>\n",
       "      <th>Min Pressure</th>\n",
       "      <th>Temperature Range</th>\n",
       "      <th>Dew Point Range</th>\n",
       "      <th>Humidity Range</th>\n",
       "      <th>Wind Speed Range</th>\n",
       "      <th>Pressure Range</th>\n",
       "    </tr>\n",
       "    <tr>\n",
       "      <th>Date</th>\n",
       "      <th></th>\n",
       "      <th></th>\n",
       "      <th></th>\n",
       "      <th></th>\n",
       "      <th></th>\n",
       "      <th></th>\n",
       "      <th></th>\n",
       "      <th></th>\n",
       "      <th></th>\n",
       "      <th></th>\n",
       "      <th></th>\n",
       "      <th></th>\n",
       "      <th></th>\n",
       "      <th></th>\n",
       "      <th></th>\n",
       "      <th></th>\n",
       "      <th></th>\n",
       "      <th></th>\n",
       "      <th></th>\n",
       "      <th></th>\n",
       "    </tr>\n",
       "  </thead>\n",
       "  <tbody>\n",
       "    <tr>\n",
       "      <th>2010-01-01</th>\n",
       "      <td>70.0</td>\n",
       "      <td>55.7</td>\n",
       "      <td>45.0</td>\n",
       "      <td>52.0</td>\n",
       "      <td>47.5</td>\n",
       "      <td>41.0</td>\n",
       "      <td>100.0</td>\n",
       "      <td>77.5</td>\n",
       "      <td>43.0</td>\n",
       "      <td>8.0</td>\n",
       "      <td>4.9</td>\n",
       "      <td>0.0</td>\n",
       "      <td>29.2</td>\n",
       "      <td>29.2</td>\n",
       "      <td>29.1</td>\n",
       "      <td>25.0</td>\n",
       "      <td>11.0</td>\n",
       "      <td>57.0</td>\n",
       "      <td>8.0</td>\n",
       "      <td>0.1</td>\n",
       "    </tr>\n",
       "    <tr>\n",
       "      <th>2010-01-02</th>\n",
       "      <td>59.0</td>\n",
       "      <td>50.6</td>\n",
       "      <td>46.0</td>\n",
       "      <td>54.0</td>\n",
       "      <td>49.6</td>\n",
       "      <td>46.0</td>\n",
       "      <td>100.0</td>\n",
       "      <td>96.7</td>\n",
       "      <td>77.0</td>\n",
       "      <td>8.0</td>\n",
       "      <td>4.8</td>\n",
       "      <td>3.0</td>\n",
       "      <td>29.3</td>\n",
       "      <td>29.3</td>\n",
       "      <td>29.2</td>\n",
       "      <td>13.0</td>\n",
       "      <td>8.0</td>\n",
       "      <td>23.0</td>\n",
       "      <td>5.0</td>\n",
       "      <td>0.1</td>\n",
       "    </tr>\n",
       "  </tbody>\n",
       "</table>\n",
       "</div>"
      ],
      "text/plain": [
       "            Max Temperature  Avg Temperature  Min Temperature  Max Dew Point  \\\n",
       "Date                                                                           \n",
       "2010-01-01             70.0             55.7             45.0           52.0   \n",
       "2010-01-02             59.0             50.6             46.0           54.0   \n",
       "\n",
       "            Avg Dew Point  Min Dew Point  Max Humidity  Avg Humidity  \\\n",
       "Date                                                                   \n",
       "2010-01-01           47.5           41.0         100.0          77.5   \n",
       "2010-01-02           49.6           46.0         100.0          96.7   \n",
       "\n",
       "            Min Humidity  Max Wind Speed  Avg Wind Speed  Min Wind Speed  \\\n",
       "Date                                                                       \n",
       "2010-01-01          43.0             8.0             4.9             0.0   \n",
       "2010-01-02          77.0             8.0             4.8             3.0   \n",
       "\n",
       "            Max Pressure  Avg Pressure  Min Pressure  Temperature Range  \\\n",
       "Date                                                                      \n",
       "2010-01-01          29.2          29.2          29.1               25.0   \n",
       "2010-01-02          29.3          29.3          29.2               13.0   \n",
       "\n",
       "            Dew Point Range  Humidity Range  Wind Speed Range  Pressure Range  \n",
       "Date                                                                           \n",
       "2010-01-01             11.0            57.0               8.0             0.1  \n",
       "2010-01-02              8.0            23.0               5.0             0.1  "
      ]
     },
     "execution_count": 8,
     "metadata": {},
     "output_type": "execute_result"
    }
   ],
   "source": [
    "train.head(2)"
   ]
  },
  {
   "cell_type": "code",
   "execution_count": 9,
   "metadata": {},
   "outputs": [
    {
     "data": {
      "text/html": [
       "<div>\n",
       "<style scoped>\n",
       "    .dataframe tbody tr th:only-of-type {\n",
       "        vertical-align: middle;\n",
       "    }\n",
       "\n",
       "    .dataframe tbody tr th {\n",
       "        vertical-align: top;\n",
       "    }\n",
       "\n",
       "    .dataframe thead th {\n",
       "        text-align: right;\n",
       "    }\n",
       "</style>\n",
       "<table border=\"1\" class=\"dataframe\">\n",
       "  <thead>\n",
       "    <tr style=\"text-align: right;\">\n",
       "      <th></th>\n",
       "      <th>Max Temperature</th>\n",
       "      <th>Avg Temperature</th>\n",
       "      <th>Min Temperature</th>\n",
       "      <th>Max Dew Point</th>\n",
       "      <th>Avg Dew Point</th>\n",
       "      <th>Min Dew Point</th>\n",
       "      <th>Max Humidity</th>\n",
       "      <th>Avg Humidity</th>\n",
       "      <th>Min Humidity</th>\n",
       "      <th>Max Wind Speed</th>\n",
       "      <th>Avg Wind Speed</th>\n",
       "      <th>Min Wind Speed</th>\n",
       "      <th>Max Pressure</th>\n",
       "      <th>Avg Pressure</th>\n",
       "      <th>Min Pressure</th>\n",
       "      <th>Temperature Range</th>\n",
       "      <th>Dew Point Range</th>\n",
       "      <th>Humidity Range</th>\n",
       "      <th>Wind Speed Range</th>\n",
       "      <th>Pressure Range</th>\n",
       "    </tr>\n",
       "    <tr>\n",
       "      <th>Date</th>\n",
       "      <th></th>\n",
       "      <th></th>\n",
       "      <th></th>\n",
       "      <th></th>\n",
       "      <th></th>\n",
       "      <th></th>\n",
       "      <th></th>\n",
       "      <th></th>\n",
       "      <th></th>\n",
       "      <th></th>\n",
       "      <th></th>\n",
       "      <th></th>\n",
       "      <th></th>\n",
       "      <th></th>\n",
       "      <th></th>\n",
       "      <th></th>\n",
       "      <th></th>\n",
       "      <th></th>\n",
       "      <th></th>\n",
       "      <th></th>\n",
       "    </tr>\n",
       "  </thead>\n",
       "  <tbody>\n",
       "    <tr>\n",
       "      <th>2020-12-25</th>\n",
       "      <td>70.0</td>\n",
       "      <td>54.0</td>\n",
       "      <td>46.0</td>\n",
       "      <td>50.0</td>\n",
       "      <td>45.6</td>\n",
       "      <td>41.0</td>\n",
       "      <td>100.0</td>\n",
       "      <td>77.1</td>\n",
       "      <td>35.0</td>\n",
       "      <td>10.0</td>\n",
       "      <td>1.6</td>\n",
       "      <td>0.0</td>\n",
       "      <td>29.3</td>\n",
       "      <td>29.2</td>\n",
       "      <td>29.1</td>\n",
       "      <td>24.0</td>\n",
       "      <td>9.0</td>\n",
       "      <td>65.0</td>\n",
       "      <td>10.0</td>\n",
       "      <td>0.2</td>\n",
       "    </tr>\n",
       "    <tr>\n",
       "      <th>2020-12-26</th>\n",
       "      <td>68.0</td>\n",
       "      <td>55.3</td>\n",
       "      <td>45.0</td>\n",
       "      <td>48.0</td>\n",
       "      <td>44.8</td>\n",
       "      <td>41.0</td>\n",
       "      <td>94.0</td>\n",
       "      <td>70.7</td>\n",
       "      <td>40.0</td>\n",
       "      <td>8.0</td>\n",
       "      <td>2.1</td>\n",
       "      <td>0.0</td>\n",
       "      <td>29.2</td>\n",
       "      <td>29.2</td>\n",
       "      <td>29.1</td>\n",
       "      <td>23.0</td>\n",
       "      <td>7.0</td>\n",
       "      <td>54.0</td>\n",
       "      <td>8.0</td>\n",
       "      <td>0.1</td>\n",
       "    </tr>\n",
       "  </tbody>\n",
       "</table>\n",
       "</div>"
      ],
      "text/plain": [
       "            Max Temperature  Avg Temperature  Min Temperature  Max Dew Point  \\\n",
       "Date                                                                           \n",
       "2020-12-25             70.0             54.0             46.0           50.0   \n",
       "2020-12-26             68.0             55.3             45.0           48.0   \n",
       "\n",
       "            Avg Dew Point  Min Dew Point  Max Humidity  Avg Humidity  \\\n",
       "Date                                                                   \n",
       "2020-12-25           45.6           41.0         100.0          77.1   \n",
       "2020-12-26           44.8           41.0          94.0          70.7   \n",
       "\n",
       "            Min Humidity  Max Wind Speed  Avg Wind Speed  Min Wind Speed  \\\n",
       "Date                                                                       \n",
       "2020-12-25          35.0            10.0             1.6             0.0   \n",
       "2020-12-26          40.0             8.0             2.1             0.0   \n",
       "\n",
       "            Max Pressure  Avg Pressure  Min Pressure  Temperature Range  \\\n",
       "Date                                                                      \n",
       "2020-12-25          29.3          29.2          29.1               24.0   \n",
       "2020-12-26          29.2          29.2          29.1               23.0   \n",
       "\n",
       "            Dew Point Range  Humidity Range  Wind Speed Range  Pressure Range  \n",
       "Date                                                                           \n",
       "2020-12-25              9.0            65.0              10.0             0.2  \n",
       "2020-12-26              7.0            54.0               8.0             0.1  "
      ]
     },
     "execution_count": 9,
     "metadata": {},
     "output_type": "execute_result"
    }
   ],
   "source": [
    "test.head(2)"
   ]
  },
  {
   "cell_type": "markdown",
   "metadata": {},
   "source": [
    "### DATA SCALING"
   ]
  },
  {
   "cell_type": "markdown",
   "metadata": {},
   "source": [
    "Scale the train and test data for target column and exogenous columnd seperatly"
   ]
  },
  {
   "cell_type": "code",
   "execution_count": 10,
   "metadata": {},
   "outputs": [],
   "source": [
    "# Import necessary libraries\n",
    "from sklearn.preprocessing import StandardScaler\n",
    "import pandas as pd\n",
    "import numpy as np\n",
    "\n",
    "scaler_target_train = StandardScaler()  # For standardization (mean=0, std=1)\n",
    "scaler_exog_train = StandardScaler()  # For standardization (mean=0, std=1)\n",
    "scaler_target_test = StandardScaler()  # For standardization (mean=0, std=1)\n",
    "\n",
    "## prediction and main modelling will be done on this column\n",
    "target_column = [\"Avg Temperature\"]\n",
    "## exogenous columns (which may effect the target variable, but are not the target variable)\n",
    "exogenous_columns = df.columns.difference(target_column)\n",
    "# print(exogenous_columns)\n",
    "\n",
    "scaler_target_train_data = scaler_target_train.fit_transform(train[target_column])\n",
    "scaler_target_test_data = scaler_target_test.fit_transform(test[target_column])\n",
    "scaler_exog_train_data = scaler_exog_train.fit_transform(train[exogenous_columns])\n",
    "\n",
    "# Convert scaled data back to DataFrame\n",
    "scaler_target_train_df = pd.DataFrame(\n",
    "    scaler_target_train_data, columns=target_column, index=train.index\n",
    ")\n",
    "scaler_target_test_df = pd.DataFrame(\n",
    "    scaler_target_test_data, columns=target_column, index=test.index\n",
    ")\n",
    "scaler_exog_train_df = pd.DataFrame(\n",
    "    scaler_exog_train_data, columns=exogenous_columns, index=train.index\n",
    ")"
   ]
  },
  {
   "cell_type": "code",
   "execution_count": 11,
   "metadata": {},
   "outputs": [
    {
     "data": {
      "text/html": [
       "<div>\n",
       "<style scoped>\n",
       "    .dataframe tbody tr th:only-of-type {\n",
       "        vertical-align: middle;\n",
       "    }\n",
       "\n",
       "    .dataframe tbody tr th {\n",
       "        vertical-align: top;\n",
       "    }\n",
       "\n",
       "    .dataframe thead th {\n",
       "        text-align: right;\n",
       "    }\n",
       "</style>\n",
       "<table border=\"1\" class=\"dataframe\">\n",
       "  <thead>\n",
       "    <tr style=\"text-align: right;\">\n",
       "      <th></th>\n",
       "      <th>Avg Temperature</th>\n",
       "    </tr>\n",
       "    <tr>\n",
       "      <th>Date</th>\n",
       "      <th></th>\n",
       "    </tr>\n",
       "  </thead>\n",
       "  <tbody>\n",
       "    <tr>\n",
       "      <th>2010-01-01</th>\n",
       "      <td>-1.606275</td>\n",
       "    </tr>\n",
       "    <tr>\n",
       "      <th>2010-01-02</th>\n",
       "      <td>-1.981713</td>\n",
       "    </tr>\n",
       "    <tr>\n",
       "      <th>2010-01-03</th>\n",
       "      <td>-1.819760</td>\n",
       "    </tr>\n",
       "    <tr>\n",
       "      <th>2010-01-04</th>\n",
       "      <td>-1.952267</td>\n",
       "    </tr>\n",
       "    <tr>\n",
       "      <th>2010-01-05</th>\n",
       "      <td>-1.797675</td>\n",
       "    </tr>\n",
       "  </tbody>\n",
       "</table>\n",
       "</div>"
      ],
      "text/plain": [
       "            Avg Temperature\n",
       "Date                       \n",
       "2010-01-01        -1.606275\n",
       "2010-01-02        -1.981713\n",
       "2010-01-03        -1.819760\n",
       "2010-01-04        -1.952267\n",
       "2010-01-05        -1.797675"
      ]
     },
     "execution_count": 11,
     "metadata": {},
     "output_type": "execute_result"
    }
   ],
   "source": [
    "scaler_target_train_df.head()"
   ]
  },
  {
   "cell_type": "code",
   "execution_count": 12,
   "metadata": {},
   "outputs": [
    {
     "data": {
      "text/html": [
       "<div>\n",
       "<style scoped>\n",
       "    .dataframe tbody tr th:only-of-type {\n",
       "        vertical-align: middle;\n",
       "    }\n",
       "\n",
       "    .dataframe tbody tr th {\n",
       "        vertical-align: top;\n",
       "    }\n",
       "\n",
       "    .dataframe thead th {\n",
       "        text-align: right;\n",
       "    }\n",
       "</style>\n",
       "<table border=\"1\" class=\"dataframe\">\n",
       "  <thead>\n",
       "    <tr style=\"text-align: right;\">\n",
       "      <th></th>\n",
       "      <th>Avg Temperature</th>\n",
       "    </tr>\n",
       "    <tr>\n",
       "      <th>Date</th>\n",
       "      <th></th>\n",
       "    </tr>\n",
       "  </thead>\n",
       "  <tbody>\n",
       "    <tr>\n",
       "      <th>2020-12-25</th>\n",
       "      <td>-1.852604</td>\n",
       "    </tr>\n",
       "    <tr>\n",
       "      <th>2020-12-26</th>\n",
       "      <td>-1.752019</td>\n",
       "    </tr>\n",
       "    <tr>\n",
       "      <th>2020-12-27</th>\n",
       "      <td>-1.458000</td>\n",
       "    </tr>\n",
       "    <tr>\n",
       "      <th>2020-12-28</th>\n",
       "      <td>-1.852604</td>\n",
       "    </tr>\n",
       "    <tr>\n",
       "      <th>2020-12-29</th>\n",
       "      <td>-2.146623</td>\n",
       "    </tr>\n",
       "  </tbody>\n",
       "</table>\n",
       "</div>"
      ],
      "text/plain": [
       "            Avg Temperature\n",
       "Date                       \n",
       "2020-12-25        -1.852604\n",
       "2020-12-26        -1.752019\n",
       "2020-12-27        -1.458000\n",
       "2020-12-28        -1.852604\n",
       "2020-12-29        -2.146623"
      ]
     },
     "execution_count": 12,
     "metadata": {},
     "output_type": "execute_result"
    }
   ],
   "source": [
    "scaler_target_test_df.head()"
   ]
  },
  {
   "cell_type": "code",
   "execution_count": 13,
   "metadata": {},
   "outputs": [
    {
     "data": {
      "text/html": [
       "<div>\n",
       "<style scoped>\n",
       "    .dataframe tbody tr th:only-of-type {\n",
       "        vertical-align: middle;\n",
       "    }\n",
       "\n",
       "    .dataframe tbody tr th {\n",
       "        vertical-align: top;\n",
       "    }\n",
       "\n",
       "    .dataframe thead th {\n",
       "        text-align: right;\n",
       "    }\n",
       "</style>\n",
       "<table border=\"1\" class=\"dataframe\">\n",
       "  <thead>\n",
       "    <tr style=\"text-align: right;\">\n",
       "      <th></th>\n",
       "      <th>Avg Dew Point</th>\n",
       "      <th>Avg Humidity</th>\n",
       "      <th>Avg Pressure</th>\n",
       "      <th>Avg Wind Speed</th>\n",
       "      <th>Dew Point Range</th>\n",
       "      <th>Humidity Range</th>\n",
       "      <th>Max Dew Point</th>\n",
       "      <th>Max Humidity</th>\n",
       "      <th>Max Pressure</th>\n",
       "      <th>Max Temperature</th>\n",
       "      <th>Max Wind Speed</th>\n",
       "      <th>Min Dew Point</th>\n",
       "      <th>Min Humidity</th>\n",
       "      <th>Min Pressure</th>\n",
       "      <th>Min Temperature</th>\n",
       "      <th>Min Wind Speed</th>\n",
       "      <th>Pressure Range</th>\n",
       "      <th>Temperature Range</th>\n",
       "      <th>Wind Speed Range</th>\n",
       "    </tr>\n",
       "    <tr>\n",
       "      <th>Date</th>\n",
       "      <th></th>\n",
       "      <th></th>\n",
       "      <th></th>\n",
       "      <th></th>\n",
       "      <th></th>\n",
       "      <th></th>\n",
       "      <th></th>\n",
       "      <th></th>\n",
       "      <th></th>\n",
       "      <th></th>\n",
       "      <th></th>\n",
       "      <th></th>\n",
       "      <th></th>\n",
       "      <th></th>\n",
       "      <th></th>\n",
       "      <th></th>\n",
       "      <th></th>\n",
       "      <th></th>\n",
       "      <th></th>\n",
       "    </tr>\n",
       "  </thead>\n",
       "  <tbody>\n",
       "    <tr>\n",
       "      <th>2010-01-01</th>\n",
       "      <td>-0.964769</td>\n",
       "      <td>0.876016</td>\n",
       "      <td>1.073453</td>\n",
       "      <td>-0.286889</td>\n",
       "      <td>-0.061065</td>\n",
       "      <td>0.706767</td>\n",
       "      <td>-1.033292</td>\n",
       "      <td>0.945964</td>\n",
       "      <td>0.878049</td>\n",
       "      <td>-1.341941</td>\n",
       "      <td>-0.265483</td>\n",
       "      <td>-0.687252</td>\n",
       "      <td>0.293586</td>\n",
       "      <td>0.211023</td>\n",
       "      <td>-1.192400</td>\n",
       "      <td>-0.504066</td>\n",
       "      <td>-0.174276</td>\n",
       "      <td>0.238151</td>\n",
       "      <td>-0.213906</td>\n",
       "    </tr>\n",
       "    <tr>\n",
       "      <th>2010-01-02</th>\n",
       "      <td>-0.797349</td>\n",
       "      <td>1.852491</td>\n",
       "      <td>1.480941</td>\n",
       "      <td>-0.330412</td>\n",
       "      <td>-0.322241</td>\n",
       "      <td>-1.368066</td>\n",
       "      <td>-0.866932</td>\n",
       "      <td>0.945964</td>\n",
       "      <td>1.376859</td>\n",
       "      <td>-2.166875</td>\n",
       "      <td>-0.265483</td>\n",
       "      <td>-0.394078</td>\n",
       "      <td>2.016845</td>\n",
       "      <td>0.232001</td>\n",
       "      <td>-1.135197</td>\n",
       "      <td>1.129563</td>\n",
       "      <td>-0.174276</td>\n",
       "      <td>-0.730234</td>\n",
       "      <td>-0.382992</td>\n",
       "    </tr>\n",
       "    <tr>\n",
       "      <th>2010-01-03</th>\n",
       "      <td>-0.598039</td>\n",
       "      <td>1.883005</td>\n",
       "      <td>1.073453</td>\n",
       "      <td>0.801186</td>\n",
       "      <td>-0.235182</td>\n",
       "      <td>-1.673189</td>\n",
       "      <td>-0.617390</td>\n",
       "      <td>0.945964</td>\n",
       "      <td>1.376859</td>\n",
       "      <td>-2.316862</td>\n",
       "      <td>-0.040539</td>\n",
       "      <td>-0.276808</td>\n",
       "      <td>2.270266</td>\n",
       "      <td>0.232001</td>\n",
       "      <td>-1.020791</td>\n",
       "      <td>1.129563</td>\n",
       "      <td>-0.174276</td>\n",
       "      <td>-1.053028</td>\n",
       "      <td>-0.157544</td>\n",
       "    </tr>\n",
       "    <tr>\n",
       "      <th>2010-01-04</th>\n",
       "      <td>-0.893017</td>\n",
       "      <td>1.608372</td>\n",
       "      <td>1.073453</td>\n",
       "      <td>2.368014</td>\n",
       "      <td>-0.844592</td>\n",
       "      <td>-1.368066</td>\n",
       "      <td>-1.199653</td>\n",
       "      <td>0.945964</td>\n",
       "      <td>1.376859</td>\n",
       "      <td>-2.466850</td>\n",
       "      <td>0.128169</td>\n",
       "      <td>-0.276808</td>\n",
       "      <td>2.016845</td>\n",
       "      <td>0.211023</td>\n",
       "      <td>-1.020791</td>\n",
       "      <td>3.307735</td>\n",
       "      <td>-0.153277</td>\n",
       "      <td>-1.214426</td>\n",
       "      <td>-0.213906</td>\n",
       "    </tr>\n",
       "    <tr>\n",
       "      <th>2010-01-05</th>\n",
       "      <td>-0.932879</td>\n",
       "      <td>1.262537</td>\n",
       "      <td>0.665966</td>\n",
       "      <td>0.061295</td>\n",
       "      <td>-0.496358</td>\n",
       "      <td>-0.025527</td>\n",
       "      <td>-1.033292</td>\n",
       "      <td>0.945964</td>\n",
       "      <td>0.878049</td>\n",
       "      <td>-1.866899</td>\n",
       "      <td>0.071933</td>\n",
       "      <td>-0.394078</td>\n",
       "      <td>0.901795</td>\n",
       "      <td>0.211023</td>\n",
       "      <td>-1.135197</td>\n",
       "      <td>-0.504066</td>\n",
       "      <td>-0.174276</td>\n",
       "      <td>-0.407439</td>\n",
       "      <td>0.124266</td>\n",
       "    </tr>\n",
       "  </tbody>\n",
       "</table>\n",
       "</div>"
      ],
      "text/plain": [
       "            Avg Dew Point  Avg Humidity  Avg Pressure  Avg Wind Speed  \\\n",
       "Date                                                                    \n",
       "2010-01-01      -0.964769      0.876016      1.073453       -0.286889   \n",
       "2010-01-02      -0.797349      1.852491      1.480941       -0.330412   \n",
       "2010-01-03      -0.598039      1.883005      1.073453        0.801186   \n",
       "2010-01-04      -0.893017      1.608372      1.073453        2.368014   \n",
       "2010-01-05      -0.932879      1.262537      0.665966        0.061295   \n",
       "\n",
       "            Dew Point Range  Humidity Range  Max Dew Point  Max Humidity  \\\n",
       "Date                                                                       \n",
       "2010-01-01        -0.061065        0.706767      -1.033292      0.945964   \n",
       "2010-01-02        -0.322241       -1.368066      -0.866932      0.945964   \n",
       "2010-01-03        -0.235182       -1.673189      -0.617390      0.945964   \n",
       "2010-01-04        -0.844592       -1.368066      -1.199653      0.945964   \n",
       "2010-01-05        -0.496358       -0.025527      -1.033292      0.945964   \n",
       "\n",
       "            Max Pressure  Max Temperature  Max Wind Speed  Min Dew Point  \\\n",
       "Date                                                                       \n",
       "2010-01-01      0.878049        -1.341941       -0.265483      -0.687252   \n",
       "2010-01-02      1.376859        -2.166875       -0.265483      -0.394078   \n",
       "2010-01-03      1.376859        -2.316862       -0.040539      -0.276808   \n",
       "2010-01-04      1.376859        -2.466850        0.128169      -0.276808   \n",
       "2010-01-05      0.878049        -1.866899        0.071933      -0.394078   \n",
       "\n",
       "            Min Humidity  Min Pressure  Min Temperature  Min Wind Speed  \\\n",
       "Date                                                                      \n",
       "2010-01-01      0.293586      0.211023        -1.192400       -0.504066   \n",
       "2010-01-02      2.016845      0.232001        -1.135197        1.129563   \n",
       "2010-01-03      2.270266      0.232001        -1.020791        1.129563   \n",
       "2010-01-04      2.016845      0.211023        -1.020791        3.307735   \n",
       "2010-01-05      0.901795      0.211023        -1.135197       -0.504066   \n",
       "\n",
       "            Pressure Range  Temperature Range  Wind Speed Range  \n",
       "Date                                                             \n",
       "2010-01-01       -0.174276           0.238151         -0.213906  \n",
       "2010-01-02       -0.174276          -0.730234         -0.382992  \n",
       "2010-01-03       -0.174276          -1.053028         -0.157544  \n",
       "2010-01-04       -0.153277          -1.214426         -0.213906  \n",
       "2010-01-05       -0.174276          -0.407439          0.124266  "
      ]
     },
     "execution_count": 13,
     "metadata": {},
     "output_type": "execute_result"
    }
   ],
   "source": [
    "scaler_exog_train_df.head()"
   ]
  },
  {
   "cell_type": "code",
   "execution_count": null,
   "metadata": {},
   "outputs": [],
   "source": []
  },
  {
   "cell_type": "markdown",
   "metadata": {},
   "source": [
    "#### checking significant values in all columns, so that nothing is null after scaling"
   ]
  },
  {
   "cell_type": "code",
   "execution_count": 14,
   "metadata": {},
   "outputs": [
    {
     "data": {
      "text/plain": [
       "Avg Dew Point        0\n",
       "Avg Humidity         0\n",
       "Avg Pressure         0\n",
       "Avg Wind Speed       0\n",
       "Dew Point Range      0\n",
       "Humidity Range       0\n",
       "Max Dew Point        0\n",
       "Max Humidity         0\n",
       "Max Pressure         0\n",
       "Max Temperature      0\n",
       "Max Wind Speed       0\n",
       "Min Dew Point        0\n",
       "Min Humidity         0\n",
       "Min Pressure         0\n",
       "Min Temperature      0\n",
       "Min Wind Speed       0\n",
       "Pressure Range       0\n",
       "Temperature Range    0\n",
       "Wind Speed Range     0\n",
       "dtype: int64"
      ]
     },
     "execution_count": 14,
     "metadata": {},
     "output_type": "execute_result"
    }
   ],
   "source": [
    "scaler_exog_train_df.isnull().sum()"
   ]
  },
  {
   "cell_type": "code",
   "execution_count": null,
   "metadata": {},
   "outputs": [],
   "source": []
  },
  {
   "cell_type": "markdown",
   "metadata": {},
   "source": [
    "### ARIMA AND SARIMA MODELS"
   ]
  },
  {
   "cell_type": "markdown",
   "metadata": {},
   "source": [
    "#### Checking for stationarity in target column"
   ]
  },
  {
   "cell_type": "code",
   "execution_count": 15,
   "metadata": {},
   "outputs": [
    {
     "name": "stdout",
     "output_type": "stream",
     "text": [
      "ADF Statistic: -4.753225254555017\n",
      "p-value: 6.677157972465271e-05\n",
      "n-lags: 31\n",
      "Critical values: {'1%': -3.431995342165344, '5%': -2.862267022165729, '10%': -2.5671570018383933}\n"
     ]
    }
   ],
   "source": [
    "# Import required libraries\n",
    "from statsmodels.tsa.statespace.sarimax import SARIMAX\n",
    "from statsmodels.tsa.stattools import adfuller\n",
    "from sklearn.metrics import mean_squared_error\n",
    "import matplotlib.pyplot as plt\n",
    "\n",
    "\n",
    "# Check for stationarity using Augmented Dickey-Fuller test\n",
    "def check_stationarity(data):\n",
    "    result = adfuller(data, autolag=\"AIC\")\n",
    "    print(\"ADF Statistic:\", result[0])\n",
    "    print(\"p-value:\", result[1])\n",
    "    print(\"n-lags:\", result[2])\n",
    "    print(\"Critical values:\", result[4])\n",
    "\n",
    "\n",
    "# ARIMA Model\n",
    "def fit_arima(data, order, exogenous_df=None):\n",
    "    model = SARIMAX(data, order=order, exog=exogenous_df)\n",
    "    results = model.fit(method=\"powell\", maxiter=500)\n",
    "    return results\n",
    "\n",
    "\n",
    "# SARIMA Model\n",
    "def fit_sarima(data, order, seasonal_order, exogenous_df=None):\n",
    "    model = SARIMAX(data, order=order, seasonal_order=seasonal_order, exog=exogenous_df)\n",
    "    results = model.fit(method=\"powell\", maxiter=500)\n",
    "    return results\n",
    "\n",
    "\n",
    "# Check stationarity\n",
    "check_stationarity(scaler_target_train_df)"
   ]
  },
  {
   "cell_type": "markdown",
   "metadata": {},
   "source": [
    "1️⃣ Checking Stationarity (p-value & ADF Statistic)\n",
    "\n",
    "→ p-value = 6.68e-05 (Much less than 0.05)\n",
    "Reject the null hypothesis (H₀) → The time series is stationary.\n",
    "\n",
    "→ ADF Statistic = -4.7532 (Lower than all critical values)\n",
    "\n",
    "→ Compare with the critical values:\n",
    "1% (-3.4320)\n",
    "5% (-2.8623)\n",
    "10% (-2.5672)\n",
    "\n",
    "→ Since -4.7532 < all critical values, this confirms strong stationarity."
   ]
  },
  {
   "cell_type": "markdown",
   "metadata": {},
   "source": [
    "#### Grid search to check for best arimax model parameters"
   ]
  },
  {
   "cell_type": "code",
   "execution_count": 45,
   "metadata": {},
   "outputs": [
    {
     "name": "stdout",
     "output_type": "stream",
     "text": [
      "Optimization terminated successfully.\n",
      "         Current function value: 1.418939\n",
      "         Iterations: 1\n",
      "         Function evaluations: 20\n",
      "Optimization terminated successfully.\n",
      "         Current function value: 0.873083\n",
      "         Iterations: 2\n",
      "         Function evaluations: 48\n",
      "Optimization terminated successfully.\n",
      "         Current function value: 0.552315\n",
      "         Iterations: 3\n",
      "         Function evaluations: 112\n",
      "Optimization terminated successfully.\n",
      "         Current function value: 0.370072\n",
      "         Iterations: 4\n",
      "         Function evaluations: 193\n",
      "Optimization terminated successfully.\n",
      "         Current function value: 0.261779\n",
      "         Iterations: 5\n",
      "         Function evaluations: 296\n",
      "Optimization terminated successfully.\n",
      "         Current function value: 0.187228\n",
      "         Iterations: 5\n",
      "         Function evaluations: 343\n",
      "Optimization terminated successfully.\n",
      "         Current function value: 0.141843\n",
      "         Iterations: 6\n",
      "         Function evaluations: 477\n",
      "Optimization terminated successfully.\n",
      "         Current function value: 0.107885\n",
      "         Iterations: 6\n",
      "         Function evaluations: 537\n",
      "Optimization terminated successfully.\n",
      "         Current function value: 0.079443\n",
      "         Iterations: 6\n",
      "         Function evaluations: 595\n",
      "Optimization terminated successfully.\n",
      "         Current function value: 0.058239\n",
      "         Iterations: 7\n",
      "         Function evaluations: 764\n",
      "Optimization terminated successfully.\n",
      "         Current function value: -0.075229\n",
      "         Iterations: 1\n",
      "         Function evaluations: 17\n",
      "Optimization terminated successfully.\n",
      "         Current function value: -0.077573\n",
      "         Iterations: 1\n",
      "         Function evaluations: 28\n",
      "Optimization terminated successfully.\n",
      "         Current function value: -0.097072\n",
      "         Iterations: 3\n",
      "         Function evaluations: 117\n",
      "Optimization terminated successfully.\n",
      "         Current function value: -0.108400\n",
      "         Iterations: 3\n",
      "         Function evaluations: 161\n",
      "Optimization terminated successfully.\n",
      "         Current function value: -0.110768\n",
      "         Iterations: 2\n",
      "         Function evaluations: 122\n",
      "Optimization terminated successfully.\n",
      "         Current function value: -0.111032\n",
      "         Iterations: 2\n",
      "         Function evaluations: 137\n",
      "Optimization terminated successfully.\n",
      "         Current function value: -0.111032\n",
      "         Iterations: 2\n",
      "         Function evaluations: 157\n",
      "Optimization terminated successfully.\n",
      "         Current function value: -0.111814\n",
      "         Iterations: 2\n",
      "         Function evaluations: 193\n",
      "Optimization terminated successfully.\n",
      "         Current function value: -0.112030\n",
      "         Iterations: 2\n",
      "         Function evaluations: 200\n",
      "Optimization terminated successfully.\n",
      "         Current function value: -0.112050\n",
      "         Iterations: 2\n",
      "         Function evaluations: 217\n",
      "Optimization terminated successfully.\n",
      "         Current function value: -0.081018\n",
      "         Iterations: 1\n",
      "         Function evaluations: 28\n",
      "Optimization terminated successfully.\n",
      "         Current function value: -0.082433\n",
      "         Iterations: 2\n",
      "         Function evaluations: 83\n",
      "Optimization terminated successfully.\n",
      "         Current function value: -0.099036\n",
      "         Iterations: 4\n",
      "         Function evaluations: 200\n",
      "Optimization terminated successfully.\n",
      "         Current function value: -0.109473\n",
      "         Iterations: 3\n",
      "         Function evaluations: 170\n",
      "Optimization terminated successfully.\n",
      "         Current function value: -0.111655\n",
      "         Iterations: 2\n",
      "         Function evaluations: 136\n",
      "Optimization terminated successfully.\n",
      "         Current function value: -0.111875\n",
      "         Iterations: 3\n",
      "         Function evaluations: 230\n",
      "Optimization terminated successfully.\n",
      "         Current function value: -0.111879\n",
      "         Iterations: 3\n",
      "         Function evaluations: 259\n",
      "Optimization terminated successfully.\n",
      "         Current function value: -0.112739\n",
      "         Iterations: 3\n",
      "         Function evaluations: 294\n",
      "Optimization terminated successfully.\n",
      "         Current function value: -0.112994\n",
      "         Iterations: 2\n",
      "         Function evaluations: 212\n",
      "Optimization terminated successfully.\n",
      "         Current function value: -0.113027\n",
      "         Iterations: 2\n",
      "         Function evaluations: 230\n",
      "Optimization terminated successfully.\n",
      "         Current function value: -0.076832\n",
      "         Iterations: 1\n",
      "         Function evaluations: 28\n"
     ]
    },
    {
     "name": "stderr",
     "output_type": "stream",
     "text": [
      "d:\\Work\\Development\\Python\\SDP\\venv\\lib\\site-packages\\statsmodels\\tsa\\statespace\\sarimax.py:966: UserWarning: Non-stationary starting autoregressive parameters found. Using zeros as starting parameters.\n",
      "  warn('Non-stationary starting autoregressive parameters'\n",
      "d:\\Work\\Development\\Python\\SDP\\venv\\lib\\site-packages\\statsmodels\\tsa\\statespace\\sarimax.py:978: UserWarning: Non-invertible starting MA parameters found. Using zeros as starting parameters.\n",
      "  warn('Non-invertible starting MA parameters found.'\n"
     ]
    },
    {
     "name": "stdout",
     "output_type": "stream",
     "text": [
      "Optimization terminated successfully.\n",
      "         Current function value: -0.104046\n",
      "         Iterations: 5\n",
      "         Function evaluations: 217\n",
      "Optimization terminated successfully.\n",
      "         Current function value: -0.110017\n",
      "         Iterations: 5\n",
      "         Function evaluations: 252\n",
      "Optimization terminated successfully.\n",
      "         Current function value: -0.110741\n",
      "         Iterations: 6\n",
      "         Function evaluations: 361\n",
      "Optimization terminated successfully.\n",
      "         Current function value: -0.110630\n",
      "         Iterations: 3\n",
      "         Function evaluations: 210\n",
      "Optimization terminated successfully.\n",
      "         Current function value: -0.110952\n",
      "         Iterations: 2\n",
      "         Function evaluations: 159\n",
      "Optimization terminated successfully.\n",
      "         Current function value: -0.111092\n",
      "         Iterations: 2\n",
      "         Function evaluations: 173\n",
      "Optimization terminated successfully.\n",
      "         Current function value: -0.112053\n",
      "         Iterations: 2\n",
      "         Function evaluations: 208\n",
      "Optimization terminated successfully.\n",
      "         Current function value: -0.112046\n",
      "         Iterations: 2\n",
      "         Function evaluations: 221\n",
      "Optimization terminated successfully.\n",
      "         Current function value: -0.112087\n",
      "         Iterations: 2\n",
      "         Function evaluations: 236\n",
      "Optimization terminated successfully.\n",
      "         Current function value: -0.082008\n",
      "         Iterations: 1\n",
      "         Function evaluations: 39\n"
     ]
    },
    {
     "name": "stderr",
     "output_type": "stream",
     "text": [
      "d:\\Work\\Development\\Python\\SDP\\venv\\lib\\site-packages\\statsmodels\\tsa\\statespace\\sarimax.py:966: UserWarning: Non-stationary starting autoregressive parameters found. Using zeros as starting parameters.\n",
      "  warn('Non-stationary starting autoregressive parameters'\n",
      "d:\\Work\\Development\\Python\\SDP\\venv\\lib\\site-packages\\statsmodels\\tsa\\statespace\\sarimax.py:978: UserWarning: Non-invertible starting MA parameters found. Using zeros as starting parameters.\n",
      "  warn('Non-invertible starting MA parameters found.'\n"
     ]
    },
    {
     "name": "stdout",
     "output_type": "stream",
     "text": [
      "Optimization terminated successfully.\n",
      "         Current function value: -0.104892\n",
      "         Iterations: 7\n",
      "         Function evaluations: 371\n"
     ]
    },
    {
     "name": "stderr",
     "output_type": "stream",
     "text": [
      "d:\\Work\\Development\\Python\\SDP\\venv\\lib\\site-packages\\statsmodels\\tsa\\statespace\\sarimax.py:966: UserWarning: Non-stationary starting autoregressive parameters found. Using zeros as starting parameters.\n",
      "  warn('Non-stationary starting autoregressive parameters'\n"
     ]
    },
    {
     "name": "stdout",
     "output_type": "stream",
     "text": [
      "Optimization terminated successfully.\n",
      "         Current function value: -0.110216\n",
      "         Iterations: 5\n",
      "         Function evaluations: 319\n",
      "Optimization terminated successfully.\n",
      "         Current function value: -0.111591\n",
      "         Iterations: 6\n",
      "         Function evaluations: 412\n",
      "Optimization terminated successfully.\n",
      "         Current function value: -0.111632\n",
      "         Iterations: 3\n",
      "         Function evaluations: 229\n",
      "Optimization terminated successfully.\n",
      "         Current function value: -0.111766\n",
      "         Iterations: 3\n",
      "         Function evaluations: 259\n",
      "Optimization terminated successfully.\n",
      "         Current function value: -0.111914\n",
      "         Iterations: 3\n",
      "         Function evaluations: 292\n",
      "Optimization terminated successfully.\n",
      "         Current function value: -0.113040\n",
      "         Iterations: 2\n",
      "         Function evaluations: 213\n",
      "Optimization terminated successfully.\n",
      "         Current function value: -0.113083\n",
      "         Iterations: 2\n",
      "         Function evaluations: 236\n",
      "Optimization terminated successfully.\n",
      "         Current function value: -0.113069\n",
      "         Iterations: 3\n",
      "         Function evaluations: 382\n",
      "Optimization terminated successfully.\n",
      "         Current function value: -0.088135\n",
      "         Iterations: 1\n",
      "         Function evaluations: 38\n",
      "Optimization terminated successfully.\n",
      "         Current function value: -0.110757\n",
      "         Iterations: 4\n",
      "         Function evaluations: 211\n",
      "Optimization terminated successfully.\n",
      "         Current function value: -0.111710\n",
      "         Iterations: 12\n",
      "         Function evaluations: 728\n",
      "Optimization terminated successfully.\n",
      "         Current function value: -0.110612\n",
      "         Iterations: 5\n",
      "         Function evaluations: 347\n",
      "Optimization terminated successfully.\n",
      "         Current function value: -0.111321\n",
      "         Iterations: 6\n",
      "         Function evaluations: 488\n",
      "Optimization terminated successfully.\n",
      "         Current function value: -0.111449\n",
      "         Iterations: 2\n",
      "         Function evaluations: 187\n",
      "Optimization terminated successfully.\n",
      "         Current function value: -0.111424\n",
      "         Iterations: 2\n",
      "         Function evaluations: 204\n",
      "Optimization terminated successfully.\n",
      "         Current function value: -0.111517\n",
      "         Iterations: 2\n",
      "         Function evaluations: 217\n",
      "Optimization terminated successfully.\n",
      "         Current function value: -0.111441\n",
      "         Iterations: 2\n",
      "         Function evaluations: 242\n",
      "Optimization terminated successfully.\n",
      "         Current function value: -0.112040\n",
      "         Iterations: 3\n",
      "         Function evaluations: 411\n",
      "Optimization terminated successfully.\n",
      "         Current function value: -0.091858\n",
      "         Iterations: 1\n",
      "         Function evaluations: 48\n",
      "Optimization terminated successfully.\n",
      "         Current function value: -0.111609\n",
      "         Iterations: 6\n",
      "         Function evaluations: 369\n"
     ]
    },
    {
     "name": "stderr",
     "output_type": "stream",
     "text": [
      "d:\\Work\\Development\\Python\\SDP\\venv\\lib\\site-packages\\statsmodels\\tsa\\statespace\\sarimax.py:966: UserWarning: Non-stationary starting autoregressive parameters found. Using zeros as starting parameters.\n",
      "  warn('Non-stationary starting autoregressive parameters'\n",
      "d:\\Work\\Development\\Python\\SDP\\venv\\lib\\site-packages\\statsmodels\\tsa\\statespace\\sarimax.py:978: UserWarning: Non-invertible starting MA parameters found. Using zeros as starting parameters.\n",
      "  warn('Non-invertible starting MA parameters found.'\n"
     ]
    },
    {
     "name": "stdout",
     "output_type": "stream",
     "text": [
      "Optimization terminated successfully.\n",
      "         Current function value: -0.112664\n",
      "         Iterations: 17\n",
      "         Function evaluations: 1204\n",
      "Optimization terminated successfully.\n",
      "         Current function value: -0.111552\n",
      "         Iterations: 5\n",
      "         Function evaluations: 407\n",
      "Optimization terminated successfully.\n",
      "         Current function value: -0.111860\n",
      "         Iterations: 4\n",
      "         Function evaluations: 355\n",
      "Optimization terminated successfully.\n",
      "         Current function value: -0.112346\n",
      "         Iterations: 2\n",
      "         Function evaluations: 198\n",
      "Optimization terminated successfully.\n",
      "         Current function value: -0.112218\n",
      "         Iterations: 3\n",
      "         Function evaluations: 334\n",
      "Optimization terminated successfully.\n",
      "         Current function value: -0.112468\n",
      "         Iterations: 2\n",
      "         Function evaluations: 237\n",
      "Optimization terminated successfully.\n",
      "         Current function value: -0.112284\n",
      "         Iterations: 3\n",
      "         Function evaluations: 392\n",
      "Optimization terminated successfully.\n",
      "         Current function value: -0.112803\n",
      "         Iterations: 3\n",
      "         Function evaluations: 426\n",
      "Optimization terminated successfully.\n",
      "         Current function value: -0.096607\n",
      "         Iterations: 1\n",
      "         Function evaluations: 49\n",
      "Optimization terminated successfully.\n",
      "         Current function value: -0.111266\n",
      "         Iterations: 6\n",
      "         Function evaluations: 371\n",
      "Optimization terminated successfully.\n",
      "         Current function value: -0.110791\n",
      "         Iterations: 4\n",
      "         Function evaluations: 286\n",
      "Optimization terminated successfully.\n",
      "         Current function value: -0.110929\n",
      "         Iterations: 4\n",
      "         Function evaluations: 315\n",
      "Optimization terminated successfully.\n",
      "         Current function value: -0.111794\n",
      "         Iterations: 5\n",
      "         Function evaluations: 471\n",
      "Optimization terminated successfully.\n",
      "         Current function value: -0.111427\n",
      "         Iterations: 5\n",
      "         Function evaluations: 530\n",
      "Optimization terminated successfully.\n",
      "         Current function value: -0.111286\n",
      "         Iterations: 3\n",
      "         Function evaluations: 347\n",
      "Optimization terminated successfully.\n",
      "         Current function value: -0.111769\n",
      "         Iterations: 2\n",
      "         Function evaluations: 246\n",
      "Optimization terminated successfully.\n",
      "         Current function value: -0.111561\n",
      "         Iterations: 3\n",
      "         Function evaluations: 397\n",
      "Optimization terminated successfully.\n",
      "         Current function value: -0.112150\n",
      "         Iterations: 3\n",
      "         Function evaluations: 426\n",
      "Optimization terminated successfully.\n",
      "         Current function value: -0.099365\n",
      "         Iterations: 1\n",
      "         Function evaluations: 60\n",
      "Optimization terminated successfully.\n",
      "         Current function value: -0.112143\n",
      "         Iterations: 7\n",
      "         Function evaluations: 501\n",
      "Optimization terminated successfully.\n",
      "         Current function value: -0.111646\n",
      "         Iterations: 4\n",
      "         Function evaluations: 324\n",
      "Optimization terminated successfully.\n",
      "         Current function value: -0.111755\n",
      "         Iterations: 5\n",
      "         Function evaluations: 460\n",
      "Optimization terminated successfully.\n",
      "         Current function value: -0.112106\n",
      "         Iterations: 5\n",
      "         Function evaluations: 489\n",
      "Optimization terminated successfully.\n",
      "         Current function value: -0.112413\n",
      "         Iterations: 5\n",
      "         Function evaluations: 567\n",
      "Optimization terminated successfully.\n",
      "         Current function value: -0.112130\n",
      "         Iterations: 3\n",
      "         Function evaluations: 358\n",
      "Optimization terminated successfully.\n",
      "         Current function value: -0.112734\n",
      "         Iterations: 2\n",
      "         Function evaluations: 257\n",
      "Optimization terminated successfully.\n",
      "         Current function value: -0.112560\n",
      "         Iterations: 3\n",
      "         Function evaluations: 420\n",
      "Optimization terminated successfully.\n",
      "         Current function value: -0.112934\n",
      "         Iterations: 3\n",
      "         Function evaluations: 455\n",
      "Optimization terminated successfully.\n",
      "         Current function value: -0.102679\n",
      "         Iterations: 1\n",
      "         Function evaluations: 65\n",
      "Optimization terminated successfully.\n",
      "         Current function value: -0.111615\n",
      "         Iterations: 5\n",
      "         Function evaluations: 370\n",
      "Optimization terminated successfully.\n",
      "         Current function value: -0.111331\n",
      "         Iterations: 5\n",
      "         Function evaluations: 427\n",
      "Optimization terminated successfully.\n",
      "         Current function value: -0.110998\n",
      "         Iterations: 4\n",
      "         Function evaluations: 363\n",
      "Optimization terminated successfully.\n",
      "         Current function value: -0.111880\n",
      "         Iterations: 3\n",
      "         Function evaluations: 309\n",
      "Optimization terminated successfully.\n",
      "         Current function value: -0.112043\n",
      "         Iterations: 4\n",
      "         Function evaluations: 463\n",
      "Optimization terminated successfully.\n",
      "         Current function value: -0.111751\n",
      "         Iterations: 2\n",
      "         Function evaluations: 246\n",
      "Optimization terminated successfully.\n",
      "         Current function value: -0.111816\n",
      "         Iterations: 2\n",
      "         Function evaluations: 266\n",
      "Optimization terminated successfully.\n",
      "         Current function value: -0.111552\n",
      "         Iterations: 3\n",
      "         Function evaluations: 429\n",
      "Optimization terminated successfully.\n",
      "         Current function value: -0.112014\n",
      "         Iterations: 3\n",
      "         Function evaluations: 459\n",
      "Optimization terminated successfully.\n",
      "         Current function value: -0.104792\n",
      "         Iterations: 1\n",
      "         Function evaluations: 70\n",
      "Optimization terminated successfully.\n",
      "         Current function value: -0.112519\n",
      "         Iterations: 10\n",
      "         Function evaluations: 818\n",
      "Optimization terminated successfully.\n",
      "         Current function value: -0.112145\n",
      "         Iterations: 4\n",
      "         Function evaluations: 370\n",
      "Optimization terminated successfully.\n",
      "         Current function value: -0.112083\n",
      "         Iterations: 5\n",
      "         Function evaluations: 512\n",
      "Optimization terminated successfully.\n",
      "         Current function value: -0.112726\n",
      "         Iterations: 5\n",
      "         Function evaluations: 592\n",
      "Optimization terminated successfully.\n",
      "         Current function value: -0.113034\n",
      "         Iterations: 4\n",
      "         Function evaluations: 494\n",
      "Optimization terminated successfully.\n",
      "         Current function value: -0.112770\n",
      "         Iterations: 2\n",
      "         Function evaluations: 267\n",
      "Optimization terminated successfully.\n",
      "         Current function value: -0.112789\n",
      "         Iterations: 2\n",
      "         Function evaluations: 278\n",
      "Optimization terminated successfully.\n",
      "         Current function value: -0.112667\n",
      "         Iterations: 3\n",
      "         Function evaluations: 463\n",
      "Optimization terminated successfully.\n",
      "         Current function value: -0.113031\n",
      "         Iterations: 3\n",
      "         Function evaluations: 486\n",
      "Optimization terminated successfully.\n",
      "         Current function value: -0.107357\n",
      "         Iterations: 1\n",
      "         Function evaluations: 72\n",
      "Optimization terminated successfully.\n",
      "         Current function value: -0.111898\n",
      "         Iterations: 6\n",
      "         Function evaluations: 490\n",
      "Optimization terminated successfully.\n",
      "         Current function value: -0.111623\n",
      "         Iterations: 5\n",
      "         Function evaluations: 479\n",
      "Optimization terminated successfully.\n",
      "         Current function value: -0.111604\n",
      "         Iterations: 3\n",
      "         Function evaluations: 308\n",
      "Optimization terminated successfully.\n",
      "         Current function value: -0.111789\n",
      "         Iterations: 3\n",
      "         Function evaluations: 358\n"
     ]
    },
    {
     "name": "stderr",
     "output_type": "stream",
     "text": [
      "d:\\Work\\Development\\Python\\SDP\\venv\\lib\\site-packages\\statsmodels\\tsa\\statespace\\sarimax.py:966: UserWarning: Non-stationary starting autoregressive parameters found. Using zeros as starting parameters.\n",
      "  warn('Non-stationary starting autoregressive parameters'\n",
      "d:\\Work\\Development\\Python\\SDP\\venv\\lib\\site-packages\\statsmodels\\tsa\\statespace\\sarimax.py:978: UserWarning: Non-invertible starting MA parameters found. Using zeros as starting parameters.\n",
      "  warn('Non-invertible starting MA parameters found.'\n"
     ]
    },
    {
     "name": "stdout",
     "output_type": "stream",
     "text": [
      "Optimization terminated successfully.\n",
      "         Current function value: -0.112117\n",
      "         Iterations: 8\n",
      "         Function evaluations: 972\n",
      "Optimization terminated successfully.\n",
      "         Current function value: -0.112095\n",
      "         Iterations: 2\n",
      "         Function evaluations: 269\n",
      "Optimization terminated successfully.\n",
      "         Current function value: -0.112115\n",
      "         Iterations: 2\n",
      "         Function evaluations: 294\n",
      "Optimization terminated successfully.\n",
      "         Current function value: -0.112148\n",
      "         Iterations: 3\n",
      "         Function evaluations: 472\n",
      "Optimization terminated successfully.\n",
      "         Current function value: -0.112052\n",
      "         Iterations: 3\n",
      "         Function evaluations: 495\n",
      "Optimization terminated successfully.\n",
      "         Current function value: -0.109006\n",
      "         Iterations: 1\n",
      "         Function evaluations: 80\n",
      "Optimization terminated successfully.\n",
      "         Current function value: -0.112835\n",
      "         Iterations: 10\n",
      "         Function evaluations: 911\n",
      "Optimization terminated successfully.\n",
      "         Current function value: -0.112546\n",
      "         Iterations: 6\n",
      "         Function evaluations: 610\n",
      "Optimization terminated successfully.\n",
      "         Current function value: -0.112728\n",
      "         Iterations: 5\n",
      "         Function evaluations: 563\n"
     ]
    },
    {
     "name": "stderr",
     "output_type": "stream",
     "text": [
      "d:\\Work\\Development\\Python\\SDP\\venv\\lib\\site-packages\\statsmodels\\tsa\\statespace\\sarimax.py:966: UserWarning: Non-stationary starting autoregressive parameters found. Using zeros as starting parameters.\n",
      "  warn('Non-stationary starting autoregressive parameters'\n",
      "d:\\Work\\Development\\Python\\SDP\\venv\\lib\\site-packages\\statsmodels\\tsa\\statespace\\sarimax.py:978: UserWarning: Non-invertible starting MA parameters found. Using zeros as starting parameters.\n",
      "  warn('Non-invertible starting MA parameters found.'\n"
     ]
    },
    {
     "name": "stdout",
     "output_type": "stream",
     "text": [
      "Optimization terminated successfully.\n",
      "         Current function value: -0.112233\n",
      "         Iterations: 7\n",
      "         Function evaluations: 838\n"
     ]
    },
    {
     "name": "stderr",
     "output_type": "stream",
     "text": [
      "d:\\Work\\Development\\Python\\SDP\\venv\\lib\\site-packages\\statsmodels\\tsa\\statespace\\sarimax.py:966: UserWarning: Non-stationary starting autoregressive parameters found. Using zeros as starting parameters.\n",
      "  warn('Non-stationary starting autoregressive parameters'\n",
      "d:\\Work\\Development\\Python\\SDP\\venv\\lib\\site-packages\\statsmodels\\tsa\\statespace\\sarimax.py:978: UserWarning: Non-invertible starting MA parameters found. Using zeros as starting parameters.\n",
      "  warn('Non-invertible starting MA parameters found.'\n"
     ]
    },
    {
     "name": "stdout",
     "output_type": "stream",
     "text": [
      "Optimization terminated successfully.\n",
      "         Current function value: -0.113166\n",
      "         Iterations: 13\n",
      "         Function evaluations: 1672\n",
      "Optimization terminated successfully.\n",
      "         Current function value: -0.112880\n",
      "         Iterations: 5\n",
      "         Function evaluations: 731\n",
      "Optimization terminated successfully.\n",
      "         Current function value: -0.113093\n",
      "         Iterations: 2\n",
      "         Function evaluations: 301\n",
      "Optimization terminated successfully.\n",
      "         Current function value: -0.113269\n",
      "         Iterations: 6\n",
      "         Function evaluations: 1004\n",
      "Optimization terminated successfully.\n",
      "         Current function value: -0.113091\n",
      "         Iterations: 3\n",
      "         Function evaluations: 522\n",
      "Optimization terminated successfully.\n",
      "         Current function value: -0.110616\n",
      "         Iterations: 1\n",
      "         Function evaluations: 85\n",
      "Optimization terminated successfully.\n",
      "         Current function value: -0.110847\n",
      "         Iterations: 2\n",
      "         Function evaluations: 182\n",
      "Optimization terminated successfully.\n",
      "         Current function value: -0.112045\n",
      "         Iterations: 5\n",
      "         Function evaluations: 516\n",
      "Optimization terminated successfully.\n",
      "         Current function value: -0.112091\n",
      "         Iterations: 1\n",
      "         Function evaluations: 110\n",
      "Optimization terminated successfully.\n",
      "         Current function value: -0.111907\n",
      "         Iterations: 2\n",
      "         Function evaluations: 259\n"
     ]
    },
    {
     "name": "stderr",
     "output_type": "stream",
     "text": [
      "d:\\Work\\Development\\Python\\SDP\\venv\\lib\\site-packages\\statsmodels\\tsa\\statespace\\sarimax.py:966: UserWarning: Non-stationary starting autoregressive parameters found. Using zeros as starting parameters.\n",
      "  warn('Non-stationary starting autoregressive parameters'\n",
      "d:\\Work\\Development\\Python\\SDP\\venv\\lib\\site-packages\\statsmodels\\tsa\\statespace\\sarimax.py:978: UserWarning: Non-invertible starting MA parameters found. Using zeros as starting parameters.\n",
      "  warn('Non-invertible starting MA parameters found.'\n"
     ]
    },
    {
     "name": "stdout",
     "output_type": "stream",
     "text": [
      "Optimization terminated successfully.\n",
      "         Current function value: -0.111954\n",
      "         Iterations: 4\n",
      "         Function evaluations: 520\n",
      "Optimization terminated successfully.\n",
      "         Current function value: -0.112164\n",
      "         Iterations: 2\n",
      "         Function evaluations: 299\n",
      "Optimization terminated successfully.\n",
      "         Current function value: -0.112515\n",
      "         Iterations: 2\n",
      "         Function evaluations: 316\n",
      "Optimization terminated successfully.\n",
      "         Current function value: -0.112912\n",
      "         Iterations: 9\n",
      "         Function evaluations: 1548\n",
      "Optimization terminated successfully.\n",
      "         Current function value: -0.112616\n",
      "         Iterations: 2\n",
      "         Function evaluations: 349\n",
      "Optimization terminated successfully.\n",
      "         Current function value: -0.111938\n",
      "         Iterations: 1\n",
      "         Function evaluations: 90\n",
      "Optimization terminated successfully.\n",
      "         Current function value: -0.111128\n",
      "         Iterations: 3\n",
      "         Function evaluations: 300\n",
      "Optimization terminated successfully.\n",
      "         Current function value: -0.113005\n",
      "         Iterations: 7\n",
      "         Function evaluations: 782\n",
      "Optimization terminated successfully.\n",
      "         Current function value: -0.112858\n",
      "         Iterations: 5\n",
      "         Function evaluations: 614\n"
     ]
    },
    {
     "name": "stderr",
     "output_type": "stream",
     "text": [
      "d:\\Work\\Development\\Python\\SDP\\venv\\lib\\site-packages\\statsmodels\\tsa\\statespace\\sarimax.py:966: UserWarning: Non-stationary starting autoregressive parameters found. Using zeros as starting parameters.\n",
      "  warn('Non-stationary starting autoregressive parameters'\n",
      "d:\\Work\\Development\\Python\\SDP\\venv\\lib\\site-packages\\statsmodels\\tsa\\statespace\\sarimax.py:978: UserWarning: Non-invertible starting MA parameters found. Using zeros as starting parameters.\n",
      "  warn('Non-invertible starting MA parameters found.'\n"
     ]
    },
    {
     "name": "stdout",
     "output_type": "stream",
     "text": [
      "Optimization terminated successfully.\n",
      "         Current function value: -0.113029\n",
      "         Iterations: 7\n",
      "         Function evaluations: 900\n"
     ]
    },
    {
     "name": "stderr",
     "output_type": "stream",
     "text": [
      "d:\\Work\\Development\\Python\\SDP\\venv\\lib\\site-packages\\statsmodels\\tsa\\statespace\\sarimax.py:966: UserWarning: Non-stationary starting autoregressive parameters found. Using zeros as starting parameters.\n",
      "  warn('Non-stationary starting autoregressive parameters'\n",
      "d:\\Work\\Development\\Python\\SDP\\venv\\lib\\site-packages\\statsmodels\\tsa\\statespace\\sarimax.py:978: UserWarning: Non-invertible starting MA parameters found. Using zeros as starting parameters.\n",
      "  warn('Non-invertible starting MA parameters found.'\n"
     ]
    },
    {
     "name": "stdout",
     "output_type": "stream",
     "text": [
      "Optimization terminated successfully.\n",
      "         Current function value: -0.112895\n",
      "         Iterations: 6\n",
      "         Function evaluations: 825\n"
     ]
    },
    {
     "name": "stderr",
     "output_type": "stream",
     "text": [
      "d:\\Work\\Development\\Python\\SDP\\venv\\lib\\site-packages\\statsmodels\\tsa\\statespace\\sarimax.py:966: UserWarning: Non-stationary starting autoregressive parameters found. Using zeros as starting parameters.\n",
      "  warn('Non-stationary starting autoregressive parameters'\n",
      "d:\\Work\\Development\\Python\\SDP\\venv\\lib\\site-packages\\statsmodels\\tsa\\statespace\\sarimax.py:978: UserWarning: Non-invertible starting MA parameters found. Using zeros as starting parameters.\n",
      "  warn('Non-invertible starting MA parameters found.'\n"
     ]
    },
    {
     "name": "stdout",
     "output_type": "stream",
     "text": [
      "Optimization terminated successfully.\n",
      "         Current function value: -0.112798\n",
      "         Iterations: 6\n",
      "         Function evaluations: 878\n",
      "Optimization terminated successfully.\n",
      "         Current function value: -0.113409\n",
      "         Iterations: 2\n",
      "         Function evaluations: 330\n",
      "Optimization terminated successfully.\n",
      "         Current function value: -0.113615\n",
      "         Iterations: 2\n",
      "         Function evaluations: 351\n",
      "Optimization terminated successfully.\n",
      "         Current function value: -0.113308\n",
      "         Iterations: 2\n",
      "         Function evaluations: 361\n",
      "Optimization terminated successfully.\n",
      "         Current function value: -0.111187\n",
      "         Iterations: 1\n",
      "         Function evaluations: 92\n",
      "Optimization terminated successfully.\n",
      "         Current function value: -0.111293\n",
      "         Iterations: 2\n",
      "         Function evaluations: 201\n",
      "Optimization terminated successfully.\n",
      "         Current function value: -0.111721\n",
      "         Iterations: 2\n",
      "         Function evaluations: 223\n",
      "Optimization terminated successfully.\n",
      "         Current function value: -0.112136\n",
      "         Iterations: 3\n",
      "         Function evaluations: 377\n"
     ]
    },
    {
     "name": "stderr",
     "output_type": "stream",
     "text": [
      "d:\\Work\\Development\\Python\\SDP\\venv\\lib\\site-packages\\statsmodels\\tsa\\statespace\\sarimax.py:966: UserWarning: Non-stationary starting autoregressive parameters found. Using zeros as starting parameters.\n",
      "  warn('Non-stationary starting autoregressive parameters'\n",
      "d:\\Work\\Development\\Python\\SDP\\venv\\lib\\site-packages\\statsmodels\\tsa\\statespace\\sarimax.py:978: UserWarning: Non-invertible starting MA parameters found. Using zeros as starting parameters.\n",
      "  warn('Non-invertible starting MA parameters found.'\n"
     ]
    },
    {
     "name": "stdout",
     "output_type": "stream",
     "text": [
      "Optimization terminated successfully.\n",
      "         Current function value: -0.112065\n",
      "         Iterations: 5\n",
      "         Function evaluations: 643\n"
     ]
    },
    {
     "name": "stderr",
     "output_type": "stream",
     "text": [
      "d:\\Work\\Development\\Python\\SDP\\venv\\lib\\site-packages\\statsmodels\\tsa\\statespace\\sarimax.py:966: UserWarning: Non-stationary starting autoregressive parameters found. Using zeros as starting parameters.\n",
      "  warn('Non-stationary starting autoregressive parameters'\n",
      "d:\\Work\\Development\\Python\\SDP\\venv\\lib\\site-packages\\statsmodels\\tsa\\statespace\\sarimax.py:978: UserWarning: Non-invertible starting MA parameters found. Using zeros as starting parameters.\n",
      "  warn('Non-invertible starting MA parameters found.'\n"
     ]
    },
    {
     "name": "stdout",
     "output_type": "stream",
     "text": [
      "Optimization terminated successfully.\n",
      "         Current function value: -0.111959\n",
      "         Iterations: 4\n",
      "         Function evaluations: 552\n",
      "Optimization terminated successfully.\n",
      "         Current function value: -0.112205\n",
      "         Iterations: 3\n",
      "         Function evaluations: 476\n"
     ]
    },
    {
     "name": "stderr",
     "output_type": "stream",
     "text": [
      "d:\\Work\\Development\\Python\\SDP\\venv\\lib\\site-packages\\statsmodels\\tsa\\statespace\\sarimax.py:966: UserWarning: Non-stationary starting autoregressive parameters found. Using zeros as starting parameters.\n",
      "  warn('Non-stationary starting autoregressive parameters'\n",
      "d:\\Work\\Development\\Python\\SDP\\venv\\lib\\site-packages\\statsmodels\\tsa\\statespace\\sarimax.py:978: UserWarning: Non-invertible starting MA parameters found. Using zeros as starting parameters.\n",
      "  warn('Non-invertible starting MA parameters found.'\n"
     ]
    },
    {
     "name": "stdout",
     "output_type": "stream",
     "text": [
      "Optimization terminated successfully.\n",
      "         Current function value: -0.111835\n",
      "         Iterations: 3\n",
      "         Function evaluations: 463\n"
     ]
    },
    {
     "name": "stderr",
     "output_type": "stream",
     "text": [
      "d:\\Work\\Development\\Python\\SDP\\venv\\lib\\site-packages\\statsmodels\\tsa\\statespace\\sarimax.py:966: UserWarning: Non-stationary starting autoregressive parameters found. Using zeros as starting parameters.\n",
      "  warn('Non-stationary starting autoregressive parameters'\n",
      "d:\\Work\\Development\\Python\\SDP\\venv\\lib\\site-packages\\statsmodels\\tsa\\statespace\\sarimax.py:978: UserWarning: Non-invertible starting MA parameters found. Using zeros as starting parameters.\n",
      "  warn('Non-invertible starting MA parameters found.'\n"
     ]
    },
    {
     "name": "stdout",
     "output_type": "stream",
     "text": [
      "Optimization terminated successfully.\n",
      "         Current function value: -0.111939\n",
      "         Iterations: 4\n",
      "         Function evaluations: 656\n"
     ]
    },
    {
     "name": "stderr",
     "output_type": "stream",
     "text": [
      "d:\\Work\\Development\\Python\\SDP\\venv\\lib\\site-packages\\statsmodels\\tsa\\statespace\\sarimax.py:966: UserWarning: Non-stationary starting autoregressive parameters found. Using zeros as starting parameters.\n",
      "  warn('Non-stationary starting autoregressive parameters'\n",
      "d:\\Work\\Development\\Python\\SDP\\venv\\lib\\site-packages\\statsmodels\\tsa\\statespace\\sarimax.py:978: UserWarning: Non-invertible starting MA parameters found. Using zeros as starting parameters.\n",
      "  warn('Non-invertible starting MA parameters found.'\n"
     ]
    },
    {
     "name": "stdout",
     "output_type": "stream",
     "text": [
      "Optimization terminated successfully.\n",
      "         Current function value: -0.112127\n",
      "         Iterations: 2\n",
      "         Function evaluations: 342\n",
      "Optimization terminated successfully.\n",
      "         Current function value: -0.112388\n",
      "         Iterations: 2\n",
      "         Function evaluations: 210\n",
      "Optimization terminated successfully.\n",
      "         Current function value: -0.112159\n",
      "         Iterations: 3\n",
      "         Function evaluations: 330\n",
      "Optimization terminated successfully.\n",
      "         Current function value: -0.111925\n",
      "         Iterations: 2\n",
      "         Function evaluations: 239\n",
      "Optimization terminated successfully.\n",
      "         Current function value: -0.113044\n",
      "         Iterations: 2\n",
      "         Function evaluations: 267\n"
     ]
    },
    {
     "name": "stderr",
     "output_type": "stream",
     "text": [
      "d:\\Work\\Development\\Python\\SDP\\venv\\lib\\site-packages\\statsmodels\\tsa\\statespace\\sarimax.py:966: UserWarning: Non-stationary starting autoregressive parameters found. Using zeros as starting parameters.\n",
      "  warn('Non-stationary starting autoregressive parameters'\n",
      "d:\\Work\\Development\\Python\\SDP\\venv\\lib\\site-packages\\statsmodels\\tsa\\statespace\\sarimax.py:978: UserWarning: Non-invertible starting MA parameters found. Using zeros as starting parameters.\n",
      "  warn('Non-invertible starting MA parameters found.'\n"
     ]
    },
    {
     "name": "stdout",
     "output_type": "stream",
     "text": [
      "Optimization terminated successfully.\n",
      "         Current function value: -0.113004\n",
      "         Iterations: 7\n",
      "         Function evaluations: 984\n"
     ]
    },
    {
     "name": "stderr",
     "output_type": "stream",
     "text": [
      "d:\\Work\\Development\\Python\\SDP\\venv\\lib\\site-packages\\statsmodels\\tsa\\statespace\\sarimax.py:966: UserWarning: Non-stationary starting autoregressive parameters found. Using zeros as starting parameters.\n",
      "  warn('Non-stationary starting autoregressive parameters'\n",
      "d:\\Work\\Development\\Python\\SDP\\venv\\lib\\site-packages\\statsmodels\\tsa\\statespace\\sarimax.py:978: UserWarning: Non-invertible starting MA parameters found. Using zeros as starting parameters.\n",
      "  warn('Non-invertible starting MA parameters found.'\n"
     ]
    },
    {
     "name": "stdout",
     "output_type": "stream",
     "text": [
      "Optimization terminated successfully.\n",
      "         Current function value: -0.112910\n",
      "         Iterations: 6\n",
      "         Function evaluations: 893\n"
     ]
    },
    {
     "name": "stderr",
     "output_type": "stream",
     "text": [
      "d:\\Work\\Development\\Python\\SDP\\venv\\lib\\site-packages\\statsmodels\\tsa\\statespace\\sarimax.py:966: UserWarning: Non-stationary starting autoregressive parameters found. Using zeros as starting parameters.\n",
      "  warn('Non-stationary starting autoregressive parameters'\n",
      "d:\\Work\\Development\\Python\\SDP\\venv\\lib\\site-packages\\statsmodels\\tsa\\statespace\\sarimax.py:978: UserWarning: Non-invertible starting MA parameters found. Using zeros as starting parameters.\n",
      "  warn('Non-invertible starting MA parameters found.'\n"
     ]
    },
    {
     "name": "stdout",
     "output_type": "stream",
     "text": [
      "Optimization terminated successfully.\n",
      "         Current function value: -0.112798\n",
      "         Iterations: 5\n",
      "         Function evaluations: 789\n"
     ]
    },
    {
     "name": "stderr",
     "output_type": "stream",
     "text": [
      "d:\\Work\\Development\\Python\\SDP\\venv\\lib\\site-packages\\statsmodels\\tsa\\statespace\\sarimax.py:966: UserWarning: Non-stationary starting autoregressive parameters found. Using zeros as starting parameters.\n",
      "  warn('Non-stationary starting autoregressive parameters'\n",
      "d:\\Work\\Development\\Python\\SDP\\venv\\lib\\site-packages\\statsmodels\\tsa\\statespace\\sarimax.py:978: UserWarning: Non-invertible starting MA parameters found. Using zeros as starting parameters.\n",
      "  warn('Non-invertible starting MA parameters found.'\n"
     ]
    },
    {
     "name": "stdout",
     "output_type": "stream",
     "text": [
      "Optimization terminated successfully.\n",
      "         Current function value: -0.112749\n",
      "         Iterations: 5\n",
      "         Function evaluations: 837\n"
     ]
    },
    {
     "name": "stderr",
     "output_type": "stream",
     "text": [
      "d:\\Work\\Development\\Python\\SDP\\venv\\lib\\site-packages\\statsmodels\\tsa\\statespace\\sarimax.py:966: UserWarning: Non-stationary starting autoregressive parameters found. Using zeros as starting parameters.\n",
      "  warn('Non-stationary starting autoregressive parameters'\n",
      "d:\\Work\\Development\\Python\\SDP\\venv\\lib\\site-packages\\statsmodels\\tsa\\statespace\\sarimax.py:978: UserWarning: Non-invertible starting MA parameters found. Using zeros as starting parameters.\n",
      "  warn('Non-invertible starting MA parameters found.'\n"
     ]
    },
    {
     "name": "stdout",
     "output_type": "stream",
     "text": [
      "Optimization terminated successfully.\n",
      "         Current function value: -0.112858\n",
      "         Iterations: 3\n",
      "         Function evaluations: 532\n"
     ]
    },
    {
     "name": "stderr",
     "output_type": "stream",
     "text": [
      "d:\\Work\\Development\\Python\\SDP\\venv\\lib\\site-packages\\statsmodels\\tsa\\statespace\\sarimax.py:966: UserWarning: Non-stationary starting autoregressive parameters found. Using zeros as starting parameters.\n",
      "  warn('Non-stationary starting autoregressive parameters'\n",
      "d:\\Work\\Development\\Python\\SDP\\venv\\lib\\site-packages\\statsmodels\\tsa\\statespace\\sarimax.py:978: UserWarning: Non-invertible starting MA parameters found. Using zeros as starting parameters.\n",
      "  warn('Non-invertible starting MA parameters found.'\n"
     ]
    },
    {
     "name": "stdout",
     "output_type": "stream",
     "text": [
      "Optimization terminated successfully.\n",
      "         Current function value: -0.113159\n",
      "         Iterations: 5\n",
      "         Function evaluations: 918\n",
      "Optimization terminated successfully.\n",
      "         Current function value: -0.111783\n",
      "         Iterations: 1\n",
      "         Function evaluations: 104\n",
      "Optimization terminated successfully.\n",
      "         Current function value: -0.111870\n",
      "         Iterations: 2\n",
      "         Function evaluations: 224\n",
      "Optimization terminated successfully.\n",
      "         Current function value: -0.111978\n",
      "         Iterations: 2\n",
      "         Function evaluations: 259\n",
      "Optimization terminated successfully.\n",
      "         Current function value: -0.112118\n",
      "         Iterations: 5\n",
      "         Function evaluations: 675\n"
     ]
    },
    {
     "name": "stderr",
     "output_type": "stream",
     "text": [
      "d:\\Work\\Development\\Python\\SDP\\venv\\lib\\site-packages\\statsmodels\\tsa\\statespace\\sarimax.py:966: UserWarning: Non-stationary starting autoregressive parameters found. Using zeros as starting parameters.\n",
      "  warn('Non-stationary starting autoregressive parameters'\n",
      "d:\\Work\\Development\\Python\\SDP\\venv\\lib\\site-packages\\statsmodels\\tsa\\statespace\\sarimax.py:978: UserWarning: Non-invertible starting MA parameters found. Using zeros as starting parameters.\n",
      "  warn('Non-invertible starting MA parameters found.'\n"
     ]
    },
    {
     "name": "stdout",
     "output_type": "stream",
     "text": [
      "Optimization terminated successfully.\n",
      "         Current function value: -0.112092\n",
      "         Iterations: 5\n",
      "         Function evaluations: 700\n"
     ]
    },
    {
     "name": "stderr",
     "output_type": "stream",
     "text": [
      "d:\\Work\\Development\\Python\\SDP\\venv\\lib\\site-packages\\statsmodels\\tsa\\statespace\\sarimax.py:966: UserWarning: Non-stationary starting autoregressive parameters found. Using zeros as starting parameters.\n",
      "  warn('Non-stationary starting autoregressive parameters'\n",
      "d:\\Work\\Development\\Python\\SDP\\venv\\lib\\site-packages\\statsmodels\\tsa\\statespace\\sarimax.py:978: UserWarning: Non-invertible starting MA parameters found. Using zeros as starting parameters.\n",
      "  warn('Non-invertible starting MA parameters found.'\n"
     ]
    },
    {
     "name": "stdout",
     "output_type": "stream",
     "text": [
      "Optimization terminated successfully.\n",
      "         Current function value: -0.112038\n",
      "         Iterations: 4\n",
      "         Function evaluations: 591\n"
     ]
    },
    {
     "name": "stderr",
     "output_type": "stream",
     "text": [
      "d:\\Work\\Development\\Python\\SDP\\venv\\lib\\site-packages\\statsmodels\\tsa\\statespace\\sarimax.py:966: UserWarning: Non-stationary starting autoregressive parameters found. Using zeros as starting parameters.\n",
      "  warn('Non-stationary starting autoregressive parameters'\n",
      "d:\\Work\\Development\\Python\\SDP\\venv\\lib\\site-packages\\statsmodels\\tsa\\statespace\\sarimax.py:978: UserWarning: Non-invertible starting MA parameters found. Using zeros as starting parameters.\n",
      "  warn('Non-invertible starting MA parameters found.'\n"
     ]
    },
    {
     "name": "stdout",
     "output_type": "stream",
     "text": [
      "Optimization terminated successfully.\n",
      "         Current function value: -0.112018\n",
      "         Iterations: 3\n",
      "         Function evaluations: 468\n"
     ]
    },
    {
     "name": "stderr",
     "output_type": "stream",
     "text": [
      "d:\\Work\\Development\\Python\\SDP\\venv\\lib\\site-packages\\statsmodels\\tsa\\statespace\\sarimax.py:966: UserWarning: Non-stationary starting autoregressive parameters found. Using zeros as starting parameters.\n",
      "  warn('Non-stationary starting autoregressive parameters'\n",
      "d:\\Work\\Development\\Python\\SDP\\venv\\lib\\site-packages\\statsmodels\\tsa\\statespace\\sarimax.py:978: UserWarning: Non-invertible starting MA parameters found. Using zeros as starting parameters.\n",
      "  warn('Non-invertible starting MA parameters found.'\n"
     ]
    },
    {
     "name": "stdout",
     "output_type": "stream",
     "text": [
      "Optimization terminated successfully.\n",
      "         Current function value: -0.112019\n",
      "         Iterations: 3\n",
      "         Function evaluations: 505\n"
     ]
    },
    {
     "name": "stderr",
     "output_type": "stream",
     "text": [
      "d:\\Work\\Development\\Python\\SDP\\venv\\lib\\site-packages\\statsmodels\\tsa\\statespace\\sarimax.py:966: UserWarning: Non-stationary starting autoregressive parameters found. Using zeros as starting parameters.\n",
      "  warn('Non-stationary starting autoregressive parameters'\n",
      "d:\\Work\\Development\\Python\\SDP\\venv\\lib\\site-packages\\statsmodels\\tsa\\statespace\\sarimax.py:978: UserWarning: Non-invertible starting MA parameters found. Using zeros as starting parameters.\n",
      "  warn('Non-invertible starting MA parameters found.'\n"
     ]
    },
    {
     "name": "stdout",
     "output_type": "stream",
     "text": [
      "Optimization terminated successfully.\n",
      "         Current function value: -0.111998\n",
      "         Iterations: 3\n",
      "         Function evaluations: 525\n"
     ]
    },
    {
     "name": "stderr",
     "output_type": "stream",
     "text": [
      "d:\\Work\\Development\\Python\\SDP\\venv\\lib\\site-packages\\statsmodels\\tsa\\statespace\\sarimax.py:966: UserWarning: Non-stationary starting autoregressive parameters found. Using zeros as starting parameters.\n",
      "  warn('Non-stationary starting autoregressive parameters'\n",
      "d:\\Work\\Development\\Python\\SDP\\venv\\lib\\site-packages\\statsmodels\\tsa\\statespace\\sarimax.py:978: UserWarning: Non-invertible starting MA parameters found. Using zeros as starting parameters.\n",
      "  warn('Non-invertible starting MA parameters found.'\n"
     ]
    },
    {
     "name": "stdout",
     "output_type": "stream",
     "text": [
      "Optimization terminated successfully.\n",
      "         Current function value: -0.112241\n",
      "         Iterations: 2\n",
      "         Function evaluations: 361\n",
      "Optimization terminated successfully.\n",
      "         Current function value: -0.112869\n",
      "         Iterations: 2\n",
      "         Function evaluations: 233\n",
      "Optimization terminated successfully.\n",
      "         Current function value: -0.112614\n",
      "         Iterations: 3\n",
      "         Function evaluations: 364\n",
      "Optimization terminated successfully.\n",
      "         Current function value: -0.112495\n",
      "         Iterations: 2\n",
      "         Function evaluations: 261\n",
      "Optimization terminated successfully.\n",
      "         Current function value: -0.113029\n",
      "         Iterations: 7\n",
      "         Function evaluations: 1004\n"
     ]
    },
    {
     "name": "stderr",
     "output_type": "stream",
     "text": [
      "d:\\Work\\Development\\Python\\SDP\\venv\\lib\\site-packages\\statsmodels\\tsa\\statespace\\sarimax.py:966: UserWarning: Non-stationary starting autoregressive parameters found. Using zeros as starting parameters.\n",
      "  warn('Non-stationary starting autoregressive parameters'\n",
      "d:\\Work\\Development\\Python\\SDP\\venv\\lib\\site-packages\\statsmodels\\tsa\\statespace\\sarimax.py:978: UserWarning: Non-invertible starting MA parameters found. Using zeros as starting parameters.\n",
      "  warn('Non-invertible starting MA parameters found.'\n"
     ]
    },
    {
     "name": "stdout",
     "output_type": "stream",
     "text": [
      "Optimization terminated successfully.\n",
      "         Current function value: -0.112871\n",
      "         Iterations: 2\n",
      "         Function evaluations: 302\n"
     ]
    },
    {
     "name": "stderr",
     "output_type": "stream",
     "text": [
      "d:\\Work\\Development\\Python\\SDP\\venv\\lib\\site-packages\\statsmodels\\tsa\\statespace\\sarimax.py:966: UserWarning: Non-stationary starting autoregressive parameters found. Using zeros as starting parameters.\n",
      "  warn('Non-stationary starting autoregressive parameters'\n",
      "d:\\Work\\Development\\Python\\SDP\\venv\\lib\\site-packages\\statsmodels\\tsa\\statespace\\sarimax.py:978: UserWarning: Non-invertible starting MA parameters found. Using zeros as starting parameters.\n",
      "  warn('Non-invertible starting MA parameters found.'\n"
     ]
    },
    {
     "name": "stdout",
     "output_type": "stream",
     "text": [
      "Optimization terminated successfully.\n",
      "         Current function value: -0.112874\n",
      "         Iterations: 2\n",
      "         Function evaluations: 323\n"
     ]
    },
    {
     "name": "stderr",
     "output_type": "stream",
     "text": [
      "d:\\Work\\Development\\Python\\SDP\\venv\\lib\\site-packages\\statsmodels\\tsa\\statespace\\sarimax.py:966: UserWarning: Non-stationary starting autoregressive parameters found. Using zeros as starting parameters.\n",
      "  warn('Non-stationary starting autoregressive parameters'\n",
      "d:\\Work\\Development\\Python\\SDP\\venv\\lib\\site-packages\\statsmodels\\tsa\\statespace\\sarimax.py:978: UserWarning: Non-invertible starting MA parameters found. Using zeros as starting parameters.\n",
      "  warn('Non-invertible starting MA parameters found.'\n"
     ]
    },
    {
     "name": "stdout",
     "output_type": "stream",
     "text": [
      "Optimization terminated successfully.\n",
      "         Current function value: -0.112956\n",
      "         Iterations: 4\n",
      "         Function evaluations: 676\n"
     ]
    },
    {
     "name": "stderr",
     "output_type": "stream",
     "text": [
      "d:\\Work\\Development\\Python\\SDP\\venv\\lib\\site-packages\\statsmodels\\tsa\\statespace\\sarimax.py:966: UserWarning: Non-stationary starting autoregressive parameters found. Using zeros as starting parameters.\n",
      "  warn('Non-stationary starting autoregressive parameters'\n",
      "d:\\Work\\Development\\Python\\SDP\\venv\\lib\\site-packages\\statsmodels\\tsa\\statespace\\sarimax.py:978: UserWarning: Non-invertible starting MA parameters found. Using zeros as starting parameters.\n",
      "  warn('Non-invertible starting MA parameters found.'\n"
     ]
    },
    {
     "name": "stdout",
     "output_type": "stream",
     "text": [
      "Optimization terminated successfully.\n",
      "         Current function value: -0.112966\n",
      "         Iterations: 4\n",
      "         Function evaluations: 709\n"
     ]
    },
    {
     "name": "stderr",
     "output_type": "stream",
     "text": [
      "d:\\Work\\Development\\Python\\SDP\\venv\\lib\\site-packages\\statsmodels\\tsa\\statespace\\sarimax.py:966: UserWarning: Non-stationary starting autoregressive parameters found. Using zeros as starting parameters.\n",
      "  warn('Non-stationary starting autoregressive parameters'\n",
      "d:\\Work\\Development\\Python\\SDP\\venv\\lib\\site-packages\\statsmodels\\tsa\\statespace\\sarimax.py:978: UserWarning: Non-invertible starting MA parameters found. Using zeros as starting parameters.\n",
      "  warn('Non-invertible starting MA parameters found.'\n"
     ]
    },
    {
     "name": "stdout",
     "output_type": "stream",
     "text": [
      "Optimization terminated successfully.\n",
      "         Current function value: -0.113033\n",
      "         Iterations: 6\n",
      "         Function evaluations: 1130\n"
     ]
    },
    {
     "name": "stderr",
     "output_type": "stream",
     "text": [
      "d:\\Work\\Development\\Python\\SDP\\venv\\lib\\site-packages\\statsmodels\\tsa\\statespace\\sarimax.py:966: UserWarning: Non-stationary starting autoregressive parameters found. Using zeros as starting parameters.\n",
      "  warn('Non-stationary starting autoregressive parameters'\n",
      "d:\\Work\\Development\\Python\\SDP\\venv\\lib\\site-packages\\statsmodels\\tsa\\statespace\\sarimax.py:978: UserWarning: Non-invertible starting MA parameters found. Using zeros as starting parameters.\n",
      "  warn('Non-invertible starting MA parameters found.'\n"
     ]
    },
    {
     "name": "stdout",
     "output_type": "stream",
     "text": [
      "Optimization terminated successfully.\n",
      "         Current function value: -0.113227\n",
      "         Iterations: 4\n",
      "         Function evaluations: 787\n",
      "Optimization terminated successfully.\n",
      "         Current function value: -0.112235\n",
      "         Iterations: 1\n",
      "         Function evaluations: 125\n",
      "Optimization terminated successfully.\n",
      "         Current function value: -0.112234\n",
      "         Iterations: 2\n",
      "         Function evaluations: 238\n",
      "Optimization terminated successfully.\n",
      "         Current function value: -0.112184\n",
      "         Iterations: 2\n",
      "         Function evaluations: 263\n",
      "Optimization terminated successfully.\n",
      "         Current function value: -0.112167\n",
      "         Iterations: 2\n",
      "         Function evaluations: 296\n"
     ]
    },
    {
     "name": "stderr",
     "output_type": "stream",
     "text": [
      "d:\\Work\\Development\\Python\\SDP\\venv\\lib\\site-packages\\statsmodels\\tsa\\statespace\\sarimax.py:966: UserWarning: Non-stationary starting autoregressive parameters found. Using zeros as starting parameters.\n",
      "  warn('Non-stationary starting autoregressive parameters'\n",
      "d:\\Work\\Development\\Python\\SDP\\venv\\lib\\site-packages\\statsmodels\\tsa\\statespace\\sarimax.py:978: UserWarning: Non-invertible starting MA parameters found. Using zeros as starting parameters.\n",
      "  warn('Non-invertible starting MA parameters found.'\n"
     ]
    },
    {
     "name": "stdout",
     "output_type": "stream",
     "text": [
      "Optimization terminated successfully.\n",
      "         Current function value: -0.112236\n",
      "         Iterations: 2\n",
      "         Function evaluations: 311\n"
     ]
    },
    {
     "name": "stderr",
     "output_type": "stream",
     "text": [
      "d:\\Work\\Development\\Python\\SDP\\venv\\lib\\site-packages\\statsmodels\\tsa\\statespace\\sarimax.py:966: UserWarning: Non-stationary starting autoregressive parameters found. Using zeros as starting parameters.\n",
      "  warn('Non-stationary starting autoregressive parameters'\n",
      "d:\\Work\\Development\\Python\\SDP\\venv\\lib\\site-packages\\statsmodels\\tsa\\statespace\\sarimax.py:978: UserWarning: Non-invertible starting MA parameters found. Using zeros as starting parameters.\n",
      "  warn('Non-invertible starting MA parameters found.'\n"
     ]
    },
    {
     "name": "stdout",
     "output_type": "stream",
     "text": [
      "Optimization terminated successfully.\n",
      "         Current function value: -0.112236\n",
      "         Iterations: 2\n",
      "         Function evaluations: 336\n"
     ]
    },
    {
     "name": "stderr",
     "output_type": "stream",
     "text": [
      "d:\\Work\\Development\\Python\\SDP\\venv\\lib\\site-packages\\statsmodels\\tsa\\statespace\\sarimax.py:966: UserWarning: Non-stationary starting autoregressive parameters found. Using zeros as starting parameters.\n",
      "  warn('Non-stationary starting autoregressive parameters'\n",
      "d:\\Work\\Development\\Python\\SDP\\venv\\lib\\site-packages\\statsmodels\\tsa\\statespace\\sarimax.py:978: UserWarning: Non-invertible starting MA parameters found. Using zeros as starting parameters.\n",
      "  warn('Non-invertible starting MA parameters found.'\n"
     ]
    },
    {
     "name": "stdout",
     "output_type": "stream",
     "text": [
      "Optimization terminated successfully.\n",
      "         Current function value: -0.112237\n",
      "         Iterations: 2\n",
      "         Function evaluations: 337\n"
     ]
    },
    {
     "name": "stderr",
     "output_type": "stream",
     "text": [
      "d:\\Work\\Development\\Python\\SDP\\venv\\lib\\site-packages\\statsmodels\\tsa\\statespace\\sarimax.py:966: UserWarning: Non-stationary starting autoregressive parameters found. Using zeros as starting parameters.\n",
      "  warn('Non-stationary starting autoregressive parameters'\n",
      "d:\\Work\\Development\\Python\\SDP\\venv\\lib\\site-packages\\statsmodels\\tsa\\statespace\\sarimax.py:978: UserWarning: Non-invertible starting MA parameters found. Using zeros as starting parameters.\n",
      "  warn('Non-invertible starting MA parameters found.'\n"
     ]
    },
    {
     "name": "stdout",
     "output_type": "stream",
     "text": [
      "Optimization terminated successfully.\n",
      "         Current function value: -0.112239\n",
      "         Iterations: 2\n",
      "         Function evaluations: 361\n"
     ]
    },
    {
     "name": "stderr",
     "output_type": "stream",
     "text": [
      "d:\\Work\\Development\\Python\\SDP\\venv\\lib\\site-packages\\statsmodels\\tsa\\statespace\\sarimax.py:966: UserWarning: Non-stationary starting autoregressive parameters found. Using zeros as starting parameters.\n",
      "  warn('Non-stationary starting autoregressive parameters'\n",
      "d:\\Work\\Development\\Python\\SDP\\venv\\lib\\site-packages\\statsmodels\\tsa\\statespace\\sarimax.py:978: UserWarning: Non-invertible starting MA parameters found. Using zeros as starting parameters.\n",
      "  warn('Non-invertible starting MA parameters found.'\n"
     ]
    },
    {
     "name": "stdout",
     "output_type": "stream",
     "text": [
      "Optimization terminated successfully.\n",
      "         Current function value: -0.112244\n",
      "         Iterations: 2\n",
      "         Function evaluations: 374\n"
     ]
    },
    {
     "name": "stderr",
     "output_type": "stream",
     "text": [
      "d:\\Work\\Development\\Python\\SDP\\venv\\lib\\site-packages\\statsmodels\\tsa\\statespace\\sarimax.py:966: UserWarning: Non-stationary starting autoregressive parameters found. Using zeros as starting parameters.\n",
      "  warn('Non-stationary starting autoregressive parameters'\n",
      "d:\\Work\\Development\\Python\\SDP\\venv\\lib\\site-packages\\statsmodels\\tsa\\statespace\\sarimax.py:978: UserWarning: Non-invertible starting MA parameters found. Using zeros as starting parameters.\n",
      "  warn('Non-invertible starting MA parameters found.'\n"
     ]
    },
    {
     "name": "stdout",
     "output_type": "stream",
     "text": [
      "Optimization terminated successfully.\n",
      "         Current function value: -0.112248\n",
      "         Iterations: 2\n",
      "         Function evaluations: 392\n",
      "Optimization terminated successfully.\n",
      "         Current function value: -0.113225\n",
      "         Iterations: 2\n",
      "         Function evaluations: 252\n",
      "Optimization terminated successfully.\n",
      "         Current function value: -0.113138\n",
      "         Iterations: 3\n",
      "         Function evaluations: 398\n",
      "Optimization terminated successfully.\n",
      "         Current function value: -0.113127\n",
      "         Iterations: 2\n",
      "         Function evaluations: 279\n",
      "Optimization terminated successfully.\n",
      "         Current function value: -0.113130\n",
      "         Iterations: 2\n",
      "         Function evaluations: 311\n"
     ]
    },
    {
     "name": "stderr",
     "output_type": "stream",
     "text": [
      "d:\\Work\\Development\\Python\\SDP\\venv\\lib\\site-packages\\statsmodels\\tsa\\statespace\\sarimax.py:966: UserWarning: Non-stationary starting autoregressive parameters found. Using zeros as starting parameters.\n",
      "  warn('Non-stationary starting autoregressive parameters'\n",
      "d:\\Work\\Development\\Python\\SDP\\venv\\lib\\site-packages\\statsmodels\\tsa\\statespace\\sarimax.py:978: UserWarning: Non-invertible starting MA parameters found. Using zeros as starting parameters.\n",
      "  warn('Non-invertible starting MA parameters found.'\n"
     ]
    },
    {
     "name": "stdout",
     "output_type": "stream",
     "text": [
      "Optimization terminated successfully.\n",
      "         Current function value: -0.113224\n",
      "         Iterations: 2\n",
      "         Function evaluations: 322\n"
     ]
    },
    {
     "name": "stderr",
     "output_type": "stream",
     "text": [
      "d:\\Work\\Development\\Python\\SDP\\venv\\lib\\site-packages\\statsmodels\\tsa\\statespace\\sarimax.py:966: UserWarning: Non-stationary starting autoregressive parameters found. Using zeros as starting parameters.\n",
      "  warn('Non-stationary starting autoregressive parameters'\n",
      "d:\\Work\\Development\\Python\\SDP\\venv\\lib\\site-packages\\statsmodels\\tsa\\statespace\\sarimax.py:978: UserWarning: Non-invertible starting MA parameters found. Using zeros as starting parameters.\n",
      "  warn('Non-invertible starting MA parameters found.'\n"
     ]
    },
    {
     "name": "stdout",
     "output_type": "stream",
     "text": [
      "Optimization terminated successfully.\n",
      "         Current function value: -0.113226\n",
      "         Iterations: 2\n",
      "         Function evaluations: 344\n"
     ]
    },
    {
     "name": "stderr",
     "output_type": "stream",
     "text": [
      "d:\\Work\\Development\\Python\\SDP\\venv\\lib\\site-packages\\statsmodels\\tsa\\statespace\\sarimax.py:966: UserWarning: Non-stationary starting autoregressive parameters found. Using zeros as starting parameters.\n",
      "  warn('Non-stationary starting autoregressive parameters'\n",
      "d:\\Work\\Development\\Python\\SDP\\venv\\lib\\site-packages\\statsmodels\\tsa\\statespace\\sarimax.py:978: UserWarning: Non-invertible starting MA parameters found. Using zeros as starting parameters.\n",
      "  warn('Non-invertible starting MA parameters found.'\n"
     ]
    },
    {
     "name": "stdout",
     "output_type": "stream",
     "text": [
      "Optimization terminated successfully.\n",
      "         Current function value: -0.113226\n",
      "         Iterations: 2\n",
      "         Function evaluations: 362\n"
     ]
    },
    {
     "name": "stderr",
     "output_type": "stream",
     "text": [
      "d:\\Work\\Development\\Python\\SDP\\venv\\lib\\site-packages\\statsmodels\\tsa\\statespace\\sarimax.py:966: UserWarning: Non-stationary starting autoregressive parameters found. Using zeros as starting parameters.\n",
      "  warn('Non-stationary starting autoregressive parameters'\n",
      "d:\\Work\\Development\\Python\\SDP\\venv\\lib\\site-packages\\statsmodels\\tsa\\statespace\\sarimax.py:978: UserWarning: Non-invertible starting MA parameters found. Using zeros as starting parameters.\n",
      "  warn('Non-invertible starting MA parameters found.'\n"
     ]
    },
    {
     "name": "stdout",
     "output_type": "stream",
     "text": [
      "Optimization terminated successfully.\n",
      "         Current function value: -0.113227\n",
      "         Iterations: 2\n",
      "         Function evaluations: 377\n"
     ]
    },
    {
     "name": "stderr",
     "output_type": "stream",
     "text": [
      "d:\\Work\\Development\\Python\\SDP\\venv\\lib\\site-packages\\statsmodels\\tsa\\statespace\\sarimax.py:966: UserWarning: Non-stationary starting autoregressive parameters found. Using zeros as starting parameters.\n",
      "  warn('Non-stationary starting autoregressive parameters'\n",
      "d:\\Work\\Development\\Python\\SDP\\venv\\lib\\site-packages\\statsmodels\\tsa\\statespace\\sarimax.py:978: UserWarning: Non-invertible starting MA parameters found. Using zeros as starting parameters.\n",
      "  warn('Non-invertible starting MA parameters found.'\n"
     ]
    },
    {
     "name": "stdout",
     "output_type": "stream",
     "text": [
      "Optimization terminated successfully.\n",
      "         Current function value: -0.113226\n",
      "         Iterations: 2\n",
      "         Function evaluations: 398\n"
     ]
    },
    {
     "name": "stderr",
     "output_type": "stream",
     "text": [
      "d:\\Work\\Development\\Python\\SDP\\venv\\lib\\site-packages\\statsmodels\\tsa\\statespace\\sarimax.py:966: UserWarning: Non-stationary starting autoregressive parameters found. Using zeros as starting parameters.\n",
      "  warn('Non-stationary starting autoregressive parameters'\n",
      "d:\\Work\\Development\\Python\\SDP\\venv\\lib\\site-packages\\statsmodels\\tsa\\statespace\\sarimax.py:978: UserWarning: Non-invertible starting MA parameters found. Using zeros as starting parameters.\n",
      "  warn('Non-invertible starting MA parameters found.'\n"
     ]
    },
    {
     "name": "stdout",
     "output_type": "stream",
     "text": [
      "Optimization terminated successfully.\n",
      "         Current function value: -0.113226\n",
      "         Iterations: 2\n",
      "         Function evaluations: 417\n",
      "Optimization terminated successfully.\n",
      "         Current function value: -0.112237\n",
      "         Iterations: 1\n",
      "         Function evaluations: 141\n",
      "Optimization terminated successfully.\n",
      "         Current function value: -0.112235\n",
      "         Iterations: 2\n",
      "         Function evaluations: 261\n",
      "Optimization terminated successfully.\n",
      "         Current function value: -0.112192\n",
      "         Iterations: 2\n",
      "         Function evaluations: 285\n",
      "Optimization terminated successfully.\n",
      "         Current function value: -0.112184\n",
      "         Iterations: 2\n",
      "         Function evaluations: 367\n"
     ]
    },
    {
     "name": "stderr",
     "output_type": "stream",
     "text": [
      "d:\\Work\\Development\\Python\\SDP\\venv\\lib\\site-packages\\statsmodels\\tsa\\statespace\\sarimax.py:966: UserWarning: Non-stationary starting autoregressive parameters found. Using zeros as starting parameters.\n",
      "  warn('Non-stationary starting autoregressive parameters'\n",
      "d:\\Work\\Development\\Python\\SDP\\venv\\lib\\site-packages\\statsmodels\\tsa\\statespace\\sarimax.py:978: UserWarning: Non-invertible starting MA parameters found. Using zeros as starting parameters.\n",
      "  warn('Non-invertible starting MA parameters found.'\n"
     ]
    },
    {
     "name": "stdout",
     "output_type": "stream",
     "text": [
      "Optimization terminated successfully.\n",
      "         Current function value: -0.112238\n",
      "         Iterations: 2\n",
      "         Function evaluations: 346\n"
     ]
    },
    {
     "name": "stderr",
     "output_type": "stream",
     "text": [
      "d:\\Work\\Development\\Python\\SDP\\venv\\lib\\site-packages\\statsmodels\\tsa\\statespace\\sarimax.py:966: UserWarning: Non-stationary starting autoregressive parameters found. Using zeros as starting parameters.\n",
      "  warn('Non-stationary starting autoregressive parameters'\n",
      "d:\\Work\\Development\\Python\\SDP\\venv\\lib\\site-packages\\statsmodels\\tsa\\statespace\\sarimax.py:978: UserWarning: Non-invertible starting MA parameters found. Using zeros as starting parameters.\n",
      "  warn('Non-invertible starting MA parameters found.'\n"
     ]
    },
    {
     "name": "stdout",
     "output_type": "stream",
     "text": [
      "Optimization terminated successfully.\n",
      "         Current function value: -0.112238\n",
      "         Iterations: 2\n",
      "         Function evaluations: 364\n"
     ]
    },
    {
     "name": "stderr",
     "output_type": "stream",
     "text": [
      "d:\\Work\\Development\\Python\\SDP\\venv\\lib\\site-packages\\statsmodels\\tsa\\statespace\\sarimax.py:966: UserWarning: Non-stationary starting autoregressive parameters found. Using zeros as starting parameters.\n",
      "  warn('Non-stationary starting autoregressive parameters'\n",
      "d:\\Work\\Development\\Python\\SDP\\venv\\lib\\site-packages\\statsmodels\\tsa\\statespace\\sarimax.py:978: UserWarning: Non-invertible starting MA parameters found. Using zeros as starting parameters.\n",
      "  warn('Non-invertible starting MA parameters found.'\n"
     ]
    },
    {
     "name": "stdout",
     "output_type": "stream",
     "text": [
      "Optimization terminated successfully.\n",
      "         Current function value: -0.112238\n",
      "         Iterations: 2\n",
      "         Function evaluations: 357\n"
     ]
    },
    {
     "name": "stderr",
     "output_type": "stream",
     "text": [
      "d:\\Work\\Development\\Python\\SDP\\venv\\lib\\site-packages\\statsmodels\\tsa\\statespace\\sarimax.py:966: UserWarning: Non-stationary starting autoregressive parameters found. Using zeros as starting parameters.\n",
      "  warn('Non-stationary starting autoregressive parameters'\n",
      "d:\\Work\\Development\\Python\\SDP\\venv\\lib\\site-packages\\statsmodels\\tsa\\statespace\\sarimax.py:978: UserWarning: Non-invertible starting MA parameters found. Using zeros as starting parameters.\n",
      "  warn('Non-invertible starting MA parameters found.'\n"
     ]
    },
    {
     "name": "stdout",
     "output_type": "stream",
     "text": [
      "Optimization terminated successfully.\n",
      "         Current function value: -0.112240\n",
      "         Iterations: 2\n",
      "         Function evaluations: 375\n"
     ]
    },
    {
     "name": "stderr",
     "output_type": "stream",
     "text": [
      "d:\\Work\\Development\\Python\\SDP\\venv\\lib\\site-packages\\statsmodels\\tsa\\statespace\\sarimax.py:966: UserWarning: Non-stationary starting autoregressive parameters found. Using zeros as starting parameters.\n",
      "  warn('Non-stationary starting autoregressive parameters'\n",
      "d:\\Work\\Development\\Python\\SDP\\venv\\lib\\site-packages\\statsmodels\\tsa\\statespace\\sarimax.py:978: UserWarning: Non-invertible starting MA parameters found. Using zeros as starting parameters.\n",
      "  warn('Non-invertible starting MA parameters found.'\n"
     ]
    },
    {
     "name": "stdout",
     "output_type": "stream",
     "text": [
      "Optimization terminated successfully.\n",
      "         Current function value: -0.112244\n",
      "         Iterations: 2\n",
      "         Function evaluations: 391\n"
     ]
    },
    {
     "name": "stderr",
     "output_type": "stream",
     "text": [
      "d:\\Work\\Development\\Python\\SDP\\venv\\lib\\site-packages\\statsmodels\\tsa\\statespace\\sarimax.py:966: UserWarning: Non-stationary starting autoregressive parameters found. Using zeros as starting parameters.\n",
      "  warn('Non-stationary starting autoregressive parameters'\n",
      "d:\\Work\\Development\\Python\\SDP\\venv\\lib\\site-packages\\statsmodels\\tsa\\statespace\\sarimax.py:978: UserWarning: Non-invertible starting MA parameters found. Using zeros as starting parameters.\n",
      "  warn('Non-invertible starting MA parameters found.'\n"
     ]
    },
    {
     "name": "stdout",
     "output_type": "stream",
     "text": [
      "Optimization terminated successfully.\n",
      "         Current function value: -0.112248\n",
      "         Iterations: 2\n",
      "         Function evaluations: 422\n",
      "Optimization terminated successfully.\n",
      "         Current function value: -0.113226\n",
      "         Iterations: 2\n",
      "         Function evaluations: 274\n",
      "Optimization terminated successfully.\n",
      "         Current function value: -0.113241\n",
      "         Iterations: 3\n",
      "         Function evaluations: 424\n",
      "Optimization terminated successfully.\n",
      "         Current function value: -0.113291\n",
      "         Iterations: 2\n",
      "         Function evaluations: 299\n",
      "Optimization terminated successfully.\n",
      "         Current function value: -0.113300\n",
      "         Iterations: 2\n",
      "         Function evaluations: 322\n",
      "Optimization terminated successfully.\n",
      "         Current function value: -0.112616\n",
      "         Iterations: 2\n",
      "         Function evaluations: 347\n"
     ]
    },
    {
     "name": "stderr",
     "output_type": "stream",
     "text": [
      "d:\\Work\\Development\\Python\\SDP\\venv\\lib\\site-packages\\statsmodels\\tsa\\statespace\\sarimax.py:966: UserWarning: Non-stationary starting autoregressive parameters found. Using zeros as starting parameters.\n",
      "  warn('Non-stationary starting autoregressive parameters'\n",
      "d:\\Work\\Development\\Python\\SDP\\venv\\lib\\site-packages\\statsmodels\\tsa\\statespace\\sarimax.py:978: UserWarning: Non-invertible starting MA parameters found. Using zeros as starting parameters.\n",
      "  warn('Non-invertible starting MA parameters found.'\n"
     ]
    },
    {
     "name": "stdout",
     "output_type": "stream",
     "text": [
      "Optimization terminated successfully.\n",
      "         Current function value: -0.113226\n",
      "         Iterations: 2\n",
      "         Function evaluations: 364\n"
     ]
    },
    {
     "name": "stderr",
     "output_type": "stream",
     "text": [
      "d:\\Work\\Development\\Python\\SDP\\venv\\lib\\site-packages\\statsmodels\\tsa\\statespace\\sarimax.py:966: UserWarning: Non-stationary starting autoregressive parameters found. Using zeros as starting parameters.\n",
      "  warn('Non-stationary starting autoregressive parameters'\n",
      "d:\\Work\\Development\\Python\\SDP\\venv\\lib\\site-packages\\statsmodels\\tsa\\statespace\\sarimax.py:978: UserWarning: Non-invertible starting MA parameters found. Using zeros as starting parameters.\n",
      "  warn('Non-invertible starting MA parameters found.'\n"
     ]
    },
    {
     "name": "stdout",
     "output_type": "stream",
     "text": [
      "Optimization terminated successfully.\n",
      "         Current function value: -0.113226\n",
      "         Iterations: 2\n",
      "         Function evaluations: 383\n"
     ]
    },
    {
     "name": "stderr",
     "output_type": "stream",
     "text": [
      "d:\\Work\\Development\\Python\\SDP\\venv\\lib\\site-packages\\statsmodels\\tsa\\statespace\\sarimax.py:966: UserWarning: Non-stationary starting autoregressive parameters found. Using zeros as starting parameters.\n",
      "  warn('Non-stationary starting autoregressive parameters'\n",
      "d:\\Work\\Development\\Python\\SDP\\venv\\lib\\site-packages\\statsmodels\\tsa\\statespace\\sarimax.py:978: UserWarning: Non-invertible starting MA parameters found. Using zeros as starting parameters.\n",
      "  warn('Non-invertible starting MA parameters found.'\n"
     ]
    },
    {
     "name": "stdout",
     "output_type": "stream",
     "text": [
      "Optimization terminated successfully.\n",
      "         Current function value: -0.113226\n",
      "         Iterations: 2\n",
      "         Function evaluations: 401\n"
     ]
    },
    {
     "name": "stderr",
     "output_type": "stream",
     "text": [
      "d:\\Work\\Development\\Python\\SDP\\venv\\lib\\site-packages\\statsmodels\\tsa\\statespace\\sarimax.py:966: UserWarning: Non-stationary starting autoregressive parameters found. Using zeros as starting parameters.\n",
      "  warn('Non-stationary starting autoregressive parameters'\n",
      "d:\\Work\\Development\\Python\\SDP\\venv\\lib\\site-packages\\statsmodels\\tsa\\statespace\\sarimax.py:978: UserWarning: Non-invertible starting MA parameters found. Using zeros as starting parameters.\n",
      "  warn('Non-invertible starting MA parameters found.'\n"
     ]
    },
    {
     "name": "stdout",
     "output_type": "stream",
     "text": [
      "Optimization terminated successfully.\n",
      "         Current function value: -0.113226\n",
      "         Iterations: 2\n",
      "         Function evaluations: 419\n"
     ]
    },
    {
     "name": "stderr",
     "output_type": "stream",
     "text": [
      "d:\\Work\\Development\\Python\\SDP\\venv\\lib\\site-packages\\statsmodels\\tsa\\statespace\\sarimax.py:966: UserWarning: Non-stationary starting autoregressive parameters found. Using zeros as starting parameters.\n",
      "  warn('Non-stationary starting autoregressive parameters'\n",
      "d:\\Work\\Development\\Python\\SDP\\venv\\lib\\site-packages\\statsmodels\\tsa\\statespace\\sarimax.py:978: UserWarning: Non-invertible starting MA parameters found. Using zeros as starting parameters.\n",
      "  warn('Non-invertible starting MA parameters found.'\n"
     ]
    },
    {
     "name": "stdout",
     "output_type": "stream",
     "text": [
      "Optimization terminated successfully.\n",
      "         Current function value: -0.113226\n",
      "         Iterations: 2\n",
      "         Function evaluations: 439\n",
      "Optimization terminated successfully.\n",
      "         Current function value: -0.112352\n",
      "         Iterations: 1\n",
      "         Function evaluations: 134\n",
      "Optimization terminated successfully.\n",
      "         Current function value: -0.112329\n",
      "         Iterations: 2\n",
      "         Function evaluations: 281\n",
      "Optimization terminated successfully.\n",
      "         Current function value: -0.112301\n",
      "         Iterations: 2\n",
      "         Function evaluations: 315\n",
      "Optimization terminated successfully.\n",
      "         Current function value: -0.112363\n",
      "         Iterations: 2\n",
      "         Function evaluations: 376\n",
      "Optimization terminated successfully.\n",
      "         Current function value: -0.112295\n",
      "         Iterations: 3\n",
      "         Function evaluations: 538\n"
     ]
    },
    {
     "name": "stderr",
     "output_type": "stream",
     "text": [
      "d:\\Work\\Development\\Python\\SDP\\venv\\lib\\site-packages\\statsmodels\\tsa\\statespace\\sarimax.py:966: UserWarning: Non-stationary starting autoregressive parameters found. Using zeros as starting parameters.\n",
      "  warn('Non-stationary starting autoregressive parameters'\n",
      "d:\\Work\\Development\\Python\\SDP\\venv\\lib\\site-packages\\statsmodels\\tsa\\statespace\\sarimax.py:978: UserWarning: Non-invertible starting MA parameters found. Using zeros as starting parameters.\n",
      "  warn('Non-invertible starting MA parameters found.'\n"
     ]
    },
    {
     "name": "stdout",
     "output_type": "stream",
     "text": [
      "Optimization terminated successfully.\n",
      "         Current function value: -0.112360\n",
      "         Iterations: 2\n",
      "         Function evaluations: 354\n"
     ]
    },
    {
     "name": "stderr",
     "output_type": "stream",
     "text": [
      "d:\\Work\\Development\\Python\\SDP\\venv\\lib\\site-packages\\statsmodels\\tsa\\statespace\\sarimax.py:966: UserWarning: Non-stationary starting autoregressive parameters found. Using zeros as starting parameters.\n",
      "  warn('Non-stationary starting autoregressive parameters'\n",
      "d:\\Work\\Development\\Python\\SDP\\venv\\lib\\site-packages\\statsmodels\\tsa\\statespace\\sarimax.py:978: UserWarning: Non-invertible starting MA parameters found. Using zeros as starting parameters.\n",
      "  warn('Non-invertible starting MA parameters found.'\n"
     ]
    },
    {
     "name": "stdout",
     "output_type": "stream",
     "text": [
      "Optimization terminated successfully.\n",
      "         Current function value: -0.112364\n",
      "         Iterations: 2\n",
      "         Function evaluations: 375\n"
     ]
    },
    {
     "name": "stderr",
     "output_type": "stream",
     "text": [
      "d:\\Work\\Development\\Python\\SDP\\venv\\lib\\site-packages\\statsmodels\\tsa\\statespace\\sarimax.py:966: UserWarning: Non-stationary starting autoregressive parameters found. Using zeros as starting parameters.\n",
      "  warn('Non-stationary starting autoregressive parameters'\n",
      "d:\\Work\\Development\\Python\\SDP\\venv\\lib\\site-packages\\statsmodels\\tsa\\statespace\\sarimax.py:978: UserWarning: Non-invertible starting MA parameters found. Using zeros as starting parameters.\n",
      "  warn('Non-invertible starting MA parameters found.'\n"
     ]
    },
    {
     "name": "stdout",
     "output_type": "stream",
     "text": [
      "Optimization terminated successfully.\n",
      "         Current function value: -0.112511\n",
      "         Iterations: 3\n",
      "         Function evaluations: 598\n"
     ]
    },
    {
     "name": "stderr",
     "output_type": "stream",
     "text": [
      "d:\\Work\\Development\\Python\\SDP\\venv\\lib\\site-packages\\statsmodels\\tsa\\statespace\\sarimax.py:966: UserWarning: Non-stationary starting autoregressive parameters found. Using zeros as starting parameters.\n",
      "  warn('Non-stationary starting autoregressive parameters'\n",
      "d:\\Work\\Development\\Python\\SDP\\venv\\lib\\site-packages\\statsmodels\\tsa\\statespace\\sarimax.py:978: UserWarning: Non-invertible starting MA parameters found. Using zeros as starting parameters.\n",
      "  warn('Non-invertible starting MA parameters found.'\n"
     ]
    },
    {
     "name": "stdout",
     "output_type": "stream",
     "text": [
      "Optimization terminated successfully.\n",
      "         Current function value: -0.112502\n",
      "         Iterations: 3\n",
      "         Function evaluations: 618\n"
     ]
    },
    {
     "name": "stderr",
     "output_type": "stream",
     "text": [
      "d:\\Work\\Development\\Python\\SDP\\venv\\lib\\site-packages\\statsmodels\\tsa\\statespace\\sarimax.py:966: UserWarning: Non-stationary starting autoregressive parameters found. Using zeros as starting parameters.\n",
      "  warn('Non-stationary starting autoregressive parameters'\n",
      "d:\\Work\\Development\\Python\\SDP\\venv\\lib\\site-packages\\statsmodels\\tsa\\statespace\\sarimax.py:978: UserWarning: Non-invertible starting MA parameters found. Using zeros as starting parameters.\n",
      "  warn('Non-invertible starting MA parameters found.'\n"
     ]
    },
    {
     "name": "stdout",
     "output_type": "stream",
     "text": [
      "Optimization terminated successfully.\n",
      "         Current function value: -0.112509\n",
      "         Iterations: 3\n",
      "         Function evaluations: 658\n",
      "Optimization terminated successfully.\n",
      "         Current function value: -0.113396\n",
      "         Iterations: 2\n",
      "         Function evaluations: 295\n",
      "Optimization terminated successfully.\n",
      "         Current function value: -0.113418\n",
      "         Iterations: 3\n",
      "         Function evaluations: 454\n",
      "Optimization terminated successfully.\n",
      "         Current function value: -0.113446\n",
      "         Iterations: 2\n",
      "         Function evaluations: 321\n",
      "Optimization terminated successfully.\n",
      "         Current function value: -0.113450\n",
      "         Iterations: 2\n",
      "         Function evaluations: 351\n",
      "Optimization terminated successfully.\n",
      "         Current function value: -0.113448\n",
      "         Iterations: 2\n",
      "         Function evaluations: 369\n"
     ]
    },
    {
     "name": "stderr",
     "output_type": "stream",
     "text": [
      "d:\\Work\\Development\\Python\\SDP\\venv\\lib\\site-packages\\statsmodels\\tsa\\statespace\\sarimax.py:966: UserWarning: Non-stationary starting autoregressive parameters found. Using zeros as starting parameters.\n",
      "  warn('Non-stationary starting autoregressive parameters'\n",
      "d:\\Work\\Development\\Python\\SDP\\venv\\lib\\site-packages\\statsmodels\\tsa\\statespace\\sarimax.py:978: UserWarning: Non-invertible starting MA parameters found. Using zeros as starting parameters.\n",
      "  warn('Non-invertible starting MA parameters found.'\n"
     ]
    },
    {
     "name": "stdout",
     "output_type": "stream",
     "text": [
      "Optimization terminated successfully.\n",
      "         Current function value: -0.113396\n",
      "         Iterations: 2\n",
      "         Function evaluations: 384\n"
     ]
    },
    {
     "name": "stderr",
     "output_type": "stream",
     "text": [
      "d:\\Work\\Development\\Python\\SDP\\venv\\lib\\site-packages\\statsmodels\\tsa\\statespace\\sarimax.py:966: UserWarning: Non-stationary starting autoregressive parameters found. Using zeros as starting parameters.\n",
      "  warn('Non-stationary starting autoregressive parameters'\n",
      "d:\\Work\\Development\\Python\\SDP\\venv\\lib\\site-packages\\statsmodels\\tsa\\statespace\\sarimax.py:978: UserWarning: Non-invertible starting MA parameters found. Using zeros as starting parameters.\n",
      "  warn('Non-invertible starting MA parameters found.'\n"
     ]
    },
    {
     "name": "stdout",
     "output_type": "stream",
     "text": [
      "Optimization terminated successfully.\n",
      "         Current function value: -0.113397\n",
      "         Iterations: 2\n",
      "         Function evaluations: 401\n"
     ]
    },
    {
     "name": "stderr",
     "output_type": "stream",
     "text": [
      "d:\\Work\\Development\\Python\\SDP\\venv\\lib\\site-packages\\statsmodels\\tsa\\statespace\\sarimax.py:966: UserWarning: Non-stationary starting autoregressive parameters found. Using zeros as starting parameters.\n",
      "  warn('Non-stationary starting autoregressive parameters'\n",
      "d:\\Work\\Development\\Python\\SDP\\venv\\lib\\site-packages\\statsmodels\\tsa\\statespace\\sarimax.py:978: UserWarning: Non-invertible starting MA parameters found. Using zeros as starting parameters.\n",
      "  warn('Non-invertible starting MA parameters found.'\n"
     ]
    },
    {
     "name": "stdout",
     "output_type": "stream",
     "text": [
      "Optimization terminated successfully.\n",
      "         Current function value: -0.113400\n",
      "         Iterations: 2\n",
      "         Function evaluations: 419\n"
     ]
    },
    {
     "name": "stderr",
     "output_type": "stream",
     "text": [
      "d:\\Work\\Development\\Python\\SDP\\venv\\lib\\site-packages\\statsmodels\\tsa\\statespace\\sarimax.py:966: UserWarning: Non-stationary starting autoregressive parameters found. Using zeros as starting parameters.\n",
      "  warn('Non-stationary starting autoregressive parameters'\n",
      "d:\\Work\\Development\\Python\\SDP\\venv\\lib\\site-packages\\statsmodels\\tsa\\statespace\\sarimax.py:978: UserWarning: Non-invertible starting MA parameters found. Using zeros as starting parameters.\n",
      "  warn('Non-invertible starting MA parameters found.'\n"
     ]
    },
    {
     "name": "stdout",
     "output_type": "stream",
     "text": [
      "Optimization terminated successfully.\n",
      "         Current function value: -0.113407\n",
      "         Iterations: 2\n",
      "         Function evaluations: 438\n"
     ]
    },
    {
     "name": "stderr",
     "output_type": "stream",
     "text": [
      "d:\\Work\\Development\\Python\\SDP\\venv\\lib\\site-packages\\statsmodels\\tsa\\statespace\\sarimax.py:966: UserWarning: Non-stationary starting autoregressive parameters found. Using zeros as starting parameters.\n",
      "  warn('Non-stationary starting autoregressive parameters'\n",
      "d:\\Work\\Development\\Python\\SDP\\venv\\lib\\site-packages\\statsmodels\\tsa\\statespace\\sarimax.py:978: UserWarning: Non-invertible starting MA parameters found. Using zeros as starting parameters.\n",
      "  warn('Non-invertible starting MA parameters found.'\n"
     ]
    },
    {
     "name": "stdout",
     "output_type": "stream",
     "text": [
      "Optimization terminated successfully.\n",
      "         Current function value: -0.113464\n",
      "         Iterations: 4\n",
      "         Function evaluations: 905\n",
      "Optimization terminated successfully.\n",
      "         Current function value: -0.112491\n",
      "         Iterations: 1\n",
      "         Function evaluations: 146\n",
      "Optimization terminated successfully.\n",
      "         Current function value: -0.112523\n",
      "         Iterations: 2\n",
      "         Function evaluations: 316\n",
      "Optimization terminated successfully.\n",
      "         Current function value: -0.112486\n",
      "         Iterations: 2\n",
      "         Function evaluations: 322\n",
      "Optimization terminated successfully.\n",
      "         Current function value: -0.112472\n",
      "         Iterations: 2\n",
      "         Function evaluations: 407\n",
      "Optimization terminated successfully.\n",
      "         Current function value: -0.112494\n",
      "         Iterations: 2\n",
      "         Function evaluations: 390\n"
     ]
    },
    {
     "name": "stderr",
     "output_type": "stream",
     "text": [
      "d:\\Work\\Development\\Python\\SDP\\venv\\lib\\site-packages\\statsmodels\\tsa\\statespace\\sarimax.py:966: UserWarning: Non-stationary starting autoregressive parameters found. Using zeros as starting parameters.\n",
      "  warn('Non-stationary starting autoregressive parameters'\n",
      "d:\\Work\\Development\\Python\\SDP\\venv\\lib\\site-packages\\statsmodels\\tsa\\statespace\\sarimax.py:978: UserWarning: Non-invertible starting MA parameters found. Using zeros as starting parameters.\n",
      "  warn('Non-invertible starting MA parameters found.'\n"
     ]
    },
    {
     "name": "stdout",
     "output_type": "stream",
     "text": [
      "Optimization terminated successfully.\n",
      "         Current function value: -0.112494\n",
      "         Iterations: 2\n",
      "         Function evaluations: 374\n"
     ]
    },
    {
     "name": "stderr",
     "output_type": "stream",
     "text": [
      "d:\\Work\\Development\\Python\\SDP\\venv\\lib\\site-packages\\statsmodels\\tsa\\statespace\\sarimax.py:966: UserWarning: Non-stationary starting autoregressive parameters found. Using zeros as starting parameters.\n",
      "  warn('Non-stationary starting autoregressive parameters'\n",
      "d:\\Work\\Development\\Python\\SDP\\venv\\lib\\site-packages\\statsmodels\\tsa\\statespace\\sarimax.py:978: UserWarning: Non-invertible starting MA parameters found. Using zeros as starting parameters.\n",
      "  warn('Non-invertible starting MA parameters found.'\n"
     ]
    },
    {
     "name": "stdout",
     "output_type": "stream",
     "text": [
      "Optimization terminated successfully.\n",
      "         Current function value: -0.112495\n",
      "         Iterations: 2\n",
      "         Function evaluations: 395\n"
     ]
    },
    {
     "name": "stderr",
     "output_type": "stream",
     "text": [
      "d:\\Work\\Development\\Python\\SDP\\venv\\lib\\site-packages\\statsmodels\\tsa\\statespace\\sarimax.py:966: UserWarning: Non-stationary starting autoregressive parameters found. Using zeros as starting parameters.\n",
      "  warn('Non-stationary starting autoregressive parameters'\n",
      "d:\\Work\\Development\\Python\\SDP\\venv\\lib\\site-packages\\statsmodels\\tsa\\statespace\\sarimax.py:978: UserWarning: Non-invertible starting MA parameters found. Using zeros as starting parameters.\n",
      "  warn('Non-invertible starting MA parameters found.'\n"
     ]
    },
    {
     "name": "stdout",
     "output_type": "stream",
     "text": [
      "Optimization terminated successfully.\n",
      "         Current function value: -0.112495\n",
      "         Iterations: 2\n",
      "         Function evaluations: 417\n"
     ]
    },
    {
     "name": "stderr",
     "output_type": "stream",
     "text": [
      "d:\\Work\\Development\\Python\\SDP\\venv\\lib\\site-packages\\statsmodels\\tsa\\statespace\\sarimax.py:966: UserWarning: Non-stationary starting autoregressive parameters found. Using zeros as starting parameters.\n",
      "  warn('Non-stationary starting autoregressive parameters'\n",
      "d:\\Work\\Development\\Python\\SDP\\venv\\lib\\site-packages\\statsmodels\\tsa\\statespace\\sarimax.py:978: UserWarning: Non-invertible starting MA parameters found. Using zeros as starting parameters.\n",
      "  warn('Non-invertible starting MA parameters found.'\n"
     ]
    },
    {
     "name": "stdout",
     "output_type": "stream",
     "text": [
      "Optimization terminated successfully.\n",
      "         Current function value: -0.112498\n",
      "         Iterations: 2\n",
      "         Function evaluations: 426\n"
     ]
    },
    {
     "name": "stderr",
     "output_type": "stream",
     "text": [
      "d:\\Work\\Development\\Python\\SDP\\venv\\lib\\site-packages\\statsmodels\\tsa\\statespace\\sarimax.py:966: UserWarning: Non-stationary starting autoregressive parameters found. Using zeros as starting parameters.\n",
      "  warn('Non-stationary starting autoregressive parameters'\n",
      "d:\\Work\\Development\\Python\\SDP\\venv\\lib\\site-packages\\statsmodels\\tsa\\statespace\\sarimax.py:978: UserWarning: Non-invertible starting MA parameters found. Using zeros as starting parameters.\n",
      "  warn('Non-invertible starting MA parameters found.'\n"
     ]
    },
    {
     "name": "stdout",
     "output_type": "stream",
     "text": [
      "Optimization terminated successfully.\n",
      "         Current function value: -0.112504\n",
      "         Iterations: 2\n",
      "         Function evaluations: 449\n",
      "Optimization terminated successfully.\n",
      "         Current function value: -0.113486\n",
      "         Iterations: 2\n",
      "         Function evaluations: 318\n",
      "Optimization terminated successfully.\n",
      "         Current function value: -0.113418\n",
      "         Iterations: 3\n",
      "         Function evaluations: 484\n",
      "Optimization terminated successfully.\n",
      "         Current function value: -0.113447\n",
      "         Iterations: 2\n",
      "         Function evaluations: 340\n",
      "Optimization terminated successfully.\n",
      "         Current function value: -0.113451\n",
      "         Iterations: 2\n",
      "         Function evaluations: 367\n",
      "Optimization terminated successfully.\n",
      "         Current function value: -0.113449\n",
      "         Iterations: 2\n",
      "         Function evaluations: 395\n",
      "Optimization terminated successfully.\n",
      "         Current function value: -0.123940\n",
      "         Iterations: 15\n",
      "         Function evaluations: 3111\n"
     ]
    },
    {
     "name": "stderr",
     "output_type": "stream",
     "text": [
      "d:\\Work\\Development\\Python\\SDP\\venv\\lib\\site-packages\\statsmodels\\tsa\\statespace\\sarimax.py:966: UserWarning: Non-stationary starting autoregressive parameters found. Using zeros as starting parameters.\n",
      "  warn('Non-stationary starting autoregressive parameters'\n",
      "d:\\Work\\Development\\Python\\SDP\\venv\\lib\\site-packages\\statsmodels\\tsa\\statespace\\sarimax.py:978: UserWarning: Non-invertible starting MA parameters found. Using zeros as starting parameters.\n",
      "  warn('Non-invertible starting MA parameters found.'\n"
     ]
    },
    {
     "name": "stdout",
     "output_type": "stream",
     "text": [
      "Optimization terminated successfully.\n",
      "         Current function value: -0.113485\n",
      "         Iterations: 2\n",
      "         Function evaluations: 423\n"
     ]
    },
    {
     "name": "stderr",
     "output_type": "stream",
     "text": [
      "d:\\Work\\Development\\Python\\SDP\\venv\\lib\\site-packages\\statsmodels\\tsa\\statespace\\sarimax.py:966: UserWarning: Non-stationary starting autoregressive parameters found. Using zeros as starting parameters.\n",
      "  warn('Non-stationary starting autoregressive parameters'\n",
      "d:\\Work\\Development\\Python\\SDP\\venv\\lib\\site-packages\\statsmodels\\tsa\\statespace\\sarimax.py:978: UserWarning: Non-invertible starting MA parameters found. Using zeros as starting parameters.\n",
      "  warn('Non-invertible starting MA parameters found.'\n"
     ]
    },
    {
     "name": "stdout",
     "output_type": "stream",
     "text": [
      "Optimization terminated successfully.\n",
      "         Current function value: -0.113485\n",
      "         Iterations: 2\n",
      "         Function evaluations: 441\n"
     ]
    },
    {
     "name": "stderr",
     "output_type": "stream",
     "text": [
      "d:\\Work\\Development\\Python\\SDP\\venv\\lib\\site-packages\\statsmodels\\tsa\\statespace\\sarimax.py:966: UserWarning: Non-stationary starting autoregressive parameters found. Using zeros as starting parameters.\n",
      "  warn('Non-stationary starting autoregressive parameters'\n",
      "d:\\Work\\Development\\Python\\SDP\\venv\\lib\\site-packages\\statsmodels\\tsa\\statespace\\sarimax.py:978: UserWarning: Non-invertible starting MA parameters found. Using zeros as starting parameters.\n",
      "  warn('Non-invertible starting MA parameters found.'\n"
     ]
    },
    {
     "name": "stdout",
     "output_type": "stream",
     "text": [
      "Optimization terminated successfully.\n",
      "         Current function value: -0.113485\n",
      "         Iterations: 2\n",
      "         Function evaluations: 459\n"
     ]
    },
    {
     "name": "stderr",
     "output_type": "stream",
     "text": [
      "d:\\Work\\Development\\Python\\SDP\\venv\\lib\\site-packages\\statsmodels\\tsa\\statespace\\sarimax.py:966: UserWarning: Non-stationary starting autoregressive parameters found. Using zeros as starting parameters.\n",
      "  warn('Non-stationary starting autoregressive parameters'\n",
      "d:\\Work\\Development\\Python\\SDP\\venv\\lib\\site-packages\\statsmodels\\tsa\\statespace\\sarimax.py:978: UserWarning: Non-invertible starting MA parameters found. Using zeros as starting parameters.\n",
      "  warn('Non-invertible starting MA parameters found.'\n"
     ]
    },
    {
     "name": "stdout",
     "output_type": "stream",
     "text": [
      "Optimization terminated successfully.\n",
      "         Current function value: -0.113486\n",
      "         Iterations: 2\n",
      "         Function evaluations: 478\n",
      "Optimization terminated successfully.\n",
      "         Current function value: -0.112748\n",
      "         Iterations: 1\n",
      "         Function evaluations: 157\n",
      "Optimization terminated successfully.\n",
      "         Current function value: -0.112751\n",
      "         Iterations: 2\n",
      "         Function evaluations: 320\n",
      "Optimization terminated successfully.\n",
      "         Current function value: -0.112706\n",
      "         Iterations: 2\n",
      "         Function evaluations: 353\n",
      "Optimization terminated successfully.\n",
      "         Current function value: -0.112653\n",
      "         Iterations: 2\n",
      "         Function evaluations: 375\n",
      "Optimization terminated successfully.\n",
      "         Current function value: -0.112645\n",
      "         Iterations: 2\n",
      "         Function evaluations: 402\n"
     ]
    },
    {
     "name": "stderr",
     "output_type": "stream",
     "text": [
      "d:\\Work\\Development\\Python\\SDP\\venv\\lib\\site-packages\\statsmodels\\tsa\\statespace\\sarimax.py:966: UserWarning: Non-stationary starting autoregressive parameters found. Using zeros as starting parameters.\n",
      "  warn('Non-stationary starting autoregressive parameters'\n",
      "d:\\Work\\Development\\Python\\SDP\\venv\\lib\\site-packages\\statsmodels\\tsa\\statespace\\sarimax.py:978: UserWarning: Non-invertible starting MA parameters found. Using zeros as starting parameters.\n",
      "  warn('Non-invertible starting MA parameters found.'\n"
     ]
    },
    {
     "name": "stdout",
     "output_type": "stream",
     "text": [
      "Optimization terminated successfully.\n",
      "         Current function value: -0.112750\n",
      "         Iterations: 2\n",
      "         Function evaluations: 419\n"
     ]
    },
    {
     "name": "stderr",
     "output_type": "stream",
     "text": [
      "d:\\Work\\Development\\Python\\SDP\\venv\\lib\\site-packages\\statsmodels\\tsa\\statespace\\sarimax.py:966: UserWarning: Non-stationary starting autoregressive parameters found. Using zeros as starting parameters.\n",
      "  warn('Non-stationary starting autoregressive parameters'\n",
      "d:\\Work\\Development\\Python\\SDP\\venv\\lib\\site-packages\\statsmodels\\tsa\\statespace\\sarimax.py:978: UserWarning: Non-invertible starting MA parameters found. Using zeros as starting parameters.\n",
      "  warn('Non-invertible starting MA parameters found.'\n"
     ]
    },
    {
     "name": "stdout",
     "output_type": "stream",
     "text": [
      "Optimization terminated successfully.\n",
      "         Current function value: -0.112750\n",
      "         Iterations: 2\n",
      "         Function evaluations: 448\n"
     ]
    },
    {
     "name": "stderr",
     "output_type": "stream",
     "text": [
      "d:\\Work\\Development\\Python\\SDP\\venv\\lib\\site-packages\\statsmodels\\tsa\\statespace\\sarimax.py:966: UserWarning: Non-stationary starting autoregressive parameters found. Using zeros as starting parameters.\n",
      "  warn('Non-stationary starting autoregressive parameters'\n",
      "d:\\Work\\Development\\Python\\SDP\\venv\\lib\\site-packages\\statsmodels\\tsa\\statespace\\sarimax.py:978: UserWarning: Non-invertible starting MA parameters found. Using zeros as starting parameters.\n",
      "  warn('Non-invertible starting MA parameters found.'\n"
     ]
    },
    {
     "name": "stdout",
     "output_type": "stream",
     "text": [
      "Optimization terminated successfully.\n",
      "         Current function value: -0.112755\n",
      "         Iterations: 2\n",
      "         Function evaluations: 430\n"
     ]
    },
    {
     "name": "stderr",
     "output_type": "stream",
     "text": [
      "d:\\Work\\Development\\Python\\SDP\\venv\\lib\\site-packages\\statsmodels\\tsa\\statespace\\sarimax.py:966: UserWarning: Non-stationary starting autoregressive parameters found. Using zeros as starting parameters.\n",
      "  warn('Non-stationary starting autoregressive parameters'\n",
      "d:\\Work\\Development\\Python\\SDP\\venv\\lib\\site-packages\\statsmodels\\tsa\\statespace\\sarimax.py:978: UserWarning: Non-invertible starting MA parameters found. Using zeros as starting parameters.\n",
      "  warn('Non-invertible starting MA parameters found.'\n"
     ]
    },
    {
     "name": "stdout",
     "output_type": "stream",
     "text": [
      "Optimization terminated successfully.\n",
      "         Current function value: -0.112757\n",
      "         Iterations: 2\n",
      "         Function evaluations: 446\n"
     ]
    },
    {
     "name": "stderr",
     "output_type": "stream",
     "text": [
      "d:\\Work\\Development\\Python\\SDP\\venv\\lib\\site-packages\\statsmodels\\tsa\\statespace\\sarimax.py:966: UserWarning: Non-stationary starting autoregressive parameters found. Using zeros as starting parameters.\n",
      "  warn('Non-stationary starting autoregressive parameters'\n",
      "d:\\Work\\Development\\Python\\SDP\\venv\\lib\\site-packages\\statsmodels\\tsa\\statespace\\sarimax.py:978: UserWarning: Non-invertible starting MA parameters found. Using zeros as starting parameters.\n",
      "  warn('Non-invertible starting MA parameters found.'\n"
     ]
    },
    {
     "name": "stdout",
     "output_type": "stream",
     "text": [
      "Optimization terminated successfully.\n",
      "         Current function value: -0.112759\n",
      "         Iterations: 2\n",
      "         Function evaluations: 465\n",
      "Optimization terminated successfully.\n",
      "         Current function value: -0.113678\n",
      "         Iterations: 2\n",
      "         Function evaluations: 337\n",
      "Optimization terminated successfully.\n",
      "         Current function value: -0.113644\n",
      "         Iterations: 3\n",
      "         Function evaluations: 516\n",
      "Optimization terminated successfully.\n",
      "         Current function value: -0.113625\n",
      "         Iterations: 2\n",
      "         Function evaluations: 359\n",
      "Optimization terminated successfully.\n",
      "         Current function value: -0.113636\n",
      "         Iterations: 2\n",
      "         Function evaluations: 387\n",
      "Optimization terminated successfully.\n",
      "         Current function value: -0.113637\n",
      "         Iterations: 2\n",
      "         Function evaluations: 406\n",
      "Optimization terminated successfully.\n",
      "         Current function value: -0.113642\n",
      "         Iterations: 2\n",
      "         Function evaluations: 425\n"
     ]
    },
    {
     "name": "stderr",
     "output_type": "stream",
     "text": [
      "d:\\Work\\Development\\Python\\SDP\\venv\\lib\\site-packages\\statsmodels\\tsa\\statespace\\sarimax.py:966: UserWarning: Non-stationary starting autoregressive parameters found. Using zeros as starting parameters.\n",
      "  warn('Non-stationary starting autoregressive parameters'\n",
      "d:\\Work\\Development\\Python\\SDP\\venv\\lib\\site-packages\\statsmodels\\tsa\\statespace\\sarimax.py:978: UserWarning: Non-invertible starting MA parameters found. Using zeros as starting parameters.\n",
      "  warn('Non-invertible starting MA parameters found.'\n"
     ]
    },
    {
     "name": "stdout",
     "output_type": "stream",
     "text": [
      "Optimization terminated successfully.\n",
      "         Current function value: -0.113679\n",
      "         Iterations: 2\n",
      "         Function evaluations: 446\n"
     ]
    },
    {
     "name": "stderr",
     "output_type": "stream",
     "text": [
      "d:\\Work\\Development\\Python\\SDP\\venv\\lib\\site-packages\\statsmodels\\tsa\\statespace\\sarimax.py:966: UserWarning: Non-stationary starting autoregressive parameters found. Using zeros as starting parameters.\n",
      "  warn('Non-stationary starting autoregressive parameters'\n",
      "d:\\Work\\Development\\Python\\SDP\\venv\\lib\\site-packages\\statsmodels\\tsa\\statespace\\sarimax.py:978: UserWarning: Non-invertible starting MA parameters found. Using zeros as starting parameters.\n",
      "  warn('Non-invertible starting MA parameters found.'\n"
     ]
    },
    {
     "name": "stdout",
     "output_type": "stream",
     "text": [
      "Optimization terminated successfully.\n",
      "         Current function value: -0.113685\n",
      "         Iterations: 2\n",
      "         Function evaluations: 457\n"
     ]
    },
    {
     "name": "stderr",
     "output_type": "stream",
     "text": [
      "d:\\Work\\Development\\Python\\SDP\\venv\\lib\\site-packages\\statsmodels\\tsa\\statespace\\sarimax.py:966: UserWarning: Non-stationary starting autoregressive parameters found. Using zeros as starting parameters.\n",
      "  warn('Non-stationary starting autoregressive parameters'\n",
      "d:\\Work\\Development\\Python\\SDP\\venv\\lib\\site-packages\\statsmodels\\tsa\\statespace\\sarimax.py:978: UserWarning: Non-invertible starting MA parameters found. Using zeros as starting parameters.\n",
      "  warn('Non-invertible starting MA parameters found.'\n"
     ]
    },
    {
     "name": "stdout",
     "output_type": "stream",
     "text": [
      "Optimization terminated successfully.\n",
      "         Current function value: -0.113689\n",
      "         Iterations: 2\n",
      "         Function evaluations: 476\n"
     ]
    },
    {
     "name": "stderr",
     "output_type": "stream",
     "text": [
      "d:\\Work\\Development\\Python\\SDP\\venv\\lib\\site-packages\\statsmodels\\tsa\\statespace\\sarimax.py:966: UserWarning: Non-stationary starting autoregressive parameters found. Using zeros as starting parameters.\n",
      "  warn('Non-stationary starting autoregressive parameters'\n",
      "d:\\Work\\Development\\Python\\SDP\\venv\\lib\\site-packages\\statsmodels\\tsa\\statespace\\sarimax.py:978: UserWarning: Non-invertible starting MA parameters found. Using zeros as starting parameters.\n",
      "  warn('Non-invertible starting MA parameters found.'\n"
     ]
    },
    {
     "name": "stdout",
     "output_type": "stream",
     "text": [
      "Optimization terminated successfully.\n",
      "         Current function value: -0.113735\n",
      "         Iterations: 4\n",
      "         Function evaluations: 986\n",
      "Optimization terminated successfully.\n",
      "         Current function value: -0.112753\n",
      "         Iterations: 1\n",
      "         Function evaluations: 171\n",
      "Optimization terminated successfully.\n",
      "         Current function value: -0.112751\n",
      "         Iterations: 2\n",
      "         Function evaluations: 339\n",
      "Optimization terminated successfully.\n",
      "         Current function value: -0.112715\n",
      "         Iterations: 2\n",
      "         Function evaluations: 370\n",
      "Optimization terminated successfully.\n",
      "         Current function value: -0.112656\n",
      "         Iterations: 2\n",
      "         Function evaluations: 401\n",
      "Optimization terminated successfully.\n",
      "         Current function value: -0.112649\n",
      "         Iterations: 2\n",
      "         Function evaluations: 419\n"
     ]
    },
    {
     "name": "stderr",
     "output_type": "stream",
     "text": [
      "d:\\Work\\Development\\Python\\SDP\\venv\\lib\\site-packages\\statsmodels\\tsa\\statespace\\sarimax.py:966: UserWarning: Non-stationary starting autoregressive parameters found. Using zeros as starting parameters.\n",
      "  warn('Non-stationary starting autoregressive parameters'\n",
      "d:\\Work\\Development\\Python\\SDP\\venv\\lib\\site-packages\\statsmodels\\tsa\\statespace\\sarimax.py:978: UserWarning: Non-invertible starting MA parameters found. Using zeros as starting parameters.\n",
      "  warn('Non-invertible starting MA parameters found.'\n"
     ]
    },
    {
     "name": "stdout",
     "output_type": "stream",
     "text": [
      "Optimization terminated successfully.\n",
      "         Current function value: -0.112755\n",
      "         Iterations: 2\n",
      "         Function evaluations: 443\n"
     ]
    },
    {
     "name": "stderr",
     "output_type": "stream",
     "text": [
      "d:\\Work\\Development\\Python\\SDP\\venv\\lib\\site-packages\\statsmodels\\tsa\\statespace\\sarimax.py:966: UserWarning: Non-stationary starting autoregressive parameters found. Using zeros as starting parameters.\n",
      "  warn('Non-stationary starting autoregressive parameters'\n",
      "d:\\Work\\Development\\Python\\SDP\\venv\\lib\\site-packages\\statsmodels\\tsa\\statespace\\sarimax.py:978: UserWarning: Non-invertible starting MA parameters found. Using zeros as starting parameters.\n",
      "  warn('Non-invertible starting MA parameters found.'\n"
     ]
    },
    {
     "name": "stdout",
     "output_type": "stream",
     "text": [
      "Optimization terminated successfully.\n",
      "         Current function value: -0.112755\n",
      "         Iterations: 2\n",
      "         Function evaluations: 450\n"
     ]
    },
    {
     "name": "stderr",
     "output_type": "stream",
     "text": [
      "d:\\Work\\Development\\Python\\SDP\\venv\\lib\\site-packages\\statsmodels\\tsa\\statespace\\sarimax.py:966: UserWarning: Non-stationary starting autoregressive parameters found. Using zeros as starting parameters.\n",
      "  warn('Non-stationary starting autoregressive parameters'\n",
      "d:\\Work\\Development\\Python\\SDP\\venv\\lib\\site-packages\\statsmodels\\tsa\\statespace\\sarimax.py:978: UserWarning: Non-invertible starting MA parameters found. Using zeros as starting parameters.\n",
      "  warn('Non-invertible starting MA parameters found.'\n"
     ]
    },
    {
     "name": "stdout",
     "output_type": "stream",
     "text": [
      "Optimization terminated successfully.\n",
      "         Current function value: -0.112761\n",
      "         Iterations: 2\n",
      "         Function evaluations: 460\n"
     ]
    },
    {
     "name": "stderr",
     "output_type": "stream",
     "text": [
      "d:\\Work\\Development\\Python\\SDP\\venv\\lib\\site-packages\\statsmodels\\tsa\\statespace\\sarimax.py:966: UserWarning: Non-stationary starting autoregressive parameters found. Using zeros as starting parameters.\n",
      "  warn('Non-stationary starting autoregressive parameters'\n",
      "d:\\Work\\Development\\Python\\SDP\\venv\\lib\\site-packages\\statsmodels\\tsa\\statespace\\sarimax.py:978: UserWarning: Non-invertible starting MA parameters found. Using zeros as starting parameters.\n",
      "  warn('Non-invertible starting MA parameters found.'\n"
     ]
    },
    {
     "name": "stdout",
     "output_type": "stream",
     "text": [
      "Optimization terminated successfully.\n",
      "         Current function value: -0.112765\n",
      "         Iterations: 2\n",
      "         Function evaluations: 477\n"
     ]
    },
    {
     "name": "stderr",
     "output_type": "stream",
     "text": [
      "d:\\Work\\Development\\Python\\SDP\\venv\\lib\\site-packages\\statsmodels\\tsa\\statespace\\sarimax.py:966: UserWarning: Non-stationary starting autoregressive parameters found. Using zeros as starting parameters.\n",
      "  warn('Non-stationary starting autoregressive parameters'\n",
      "d:\\Work\\Development\\Python\\SDP\\venv\\lib\\site-packages\\statsmodels\\tsa\\statespace\\sarimax.py:978: UserWarning: Non-invertible starting MA parameters found. Using zeros as starting parameters.\n",
      "  warn('Non-invertible starting MA parameters found.'\n"
     ]
    },
    {
     "name": "stdout",
     "output_type": "stream",
     "text": [
      "Optimization terminated successfully.\n",
      "         Current function value: -0.112767\n",
      "         Iterations: 2\n",
      "         Function evaluations: 490\n",
      "Optimization terminated successfully.\n",
      "         Current function value: -0.113678\n",
      "         Iterations: 2\n",
      "         Function evaluations: 357\n",
      "Optimization terminated successfully.\n",
      "         Current function value: -0.113680\n",
      "         Iterations: 3\n",
      "         Function evaluations: 547\n",
      "Optimization terminated successfully.\n",
      "         Current function value: -0.113691\n",
      "         Iterations: 2\n",
      "         Function evaluations: 381\n",
      "Optimization terminated successfully.\n",
      "         Current function value: -0.113701\n",
      "         Iterations: 2\n",
      "         Function evaluations: 407\n",
      "Optimization terminated successfully.\n",
      "         Current function value: -0.113703\n",
      "         Iterations: 2\n",
      "         Function evaluations: 425\n",
      "Optimization terminated successfully.\n",
      "         Current function value: -0.113699\n",
      "         Iterations: 2\n",
      "         Function evaluations: 446\n"
     ]
    },
    {
     "name": "stderr",
     "output_type": "stream",
     "text": [
      "d:\\Work\\Development\\Python\\SDP\\venv\\lib\\site-packages\\statsmodels\\tsa\\statespace\\sarimax.py:966: UserWarning: Non-stationary starting autoregressive parameters found. Using zeros as starting parameters.\n",
      "  warn('Non-stationary starting autoregressive parameters'\n",
      "d:\\Work\\Development\\Python\\SDP\\venv\\lib\\site-packages\\statsmodels\\tsa\\statespace\\sarimax.py:978: UserWarning: Non-invertible starting MA parameters found. Using zeros as starting parameters.\n",
      "  warn('Non-invertible starting MA parameters found.'\n"
     ]
    },
    {
     "name": "stdout",
     "output_type": "stream",
     "text": [
      "Optimization terminated successfully.\n",
      "         Current function value: -0.113679\n",
      "         Iterations: 2\n",
      "         Function evaluations: 465\n"
     ]
    },
    {
     "name": "stderr",
     "output_type": "stream",
     "text": [
      "d:\\Work\\Development\\Python\\SDP\\venv\\lib\\site-packages\\statsmodels\\tsa\\statespace\\sarimax.py:966: UserWarning: Non-stationary starting autoregressive parameters found. Using zeros as starting parameters.\n",
      "  warn('Non-stationary starting autoregressive parameters'\n",
      "d:\\Work\\Development\\Python\\SDP\\venv\\lib\\site-packages\\statsmodels\\tsa\\statespace\\sarimax.py:978: UserWarning: Non-invertible starting MA parameters found. Using zeros as starting parameters.\n",
      "  warn('Non-invertible starting MA parameters found.'\n"
     ]
    },
    {
     "name": "stdout",
     "output_type": "stream",
     "text": [
      "Optimization terminated successfully.\n",
      "         Current function value: -0.113685\n",
      "         Iterations: 2\n",
      "         Function evaluations: 476\n"
     ]
    },
    {
     "name": "stderr",
     "output_type": "stream",
     "text": [
      "d:\\Work\\Development\\Python\\SDP\\venv\\lib\\site-packages\\statsmodels\\tsa\\statespace\\sarimax.py:966: UserWarning: Non-stationary starting autoregressive parameters found. Using zeros as starting parameters.\n",
      "  warn('Non-stationary starting autoregressive parameters'\n",
      "d:\\Work\\Development\\Python\\SDP\\venv\\lib\\site-packages\\statsmodels\\tsa\\statespace\\sarimax.py:978: UserWarning: Non-invertible starting MA parameters found. Using zeros as starting parameters.\n",
      "  warn('Non-invertible starting MA parameters found.'\n"
     ]
    },
    {
     "name": "stdout",
     "output_type": "stream",
     "text": [
      "Optimization terminated successfully.\n",
      "         Current function value: -0.113690\n",
      "         Iterations: 2\n",
      "         Function evaluations: 496\n"
     ]
    },
    {
     "name": "stderr",
     "output_type": "stream",
     "text": [
      "d:\\Work\\Development\\Python\\SDP\\venv\\lib\\site-packages\\statsmodels\\tsa\\statespace\\sarimax.py:966: UserWarning: Non-stationary starting autoregressive parameters found. Using zeros as starting parameters.\n",
      "  warn('Non-stationary starting autoregressive parameters'\n",
      "d:\\Work\\Development\\Python\\SDP\\venv\\lib\\site-packages\\statsmodels\\tsa\\statespace\\sarimax.py:978: UserWarning: Non-invertible starting MA parameters found. Using zeros as starting parameters.\n",
      "  warn('Non-invertible starting MA parameters found.'\n"
     ]
    },
    {
     "name": "stdout",
     "output_type": "stream",
     "text": [
      "Optimization terminated successfully.\n",
      "         Current function value: -0.113747\n",
      "         Iterations: 4\n",
      "         Function evaluations: 1027\n",
      "Optimization terminated successfully.\n",
      "         Current function value: -0.112807\n",
      "         Iterations: 1\n",
      "         Function evaluations: 171\n",
      "Optimization terminated successfully.\n",
      "         Current function value: -0.112821\n",
      "         Iterations: 2\n",
      "         Function evaluations: 359\n",
      "Optimization terminated successfully.\n",
      "         Current function value: -0.112802\n",
      "         Iterations: 2\n",
      "         Function evaluations: 386\n",
      "Optimization terminated successfully.\n",
      "         Current function value: -0.112772\n",
      "         Iterations: 2\n",
      "         Function evaluations: 413\n",
      "Optimization terminated successfully.\n",
      "         Current function value: -0.112775\n",
      "         Iterations: 2\n",
      "         Function evaluations: 480\n",
      "Optimization terminated successfully.\n",
      "         Current function value: -0.112814\n",
      "         Iterations: 2\n",
      "         Function evaluations: 458\n"
     ]
    },
    {
     "name": "stderr",
     "output_type": "stream",
     "text": [
      "d:\\Work\\Development\\Python\\SDP\\venv\\lib\\site-packages\\statsmodels\\tsa\\statespace\\sarimax.py:966: UserWarning: Non-stationary starting autoregressive parameters found. Using zeros as starting parameters.\n",
      "  warn('Non-stationary starting autoregressive parameters'\n",
      "d:\\Work\\Development\\Python\\SDP\\venv\\lib\\site-packages\\statsmodels\\tsa\\statespace\\sarimax.py:978: UserWarning: Non-invertible starting MA parameters found. Using zeros as starting parameters.\n",
      "  warn('Non-invertible starting MA parameters found.'\n"
     ]
    },
    {
     "name": "stdout",
     "output_type": "stream",
     "text": [
      "Optimization terminated successfully.\n",
      "         Current function value: -0.112809\n",
      "         Iterations: 2\n",
      "         Function evaluations: 503\n"
     ]
    },
    {
     "name": "stderr",
     "output_type": "stream",
     "text": [
      "d:\\Work\\Development\\Python\\SDP\\venv\\lib\\site-packages\\statsmodels\\tsa\\statespace\\sarimax.py:966: UserWarning: Non-stationary starting autoregressive parameters found. Using zeros as starting parameters.\n",
      "  warn('Non-stationary starting autoregressive parameters'\n",
      "d:\\Work\\Development\\Python\\SDP\\venv\\lib\\site-packages\\statsmodels\\tsa\\statespace\\sarimax.py:978: UserWarning: Non-invertible starting MA parameters found. Using zeros as starting parameters.\n",
      "  warn('Non-invertible starting MA parameters found.'\n"
     ]
    },
    {
     "name": "stdout",
     "output_type": "stream",
     "text": [
      "Optimization terminated successfully.\n",
      "         Current function value: -0.112812\n",
      "         Iterations: 2\n",
      "         Function evaluations: 477\n"
     ]
    },
    {
     "name": "stderr",
     "output_type": "stream",
     "text": [
      "d:\\Work\\Development\\Python\\SDP\\venv\\lib\\site-packages\\statsmodels\\tsa\\statespace\\sarimax.py:966: UserWarning: Non-stationary starting autoregressive parameters found. Using zeros as starting parameters.\n",
      "  warn('Non-stationary starting autoregressive parameters'\n",
      "d:\\Work\\Development\\Python\\SDP\\venv\\lib\\site-packages\\statsmodels\\tsa\\statespace\\sarimax.py:978: UserWarning: Non-invertible starting MA parameters found. Using zeros as starting parameters.\n",
      "  warn('Non-invertible starting MA parameters found.'\n"
     ]
    },
    {
     "name": "stdout",
     "output_type": "stream",
     "text": [
      "Optimization terminated successfully.\n",
      "         Current function value: -0.112815\n",
      "         Iterations: 2\n",
      "         Function evaluations: 498\n"
     ]
    },
    {
     "name": "stderr",
     "output_type": "stream",
     "text": [
      "d:\\Work\\Development\\Python\\SDP\\venv\\lib\\site-packages\\statsmodels\\tsa\\statespace\\sarimax.py:966: UserWarning: Non-stationary starting autoregressive parameters found. Using zeros as starting parameters.\n",
      "  warn('Non-stationary starting autoregressive parameters'\n",
      "d:\\Work\\Development\\Python\\SDP\\venv\\lib\\site-packages\\statsmodels\\tsa\\statespace\\sarimax.py:978: UserWarning: Non-invertible starting MA parameters found. Using zeros as starting parameters.\n",
      "  warn('Non-invertible starting MA parameters found.'\n"
     ]
    },
    {
     "name": "stdout",
     "output_type": "stream",
     "text": [
      "Optimization terminated successfully.\n",
      "         Current function value: -0.112815\n",
      "         Iterations: 2\n",
      "         Function evaluations: 520\n",
      "Optimization terminated successfully.\n",
      "         Current function value: -0.113767\n",
      "         Iterations: 2\n",
      "         Function evaluations: 377\n",
      "Optimization terminated successfully.\n",
      "         Current function value: -0.113692\n",
      "         Iterations: 3\n",
      "         Function evaluations: 577\n",
      "Optimization terminated successfully.\n",
      "         Current function value: -0.113693\n",
      "         Iterations: 2\n",
      "         Function evaluations: 403\n",
      "Optimization terminated successfully.\n",
      "         Current function value: -0.113703\n",
      "         Iterations: 2\n",
      "         Function evaluations: 427\n",
      "Optimization terminated successfully.\n",
      "         Current function value: -0.113705\n",
      "         Iterations: 2\n",
      "         Function evaluations: 442\n",
      "Optimization terminated successfully.\n",
      "         Current function value: -0.113701\n",
      "         Iterations: 2\n",
      "         Function evaluations: 468\n"
     ]
    },
    {
     "name": "stderr",
     "output_type": "stream",
     "text": [
      "d:\\Work\\Development\\Python\\SDP\\venv\\lib\\site-packages\\statsmodels\\tsa\\statespace\\sarimax.py:966: UserWarning: Non-stationary starting autoregressive parameters found. Using zeros as starting parameters.\n",
      "  warn('Non-stationary starting autoregressive parameters'\n",
      "d:\\Work\\Development\\Python\\SDP\\venv\\lib\\site-packages\\statsmodels\\tsa\\statespace\\sarimax.py:978: UserWarning: Non-invertible starting MA parameters found. Using zeros as starting parameters.\n",
      "  warn('Non-invertible starting MA parameters found.'\n"
     ]
    },
    {
     "name": "stdout",
     "output_type": "stream",
     "text": [
      "Optimization terminated successfully.\n",
      "         Current function value: -0.113766\n",
      "         Iterations: 2\n",
      "         Function evaluations: 482\n"
     ]
    },
    {
     "name": "stderr",
     "output_type": "stream",
     "text": [
      "d:\\Work\\Development\\Python\\SDP\\venv\\lib\\site-packages\\statsmodels\\tsa\\statespace\\sarimax.py:966: UserWarning: Non-stationary starting autoregressive parameters found. Using zeros as starting parameters.\n",
      "  warn('Non-stationary starting autoregressive parameters'\n",
      "d:\\Work\\Development\\Python\\SDP\\venv\\lib\\site-packages\\statsmodels\\tsa\\statespace\\sarimax.py:978: UserWarning: Non-invertible starting MA parameters found. Using zeros as starting parameters.\n",
      "  warn('Non-invertible starting MA parameters found.'\n"
     ]
    },
    {
     "name": "stdout",
     "output_type": "stream",
     "text": [
      "Optimization terminated successfully.\n",
      "         Current function value: -0.113768\n",
      "         Iterations: 2\n",
      "         Function evaluations: 499\n"
     ]
    },
    {
     "name": "stderr",
     "output_type": "stream",
     "text": [
      "d:\\Work\\Development\\Python\\SDP\\venv\\lib\\site-packages\\statsmodels\\tsa\\statespace\\sarimax.py:966: UserWarning: Non-stationary starting autoregressive parameters found. Using zeros as starting parameters.\n",
      "  warn('Non-stationary starting autoregressive parameters'\n",
      "d:\\Work\\Development\\Python\\SDP\\venv\\lib\\site-packages\\statsmodels\\tsa\\statespace\\sarimax.py:978: UserWarning: Non-invertible starting MA parameters found. Using zeros as starting parameters.\n",
      "  warn('Non-invertible starting MA parameters found.'\n"
     ]
    },
    {
     "name": "stdout",
     "output_type": "stream",
     "text": [
      "Optimization terminated successfully.\n",
      "         Current function value: -0.113772\n",
      "         Iterations: 2\n",
      "         Function evaluations: 517\n"
     ]
    },
    {
     "name": "stderr",
     "output_type": "stream",
     "text": [
      "d:\\Work\\Development\\Python\\SDP\\venv\\lib\\site-packages\\statsmodels\\tsa\\statespace\\sarimax.py:966: UserWarning: Non-stationary starting autoregressive parameters found. Using zeros as starting parameters.\n",
      "  warn('Non-stationary starting autoregressive parameters'\n",
      "d:\\Work\\Development\\Python\\SDP\\venv\\lib\\site-packages\\statsmodels\\tsa\\statespace\\sarimax.py:978: UserWarning: Non-invertible starting MA parameters found. Using zeros as starting parameters.\n",
      "  warn('Non-invertible starting MA parameters found.'\n"
     ]
    },
    {
     "name": "stdout",
     "output_type": "stream",
     "text": [
      "Optimization terminated successfully.\n",
      "         Current function value: -0.113772\n",
      "         Iterations: 2\n",
      "         Function evaluations: 535\n",
      "Optimization terminated successfully.\n",
      "         Current function value: -0.112954\n",
      "         Iterations: 1\n",
      "         Function evaluations: 190\n",
      "Optimization terminated successfully.\n",
      "         Current function value: -0.112934\n",
      "         Iterations: 2\n",
      "         Function evaluations: 381\n",
      "Optimization terminated successfully.\n",
      "         Current function value: -0.112909\n",
      "         Iterations: 2\n",
      "         Function evaluations: 429\n",
      "Optimization terminated successfully.\n",
      "         Current function value: -0.112959\n",
      "         Iterations: 2\n",
      "         Function evaluations: 435\n",
      "Optimization terminated successfully.\n",
      "         Current function value: -0.113043\n",
      "         Iterations: 2\n",
      "         Function evaluations: 448\n",
      "Optimization terminated successfully.\n",
      "         Current function value: -0.113094\n",
      "         Iterations: 2\n",
      "         Function evaluations: 455\n"
     ]
    },
    {
     "name": "stderr",
     "output_type": "stream",
     "text": [
      "d:\\Work\\Development\\Python\\SDP\\venv\\lib\\site-packages\\statsmodels\\tsa\\statespace\\sarimax.py:966: UserWarning: Non-stationary starting autoregressive parameters found. Using zeros as starting parameters.\n",
      "  warn('Non-stationary starting autoregressive parameters'\n",
      "d:\\Work\\Development\\Python\\SDP\\venv\\lib\\site-packages\\statsmodels\\tsa\\statespace\\sarimax.py:978: UserWarning: Non-invertible starting MA parameters found. Using zeros as starting parameters.\n",
      "  warn('Non-invertible starting MA parameters found.'\n"
     ]
    },
    {
     "name": "stdout",
     "output_type": "stream",
     "text": [
      "Optimization terminated successfully.\n",
      "         Current function value: -0.112959\n",
      "         Iterations: 2\n",
      "         Function evaluations: 471\n"
     ]
    },
    {
     "name": "stderr",
     "output_type": "stream",
     "text": [
      "d:\\Work\\Development\\Python\\SDP\\venv\\lib\\site-packages\\statsmodels\\tsa\\statespace\\sarimax.py:966: UserWarning: Non-stationary starting autoregressive parameters found. Using zeros as starting parameters.\n",
      "  warn('Non-stationary starting autoregressive parameters'\n",
      "d:\\Work\\Development\\Python\\SDP\\venv\\lib\\site-packages\\statsmodels\\tsa\\statespace\\sarimax.py:978: UserWarning: Non-invertible starting MA parameters found. Using zeros as starting parameters.\n",
      "  warn('Non-invertible starting MA parameters found.'\n"
     ]
    },
    {
     "name": "stdout",
     "output_type": "stream",
     "text": [
      "Optimization terminated successfully.\n",
      "         Current function value: -0.112960\n",
      "         Iterations: 2\n",
      "         Function evaluations: 508\n"
     ]
    },
    {
     "name": "stderr",
     "output_type": "stream",
     "text": [
      "d:\\Work\\Development\\Python\\SDP\\venv\\lib\\site-packages\\statsmodels\\tsa\\statespace\\sarimax.py:966: UserWarning: Non-stationary starting autoregressive parameters found. Using zeros as starting parameters.\n",
      "  warn('Non-stationary starting autoregressive parameters'\n",
      "d:\\Work\\Development\\Python\\SDP\\venv\\lib\\site-packages\\statsmodels\\tsa\\statespace\\sarimax.py:978: UserWarning: Non-invertible starting MA parameters found. Using zeros as starting parameters.\n",
      "  warn('Non-invertible starting MA parameters found.'\n"
     ]
    },
    {
     "name": "stdout",
     "output_type": "stream",
     "text": [
      "Optimization terminated successfully.\n",
      "         Current function value: -0.112960\n",
      "         Iterations: 2\n",
      "         Function evaluations: 520\n"
     ]
    },
    {
     "name": "stderr",
     "output_type": "stream",
     "text": [
      "d:\\Work\\Development\\Python\\SDP\\venv\\lib\\site-packages\\statsmodels\\tsa\\statespace\\sarimax.py:966: UserWarning: Non-stationary starting autoregressive parameters found. Using zeros as starting parameters.\n",
      "  warn('Non-stationary starting autoregressive parameters'\n",
      "d:\\Work\\Development\\Python\\SDP\\venv\\lib\\site-packages\\statsmodels\\tsa\\statespace\\sarimax.py:978: UserWarning: Non-invertible starting MA parameters found. Using zeros as starting parameters.\n",
      "  warn('Non-invertible starting MA parameters found.'\n"
     ]
    },
    {
     "name": "stdout",
     "output_type": "stream",
     "text": [
      "Optimization terminated successfully.\n",
      "         Current function value: -0.112962\n",
      "         Iterations: 2\n",
      "         Function evaluations: 525\n",
      "Optimization terminated successfully.\n",
      "         Current function value: -0.113973\n",
      "         Iterations: 2\n",
      "         Function evaluations: 397\n",
      "Optimization terminated successfully.\n",
      "         Current function value: -0.113993\n",
      "         Iterations: 3\n",
      "         Function evaluations: 608\n",
      "Optimization terminated successfully.\n",
      "         Current function value: -0.114001\n",
      "         Iterations: 2\n",
      "         Function evaluations: 422\n",
      "Optimization terminated successfully.\n",
      "         Current function value: -0.114009\n",
      "         Iterations: 2\n",
      "         Function evaluations: 453\n",
      "Optimization terminated successfully.\n",
      "         Current function value: -0.114007\n",
      "         Iterations: 2\n",
      "         Function evaluations: 467\n",
      "Optimization terminated successfully.\n",
      "         Current function value: -0.114005\n",
      "         Iterations: 2\n",
      "         Function evaluations: 496\n",
      "Optimization terminated successfully.\n",
      "         Current function value: -0.113412\n",
      "         Iterations: 3\n",
      "         Function evaluations: 780\n"
     ]
    },
    {
     "name": "stderr",
     "output_type": "stream",
     "text": [
      "d:\\Work\\Development\\Python\\SDP\\venv\\lib\\site-packages\\statsmodels\\tsa\\statespace\\sarimax.py:966: UserWarning: Non-stationary starting autoregressive parameters found. Using zeros as starting parameters.\n",
      "  warn('Non-stationary starting autoregressive parameters'\n",
      "d:\\Work\\Development\\Python\\SDP\\venv\\lib\\site-packages\\statsmodels\\tsa\\statespace\\sarimax.py:978: UserWarning: Non-invertible starting MA parameters found. Using zeros as starting parameters.\n",
      "  warn('Non-invertible starting MA parameters found.'\n"
     ]
    },
    {
     "name": "stdout",
     "output_type": "stream",
     "text": [
      "Optimization terminated successfully.\n",
      "         Current function value: -0.113974\n",
      "         Iterations: 2\n",
      "         Function evaluations: 521\n"
     ]
    },
    {
     "name": "stderr",
     "output_type": "stream",
     "text": [
      "d:\\Work\\Development\\Python\\SDP\\venv\\lib\\site-packages\\statsmodels\\tsa\\statespace\\sarimax.py:966: UserWarning: Non-stationary starting autoregressive parameters found. Using zeros as starting parameters.\n",
      "  warn('Non-stationary starting autoregressive parameters'\n",
      "d:\\Work\\Development\\Python\\SDP\\venv\\lib\\site-packages\\statsmodels\\tsa\\statespace\\sarimax.py:978: UserWarning: Non-invertible starting MA parameters found. Using zeros as starting parameters.\n",
      "  warn('Non-invertible starting MA parameters found.'\n"
     ]
    },
    {
     "name": "stdout",
     "output_type": "stream",
     "text": [
      "Optimization terminated successfully.\n",
      "         Current function value: -0.113974\n",
      "         Iterations: 2\n",
      "         Function evaluations: 541\n"
     ]
    },
    {
     "name": "stderr",
     "output_type": "stream",
     "text": [
      "d:\\Work\\Development\\Python\\SDP\\venv\\lib\\site-packages\\statsmodels\\tsa\\statespace\\sarimax.py:966: UserWarning: Non-stationary starting autoregressive parameters found. Using zeros as starting parameters.\n",
      "  warn('Non-stationary starting autoregressive parameters'\n",
      "d:\\Work\\Development\\Python\\SDP\\venv\\lib\\site-packages\\statsmodels\\tsa\\statespace\\sarimax.py:978: UserWarning: Non-invertible starting MA parameters found. Using zeros as starting parameters.\n",
      "  warn('Non-invertible starting MA parameters found.'\n"
     ]
    },
    {
     "name": "stdout",
     "output_type": "stream",
     "text": [
      "Optimization terminated successfully.\n",
      "         Current function value: -0.113975\n",
      "         Iterations: 2\n",
      "         Function evaluations: 558\n",
      "Optimization terminated successfully.\n",
      "         Current function value: -0.113033\n",
      "         Iterations: 1\n",
      "         Function evaluations: 195\n",
      "Optimization terminated successfully.\n",
      "         Current function value: -0.113043\n",
      "         Iterations: 2\n",
      "         Function evaluations: 418\n",
      "Optimization terminated successfully.\n",
      "         Current function value: -0.113004\n",
      "         Iterations: 2\n",
      "         Function evaluations: 433\n",
      "Optimization terminated successfully.\n",
      "         Current function value: -0.113000\n",
      "         Iterations: 2\n",
      "         Function evaluations: 452\n",
      "Optimization terminated successfully.\n",
      "         Current function value: -0.113061\n",
      "         Iterations: 2\n",
      "         Function evaluations: 471\n",
      "Optimization terminated successfully.\n",
      "         Current function value: -0.113103\n",
      "         Iterations: 2\n",
      "         Function evaluations: 484\n",
      "Optimization terminated successfully.\n",
      "         Current function value: -0.116528\n",
      "         Iterations: 7\n",
      "         Function evaluations: 1798\n"
     ]
    },
    {
     "name": "stderr",
     "output_type": "stream",
     "text": [
      "d:\\Work\\Development\\Python\\SDP\\venv\\lib\\site-packages\\statsmodels\\tsa\\statespace\\sarimax.py:966: UserWarning: Non-stationary starting autoregressive parameters found. Using zeros as starting parameters.\n",
      "  warn('Non-stationary starting autoregressive parameters'\n",
      "d:\\Work\\Development\\Python\\SDP\\venv\\lib\\site-packages\\statsmodels\\tsa\\statespace\\sarimax.py:978: UserWarning: Non-invertible starting MA parameters found. Using zeros as starting parameters.\n",
      "  warn('Non-invertible starting MA parameters found.'\n"
     ]
    },
    {
     "name": "stdout",
     "output_type": "stream",
     "text": [
      "Optimization terminated successfully.\n",
      "         Current function value: -0.113039\n",
      "         Iterations: 2\n",
      "         Function evaluations: 525\n"
     ]
    },
    {
     "name": "stderr",
     "output_type": "stream",
     "text": [
      "d:\\Work\\Development\\Python\\SDP\\venv\\lib\\site-packages\\statsmodels\\tsa\\statespace\\sarimax.py:966: UserWarning: Non-stationary starting autoregressive parameters found. Using zeros as starting parameters.\n",
      "  warn('Non-stationary starting autoregressive parameters'\n",
      "d:\\Work\\Development\\Python\\SDP\\venv\\lib\\site-packages\\statsmodels\\tsa\\statespace\\sarimax.py:978: UserWarning: Non-invertible starting MA parameters found. Using zeros as starting parameters.\n",
      "  warn('Non-invertible starting MA parameters found.'\n"
     ]
    },
    {
     "name": "stdout",
     "output_type": "stream",
     "text": [
      "Optimization terminated successfully.\n",
      "         Current function value: -0.113041\n",
      "         Iterations: 2\n",
      "         Function evaluations: 527\n"
     ]
    },
    {
     "name": "stderr",
     "output_type": "stream",
     "text": [
      "d:\\Work\\Development\\Python\\SDP\\venv\\lib\\site-packages\\statsmodels\\tsa\\statespace\\sarimax.py:966: UserWarning: Non-stationary starting autoregressive parameters found. Using zeros as starting parameters.\n",
      "  warn('Non-stationary starting autoregressive parameters'\n",
      "d:\\Work\\Development\\Python\\SDP\\venv\\lib\\site-packages\\statsmodels\\tsa\\statespace\\sarimax.py:978: UserWarning: Non-invertible starting MA parameters found. Using zeros as starting parameters.\n",
      "  warn('Non-invertible starting MA parameters found.'\n"
     ]
    },
    {
     "name": "stdout",
     "output_type": "stream",
     "text": [
      "Optimization terminated successfully.\n",
      "         Current function value: -0.113041\n",
      "         Iterations: 2\n",
      "         Function evaluations: 563\n",
      "Optimization terminated successfully.\n",
      "         Current function value: -0.114018\n",
      "         Iterations: 2\n",
      "         Function evaluations: 418\n",
      "Optimization terminated successfully.\n",
      "         Current function value: -0.113993\n",
      "         Iterations: 3\n",
      "         Function evaluations: 637\n",
      "Optimization terminated successfully.\n",
      "         Current function value: -0.114007\n",
      "         Iterations: 2\n",
      "         Function evaluations: 440\n",
      "Optimization terminated successfully.\n",
      "         Current function value: -0.114014\n",
      "         Iterations: 2\n",
      "         Function evaluations: 470\n",
      "Optimization terminated successfully.\n",
      "         Current function value: -0.114012\n",
      "         Iterations: 2\n",
      "         Function evaluations: 487\n",
      "Optimization terminated successfully.\n",
      "         Current function value: -0.114009\n",
      "         Iterations: 2\n",
      "         Function evaluations: 511\n",
      "Optimization terminated successfully.\n",
      "         Current function value: -0.114023\n",
      "         Iterations: 2\n",
      "         Function evaluations: 523\n"
     ]
    },
    {
     "name": "stderr",
     "output_type": "stream",
     "text": [
      "d:\\Work\\Development\\Python\\SDP\\venv\\lib\\site-packages\\statsmodels\\tsa\\statespace\\sarimax.py:966: UserWarning: Non-stationary starting autoregressive parameters found. Using zeros as starting parameters.\n",
      "  warn('Non-stationary starting autoregressive parameters'\n",
      "d:\\Work\\Development\\Python\\SDP\\venv\\lib\\site-packages\\statsmodels\\tsa\\statespace\\sarimax.py:978: UserWarning: Non-invertible starting MA parameters found. Using zeros as starting parameters.\n",
      "  warn('Non-invertible starting MA parameters found.'\n"
     ]
    },
    {
     "name": "stdout",
     "output_type": "stream",
     "text": [
      "Optimization terminated successfully.\n",
      "         Current function value: -0.114019\n",
      "         Iterations: 2\n",
      "         Function evaluations: 544\n"
     ]
    },
    {
     "name": "stderr",
     "output_type": "stream",
     "text": [
      "d:\\Work\\Development\\Python\\SDP\\venv\\lib\\site-packages\\statsmodels\\tsa\\statespace\\sarimax.py:966: UserWarning: Non-stationary starting autoregressive parameters found. Using zeros as starting parameters.\n",
      "  warn('Non-stationary starting autoregressive parameters'\n",
      "d:\\Work\\Development\\Python\\SDP\\venv\\lib\\site-packages\\statsmodels\\tsa\\statespace\\sarimax.py:978: UserWarning: Non-invertible starting MA parameters found. Using zeros as starting parameters.\n",
      "  warn('Non-invertible starting MA parameters found.'\n"
     ]
    },
    {
     "name": "stdout",
     "output_type": "stream",
     "text": [
      "Optimization terminated successfully.\n",
      "         Current function value: -0.114020\n",
      "         Iterations: 2\n",
      "         Function evaluations: 561\n"
     ]
    },
    {
     "name": "stderr",
     "output_type": "stream",
     "text": [
      "d:\\Work\\Development\\Python\\SDP\\venv\\lib\\site-packages\\statsmodels\\tsa\\statespace\\sarimax.py:966: UserWarning: Non-stationary starting autoregressive parameters found. Using zeros as starting parameters.\n",
      "  warn('Non-stationary starting autoregressive parameters'\n",
      "d:\\Work\\Development\\Python\\SDP\\venv\\lib\\site-packages\\statsmodels\\tsa\\statespace\\sarimax.py:978: UserWarning: Non-invertible starting MA parameters found. Using zeros as starting parameters.\n",
      "  warn('Non-invertible starting MA parameters found.'\n"
     ]
    },
    {
     "name": "stdout",
     "output_type": "stream",
     "text": [
      "Optimization terminated successfully.\n",
      "         Current function value: -0.114020\n",
      "         Iterations: 2\n",
      "         Function evaluations: 581\n",
      "Optimization terminated successfully.\n",
      "         Current function value: -0.113093\n",
      "         Iterations: 1\n",
      "         Function evaluations: 208\n",
      "Optimization terminated successfully.\n",
      "         Current function value: -0.113083\n",
      "         Iterations: 2\n",
      "         Function evaluations: 450\n",
      "Optimization terminated successfully.\n",
      "         Current function value: -0.113016\n",
      "         Iterations: 2\n",
      "         Function evaluations: 459\n",
      "Optimization terminated successfully.\n",
      "         Current function value: -0.113006\n",
      "         Iterations: 2\n",
      "         Function evaluations: 491\n",
      "Optimization terminated successfully.\n",
      "         Current function value: -0.113062\n",
      "         Iterations: 2\n",
      "         Function evaluations: 480\n",
      "Optimization terminated successfully.\n",
      "         Current function value: -0.113104\n",
      "         Iterations: 2\n",
      "         Function evaluations: 497\n",
      "Optimization terminated successfully.\n",
      "         Current function value: -0.113126\n",
      "         Iterations: 2\n",
      "         Function evaluations: 514\n"
     ]
    },
    {
     "name": "stderr",
     "output_type": "stream",
     "text": [
      "d:\\Work\\Development\\Python\\SDP\\venv\\lib\\site-packages\\statsmodels\\tsa\\statespace\\sarimax.py:966: UserWarning: Non-stationary starting autoregressive parameters found. Using zeros as starting parameters.\n",
      "  warn('Non-stationary starting autoregressive parameters'\n",
      "d:\\Work\\Development\\Python\\SDP\\venv\\lib\\site-packages\\statsmodels\\tsa\\statespace\\sarimax.py:978: UserWarning: Non-invertible starting MA parameters found. Using zeros as starting parameters.\n",
      "  warn('Non-invertible starting MA parameters found.'\n"
     ]
    },
    {
     "name": "stdout",
     "output_type": "stream",
     "text": [
      "Optimization terminated successfully.\n",
      "         Current function value: -0.113099\n",
      "         Iterations: 2\n",
      "         Function evaluations: 542\n"
     ]
    },
    {
     "name": "stderr",
     "output_type": "stream",
     "text": [
      "d:\\Work\\Development\\Python\\SDP\\venv\\lib\\site-packages\\statsmodels\\tsa\\statespace\\sarimax.py:966: UserWarning: Non-stationary starting autoregressive parameters found. Using zeros as starting parameters.\n",
      "  warn('Non-stationary starting autoregressive parameters'\n",
      "d:\\Work\\Development\\Python\\SDP\\venv\\lib\\site-packages\\statsmodels\\tsa\\statespace\\sarimax.py:978: UserWarning: Non-invertible starting MA parameters found. Using zeros as starting parameters.\n",
      "  warn('Non-invertible starting MA parameters found.'\n"
     ]
    },
    {
     "name": "stdout",
     "output_type": "stream",
     "text": [
      "Optimization terminated successfully.\n",
      "         Current function value: -0.113101\n",
      "         Iterations: 2\n",
      "         Function evaluations: 558\n"
     ]
    },
    {
     "name": "stderr",
     "output_type": "stream",
     "text": [
      "d:\\Work\\Development\\Python\\SDP\\venv\\lib\\site-packages\\statsmodels\\tsa\\statespace\\sarimax.py:966: UserWarning: Non-stationary starting autoregressive parameters found. Using zeros as starting parameters.\n",
      "  warn('Non-stationary starting autoregressive parameters'\n",
      "d:\\Work\\Development\\Python\\SDP\\venv\\lib\\site-packages\\statsmodels\\tsa\\statespace\\sarimax.py:978: UserWarning: Non-invertible starting MA parameters found. Using zeros as starting parameters.\n",
      "  warn('Non-invertible starting MA parameters found.'\n"
     ]
    },
    {
     "name": "stdout",
     "output_type": "stream",
     "text": [
      "Optimization terminated successfully.\n",
      "         Current function value: -0.113101\n",
      "         Iterations: 2\n",
      "         Function evaluations: 581\n",
      "Optimization terminated successfully.\n",
      "         Current function value: -0.114049\n",
      "         Iterations: 2\n",
      "         Function evaluations: 440\n",
      "Optimization terminated successfully.\n",
      "         Current function value: -0.114044\n",
      "         Iterations: 3\n",
      "         Function evaluations: 675\n",
      "Optimization terminated successfully.\n",
      "         Current function value: -0.114059\n",
      "         Iterations: 2\n",
      "         Function evaluations: 469\n",
      "Optimization terminated successfully.\n",
      "         Current function value: -0.114065\n",
      "         Iterations: 2\n",
      "         Function evaluations: 493\n",
      "Optimization terminated successfully.\n",
      "         Current function value: -0.114066\n",
      "         Iterations: 2\n",
      "         Function evaluations: 507\n",
      "Optimization terminated successfully.\n",
      "         Current function value: -0.114064\n",
      "         Iterations: 2\n",
      "         Function evaluations: 527\n",
      "Optimization terminated successfully.\n",
      "         Current function value: -0.114074\n",
      "         Iterations: 2\n",
      "         Function evaluations: 544\n"
     ]
    },
    {
     "name": "stderr",
     "output_type": "stream",
     "text": [
      "d:\\Work\\Development\\Python\\SDP\\venv\\lib\\site-packages\\statsmodels\\tsa\\statespace\\sarimax.py:966: UserWarning: Non-stationary starting autoregressive parameters found. Using zeros as starting parameters.\n",
      "  warn('Non-stationary starting autoregressive parameters'\n",
      "d:\\Work\\Development\\Python\\SDP\\venv\\lib\\site-packages\\statsmodels\\tsa\\statespace\\sarimax.py:978: UserWarning: Non-invertible starting MA parameters found. Using zeros as starting parameters.\n",
      "  warn('Non-invertible starting MA parameters found.'\n"
     ]
    },
    {
     "name": "stdout",
     "output_type": "stream",
     "text": [
      "Optimization terminated successfully.\n",
      "         Current function value: -0.114051\n",
      "         Iterations: 2\n",
      "         Function evaluations: 564\n"
     ]
    },
    {
     "name": "stderr",
     "output_type": "stream",
     "text": [
      "d:\\Work\\Development\\Python\\SDP\\venv\\lib\\site-packages\\statsmodels\\tsa\\statespace\\sarimax.py:966: UserWarning: Non-stationary starting autoregressive parameters found. Using zeros as starting parameters.\n",
      "  warn('Non-stationary starting autoregressive parameters'\n",
      "d:\\Work\\Development\\Python\\SDP\\venv\\lib\\site-packages\\statsmodels\\tsa\\statespace\\sarimax.py:978: UserWarning: Non-invertible starting MA parameters found. Using zeros as starting parameters.\n",
      "  warn('Non-invertible starting MA parameters found.'\n"
     ]
    },
    {
     "name": "stdout",
     "output_type": "stream",
     "text": [
      "Optimization terminated successfully.\n",
      "         Current function value: -0.114052\n",
      "         Iterations: 2\n",
      "         Function evaluations: 581\n"
     ]
    },
    {
     "name": "stderr",
     "output_type": "stream",
     "text": [
      "d:\\Work\\Development\\Python\\SDP\\venv\\lib\\site-packages\\statsmodels\\tsa\\statespace\\sarimax.py:966: UserWarning: Non-stationary starting autoregressive parameters found. Using zeros as starting parameters.\n",
      "  warn('Non-stationary starting autoregressive parameters'\n",
      "d:\\Work\\Development\\Python\\SDP\\venv\\lib\\site-packages\\statsmodels\\tsa\\statespace\\sarimax.py:978: UserWarning: Non-invertible starting MA parameters found. Using zeros as starting parameters.\n",
      "  warn('Non-invertible starting MA parameters found.'\n"
     ]
    },
    {
     "name": "stdout",
     "output_type": "stream",
     "text": [
      "Optimization terminated successfully.\n",
      "         Current function value: -0.114052\n",
      "         Iterations: 2\n",
      "         Function evaluations: 601\n",
      "Optimization terminated successfully.\n",
      "         Current function value: -0.113124\n",
      "         Iterations: 1\n",
      "         Function evaluations: 223\n",
      "Optimization terminated successfully.\n",
      "         Current function value: -0.113154\n",
      "         Iterations: 2\n",
      "         Function evaluations: 463\n",
      "Optimization terminated successfully.\n",
      "         Current function value: -0.113169\n",
      "         Iterations: 2\n",
      "         Function evaluations: 473\n",
      "Optimization terminated successfully.\n",
      "         Current function value: -0.113187\n",
      "         Iterations: 2\n",
      "         Function evaluations: 482\n",
      "Optimization terminated successfully.\n",
      "         Current function value: -0.113212\n",
      "         Iterations: 2\n",
      "         Function evaluations: 497\n",
      "Optimization terminated successfully.\n",
      "         Current function value: -0.113282\n",
      "         Iterations: 2\n",
      "         Function evaluations: 520\n",
      "Optimization terminated successfully.\n",
      "         Current function value: -0.116779\n",
      "         Iterations: 7\n",
      "         Function evaluations: 1985\n"
     ]
    },
    {
     "name": "stderr",
     "output_type": "stream",
     "text": [
      "d:\\Work\\Development\\Python\\SDP\\venv\\lib\\site-packages\\statsmodels\\tsa\\statespace\\sarimax.py:966: UserWarning: Non-stationary starting autoregressive parameters found. Using zeros as starting parameters.\n",
      "  warn('Non-stationary starting autoregressive parameters'\n",
      "d:\\Work\\Development\\Python\\SDP\\venv\\lib\\site-packages\\statsmodels\\tsa\\statespace\\sarimax.py:978: UserWarning: Non-invertible starting MA parameters found. Using zeros as starting parameters.\n",
      "  warn('Non-invertible starting MA parameters found.'\n"
     ]
    },
    {
     "name": "stdout",
     "output_type": "stream",
     "text": [
      "Optimization terminated successfully.\n",
      "         Current function value: -0.113129\n",
      "         Iterations: 2\n",
      "         Function evaluations: 579\n"
     ]
    },
    {
     "name": "stderr",
     "output_type": "stream",
     "text": [
      "d:\\Work\\Development\\Python\\SDP\\venv\\lib\\site-packages\\statsmodels\\tsa\\statespace\\sarimax.py:966: UserWarning: Non-stationary starting autoregressive parameters found. Using zeros as starting parameters.\n",
      "  warn('Non-stationary starting autoregressive parameters'\n",
      "d:\\Work\\Development\\Python\\SDP\\venv\\lib\\site-packages\\statsmodels\\tsa\\statespace\\sarimax.py:978: UserWarning: Non-invertible starting MA parameters found. Using zeros as starting parameters.\n",
      "  warn('Non-invertible starting MA parameters found.'\n"
     ]
    },
    {
     "name": "stdout",
     "output_type": "stream",
     "text": [
      "Optimization terminated successfully.\n",
      "         Current function value: -0.113132\n",
      "         Iterations: 2\n",
      "         Function evaluations: 583\n"
     ]
    },
    {
     "name": "stderr",
     "output_type": "stream",
     "text": [
      "d:\\Work\\Development\\Python\\SDP\\venv\\lib\\site-packages\\statsmodels\\tsa\\statespace\\sarimax.py:966: UserWarning: Non-stationary starting autoregressive parameters found. Using zeros as starting parameters.\n",
      "  warn('Non-stationary starting autoregressive parameters'\n",
      "d:\\Work\\Development\\Python\\SDP\\venv\\lib\\site-packages\\statsmodels\\tsa\\statespace\\sarimax.py:978: UserWarning: Non-invertible starting MA parameters found. Using zeros as starting parameters.\n",
      "  warn('Non-invertible starting MA parameters found.'\n"
     ]
    },
    {
     "name": "stdout",
     "output_type": "stream",
     "text": [
      "Optimization terminated successfully.\n",
      "         Current function value: -0.113132\n",
      "         Iterations: 2\n",
      "         Function evaluations: 616\n",
      "Optimization terminated successfully.\n",
      "         Current function value: -0.114108\n",
      "         Iterations: 2\n",
      "         Function evaluations: 459\n",
      "Optimization terminated successfully.\n",
      "         Current function value: -0.114049\n",
      "         Iterations: 3\n",
      "         Function evaluations: 702\n",
      "Optimization terminated successfully.\n",
      "         Current function value: -0.114072\n",
      "         Iterations: 2\n",
      "         Function evaluations: 482\n",
      "Optimization terminated successfully.\n",
      "         Current function value: -0.114083\n",
      "         Iterations: 2\n",
      "         Function evaluations: 509\n",
      "Optimization terminated successfully.\n",
      "         Current function value: -0.114084\n",
      "         Iterations: 2\n",
      "         Function evaluations: 539\n",
      "Optimization terminated successfully.\n",
      "         Current function value: -0.114083\n",
      "         Iterations: 2\n",
      "         Function evaluations: 547\n",
      "Optimization terminated successfully.\n",
      "         Current function value: -0.114092\n",
      "         Iterations: 2\n",
      "         Function evaluations: 564\n"
     ]
    },
    {
     "name": "stderr",
     "output_type": "stream",
     "text": [
      "d:\\Work\\Development\\Python\\SDP\\venv\\lib\\site-packages\\statsmodels\\tsa\\statespace\\sarimax.py:966: UserWarning: Non-stationary starting autoregressive parameters found. Using zeros as starting parameters.\n",
      "  warn('Non-stationary starting autoregressive parameters'\n",
      "d:\\Work\\Development\\Python\\SDP\\venv\\lib\\site-packages\\statsmodels\\tsa\\statespace\\sarimax.py:978: UserWarning: Non-invertible starting MA parameters found. Using zeros as starting parameters.\n",
      "  warn('Non-invertible starting MA parameters found.'\n"
     ]
    },
    {
     "name": "stdout",
     "output_type": "stream",
     "text": [
      "Optimization terminated successfully.\n",
      "         Current function value: -0.114109\n",
      "         Iterations: 2\n",
      "         Function evaluations: 583\n"
     ]
    },
    {
     "name": "stderr",
     "output_type": "stream",
     "text": [
      "d:\\Work\\Development\\Python\\SDP\\venv\\lib\\site-packages\\statsmodels\\tsa\\statespace\\sarimax.py:966: UserWarning: Non-stationary starting autoregressive parameters found. Using zeros as starting parameters.\n",
      "  warn('Non-stationary starting autoregressive parameters'\n",
      "d:\\Work\\Development\\Python\\SDP\\venv\\lib\\site-packages\\statsmodels\\tsa\\statespace\\sarimax.py:978: UserWarning: Non-invertible starting MA parameters found. Using zeros as starting parameters.\n",
      "  warn('Non-invertible starting MA parameters found.'\n"
     ]
    },
    {
     "name": "stdout",
     "output_type": "stream",
     "text": [
      "Optimization terminated successfully.\n",
      "         Current function value: -0.114111\n",
      "         Iterations: 2\n",
      "         Function evaluations: 603\n"
     ]
    },
    {
     "name": "stderr",
     "output_type": "stream",
     "text": [
      "d:\\Work\\Development\\Python\\SDP\\venv\\lib\\site-packages\\statsmodels\\tsa\\statespace\\sarimax.py:966: UserWarning: Non-stationary starting autoregressive parameters found. Using zeros as starting parameters.\n",
      "  warn('Non-stationary starting autoregressive parameters'\n",
      "d:\\Work\\Development\\Python\\SDP\\venv\\lib\\site-packages\\statsmodels\\tsa\\statespace\\sarimax.py:978: UserWarning: Non-invertible starting MA parameters found. Using zeros as starting parameters.\n",
      "  warn('Non-invertible starting MA parameters found.'\n"
     ]
    },
    {
     "name": "stdout",
     "output_type": "stream",
     "text": [
      "Optimization terminated successfully.\n",
      "         Current function value: -0.114112\n",
      "         Iterations: 2\n",
      "         Function evaluations: 621\n",
      "Optimization terminated successfully.\n",
      "         Current function value: -0.113740\n",
      "         Iterations: 1\n",
      "         Function evaluations: 230\n",
      "Optimization terminated successfully.\n",
      "         Current function value: -0.113827\n",
      "         Iterations: 2\n",
      "         Function evaluations: 463\n",
      "Optimization terminated successfully.\n",
      "         Current function value: -0.114058\n",
      "         Iterations: 2\n",
      "         Function evaluations: 499\n",
      "Optimization terminated successfully.\n",
      "         Current function value: -0.114069\n",
      "         Iterations: 2\n",
      "         Function evaluations: 505\n",
      "Optimization terminated successfully.\n",
      "         Current function value: -0.119882\n",
      "         Iterations: 16\n",
      "         Function evaluations: 4306\n",
      "Optimization terminated successfully.\n",
      "         Current function value: -0.118190\n",
      "         Iterations: 8\n",
      "         Function evaluations: 2232\n",
      "Optimization terminated successfully.\n",
      "         Current function value: -0.118199\n",
      "         Iterations: 7\n",
      "         Function evaluations: 2017\n"
     ]
    },
    {
     "name": "stderr",
     "output_type": "stream",
     "text": [
      "d:\\Work\\Development\\Python\\SDP\\venv\\lib\\site-packages\\statsmodels\\tsa\\statespace\\sarimax.py:966: UserWarning: Non-stationary starting autoregressive parameters found. Using zeros as starting parameters.\n",
      "  warn('Non-stationary starting autoregressive parameters'\n",
      "d:\\Work\\Development\\Python\\SDP\\venv\\lib\\site-packages\\statsmodels\\tsa\\statespace\\sarimax.py:978: UserWarning: Non-invertible starting MA parameters found. Using zeros as starting parameters.\n",
      "  warn('Non-invertible starting MA parameters found.'\n"
     ]
    },
    {
     "name": "stdout",
     "output_type": "stream",
     "text": [
      "Optimization terminated successfully.\n",
      "         Current function value: -0.113755\n",
      "         Iterations: 2\n",
      "         Function evaluations: 581\n"
     ]
    },
    {
     "name": "stderr",
     "output_type": "stream",
     "text": [
      "d:\\Work\\Development\\Python\\SDP\\venv\\lib\\site-packages\\statsmodels\\tsa\\statespace\\sarimax.py:966: UserWarning: Non-stationary starting autoregressive parameters found. Using zeros as starting parameters.\n",
      "  warn('Non-stationary starting autoregressive parameters'\n",
      "d:\\Work\\Development\\Python\\SDP\\venv\\lib\\site-packages\\statsmodels\\tsa\\statespace\\sarimax.py:978: UserWarning: Non-invertible starting MA parameters found. Using zeros as starting parameters.\n",
      "  warn('Non-invertible starting MA parameters found.'\n"
     ]
    },
    {
     "name": "stdout",
     "output_type": "stream",
     "text": [
      "Optimization terminated successfully.\n",
      "         Current function value: -0.113756\n",
      "         Iterations: 2\n",
      "         Function evaluations: 595\n"
     ]
    },
    {
     "name": "stderr",
     "output_type": "stream",
     "text": [
      "d:\\Work\\Development\\Python\\SDP\\venv\\lib\\site-packages\\statsmodels\\tsa\\statespace\\sarimax.py:966: UserWarning: Non-stationary starting autoregressive parameters found. Using zeros as starting parameters.\n",
      "  warn('Non-stationary starting autoregressive parameters'\n",
      "d:\\Work\\Development\\Python\\SDP\\venv\\lib\\site-packages\\statsmodels\\tsa\\statespace\\sarimax.py:978: UserWarning: Non-invertible starting MA parameters found. Using zeros as starting parameters.\n",
      "  warn('Non-invertible starting MA parameters found.'\n"
     ]
    },
    {
     "name": "stdout",
     "output_type": "stream",
     "text": [
      "Optimization terminated successfully.\n",
      "         Current function value: -0.113756\n",
      "         Iterations: 2\n",
      "         Function evaluations: 606\n",
      "Optimization terminated successfully.\n",
      "         Current function value: -0.114841\n",
      "         Iterations: 2\n",
      "         Function evaluations: 479\n",
      "Optimization terminated successfully.\n",
      "         Current function value: -0.114608\n",
      "         Iterations: 3\n",
      "         Function evaluations: 730\n",
      "Optimization terminated successfully.\n",
      "         Current function value: -0.114455\n",
      "         Iterations: 3\n",
      "         Function evaluations: 757\n",
      "Optimization terminated successfully.\n",
      "         Current function value: -0.114455\n",
      "         Iterations: 2\n",
      "         Function evaluations: 530\n",
      "Optimization terminated successfully.\n",
      "         Current function value: -0.114458\n",
      "         Iterations: 2\n",
      "         Function evaluations: 544\n",
      "Optimization terminated successfully.\n",
      "         Current function value: -0.114454\n",
      "         Iterations: 2\n",
      "         Function evaluations: 564\n",
      "Optimization terminated successfully.\n",
      "         Current function value: -0.131305\n",
      "         Iterations: 15\n",
      "         Function evaluations: 4509\n",
      "Optimization terminated successfully.\n",
      "         Current function value: -0.131581\n",
      "         Iterations: 16\n",
      "         Function evaluations: 4945\n"
     ]
    },
    {
     "name": "stderr",
     "output_type": "stream",
     "text": [
      "d:\\Work\\Development\\Python\\SDP\\venv\\lib\\site-packages\\statsmodels\\tsa\\statespace\\sarimax.py:966: UserWarning: Non-stationary starting autoregressive parameters found. Using zeros as starting parameters.\n",
      "  warn('Non-stationary starting autoregressive parameters'\n",
      "d:\\Work\\Development\\Python\\SDP\\venv\\lib\\site-packages\\statsmodels\\tsa\\statespace\\sarimax.py:978: UserWarning: Non-invertible starting MA parameters found. Using zeros as starting parameters.\n",
      "  warn('Non-invertible starting MA parameters found.'\n"
     ]
    },
    {
     "name": "stdout",
     "output_type": "stream",
     "text": [
      "Optimization terminated successfully.\n",
      "         Current function value: -0.131569\n",
      "         Iterations: 26\n",
      "         Function evaluations: 8336\n"
     ]
    },
    {
     "name": "stderr",
     "output_type": "stream",
     "text": [
      "d:\\Work\\Development\\Python\\SDP\\venv\\lib\\site-packages\\statsmodels\\tsa\\statespace\\sarimax.py:966: UserWarning: Non-stationary starting autoregressive parameters found. Using zeros as starting parameters.\n",
      "  warn('Non-stationary starting autoregressive parameters'\n",
      "d:\\Work\\Development\\Python\\SDP\\venv\\lib\\site-packages\\statsmodels\\tsa\\statespace\\sarimax.py:978: UserWarning: Non-invertible starting MA parameters found. Using zeros as starting parameters.\n",
      "  warn('Non-invertible starting MA parameters found.'\n"
     ]
    },
    {
     "name": "stdout",
     "output_type": "stream",
     "text": [
      "Optimization terminated successfully.\n",
      "         Current function value: -0.130561\n",
      "         Iterations: 17\n",
      "         Function evaluations: 5593\n",
      "Optimization terminated successfully.\n",
      "         Current function value: -0.114091\n",
      "         Iterations: 1\n",
      "         Function evaluations: 244\n",
      "Optimization terminated successfully.\n",
      "         Current function value: -0.114171\n",
      "         Iterations: 2\n",
      "         Function evaluations: 483\n",
      "Optimization terminated successfully.\n",
      "         Current function value: -0.114321\n",
      "         Iterations: 2\n",
      "         Function evaluations: 509\n",
      "Optimization terminated successfully.\n",
      "         Current function value: -0.114453\n",
      "         Iterations: 2\n",
      "         Function evaluations: 529\n",
      "Optimization terminated successfully.\n",
      "         Current function value: -0.118670\n",
      "         Iterations: 8\n",
      "         Function evaluations: 2218\n",
      "Optimization terminated successfully.\n",
      "         Current function value: -0.118490\n",
      "         Iterations: 7\n",
      "         Function evaluations: 2002\n",
      "Optimization terminated successfully.\n",
      "         Current function value: -0.118288\n",
      "         Iterations: 6\n",
      "         Function evaluations: 1766\n",
      "Optimization terminated successfully.\n",
      "         Current function value: -0.118060\n",
      "         Iterations: 6\n",
      "         Function evaluations: 1821\n"
     ]
    },
    {
     "name": "stderr",
     "output_type": "stream",
     "text": [
      "d:\\Work\\Development\\Python\\SDP\\venv\\lib\\site-packages\\statsmodels\\tsa\\statespace\\sarimax.py:966: UserWarning: Non-stationary starting autoregressive parameters found. Using zeros as starting parameters.\n",
      "  warn('Non-stationary starting autoregressive parameters'\n",
      "d:\\Work\\Development\\Python\\SDP\\venv\\lib\\site-packages\\statsmodels\\tsa\\statespace\\sarimax.py:978: UserWarning: Non-invertible starting MA parameters found. Using zeros as starting parameters.\n",
      "  warn('Non-invertible starting MA parameters found.'\n"
     ]
    },
    {
     "name": "stdout",
     "output_type": "stream",
     "text": [
      "Optimization terminated successfully.\n",
      "         Current function value: -0.124503\n",
      "         Iterations: 27\n",
      "         Function evaluations: 8741\n"
     ]
    },
    {
     "name": "stderr",
     "output_type": "stream",
     "text": [
      "d:\\Work\\Development\\Python\\SDP\\venv\\lib\\site-packages\\statsmodels\\tsa\\statespace\\sarimax.py:966: UserWarning: Non-stationary starting autoregressive parameters found. Using zeros as starting parameters.\n",
      "  warn('Non-stationary starting autoregressive parameters'\n",
      "d:\\Work\\Development\\Python\\SDP\\venv\\lib\\site-packages\\statsmodels\\tsa\\statespace\\sarimax.py:978: UserWarning: Non-invertible starting MA parameters found. Using zeros as starting parameters.\n",
      "  warn('Non-invertible starting MA parameters found.'\n"
     ]
    },
    {
     "name": "stdout",
     "output_type": "stream",
     "text": [
      "Optimization terminated successfully.\n",
      "         Current function value: -0.123774\n",
      "         Iterations: 19\n",
      "         Function evaluations: 6231\n",
      "Optimization terminated successfully.\n",
      "         Current function value: -0.115287\n",
      "         Iterations: 2\n",
      "         Function evaluations: 508\n",
      "Optimization terminated successfully.\n",
      "         Current function value: -0.114927\n",
      "         Iterations: 3\n",
      "         Function evaluations: 761\n",
      "Optimization terminated successfully.\n",
      "         Current function value: -0.114789\n",
      "         Iterations: 3\n",
      "         Function evaluations: 787\n",
      "Optimization terminated successfully.\n",
      "         Current function value: -0.114777\n",
      "         Iterations: 2\n",
      "         Function evaluations: 547\n",
      "Optimization terminated successfully.\n",
      "         Current function value: -0.114776\n",
      "         Iterations: 2\n",
      "         Function evaluations: 567\n",
      "Optimization terminated successfully.\n",
      "         Current function value: -0.114768\n",
      "         Iterations: 2\n",
      "         Function evaluations: 590\n",
      "Optimization terminated successfully.\n",
      "         Current function value: -0.130351\n",
      "         Iterations: 12\n",
      "         Function evaluations: 3665\n",
      "Optimization terminated successfully.\n",
      "         Current function value: -0.114781\n",
      "         Iterations: 2\n",
      "         Function evaluations: 620\n"
     ]
    },
    {
     "name": "stderr",
     "output_type": "stream",
     "text": [
      "d:\\Work\\Development\\Python\\SDP\\venv\\lib\\site-packages\\statsmodels\\tsa\\statespace\\sarimax.py:966: UserWarning: Non-stationary starting autoregressive parameters found. Using zeros as starting parameters.\n",
      "  warn('Non-stationary starting autoregressive parameters'\n",
      "d:\\Work\\Development\\Python\\SDP\\venv\\lib\\site-packages\\statsmodels\\tsa\\statespace\\sarimax.py:978: UserWarning: Non-invertible starting MA parameters found. Using zeros as starting parameters.\n",
      "  warn('Non-invertible starting MA parameters found.'\n"
     ]
    },
    {
     "name": "stdout",
     "output_type": "stream",
     "text": [
      "Optimization terminated successfully.\n",
      "         Current function value: -0.129530\n",
      "         Iterations: 12\n",
      "         Function evaluations: 3900\n"
     ]
    },
    {
     "name": "stderr",
     "output_type": "stream",
     "text": [
      "d:\\Work\\Development\\Python\\SDP\\venv\\lib\\site-packages\\statsmodels\\tsa\\statespace\\sarimax.py:966: UserWarning: Non-stationary starting autoregressive parameters found. Using zeros as starting parameters.\n",
      "  warn('Non-stationary starting autoregressive parameters'\n",
      "d:\\Work\\Development\\Python\\SDP\\venv\\lib\\site-packages\\statsmodels\\tsa\\statespace\\sarimax.py:978: UserWarning: Non-invertible starting MA parameters found. Using zeros as starting parameters.\n",
      "  warn('Non-invertible starting MA parameters found.'\n"
     ]
    },
    {
     "name": "stdout",
     "output_type": "stream",
     "text": [
      "Optimization terminated successfully.\n",
      "         Current function value: -0.128775\n",
      "         Iterations: 12\n",
      "         Function evaluations: 4017\n",
      "Optimization terminated successfully.\n",
      "         Current function value: -0.114722\n",
      "         Iterations: 1\n",
      "         Function evaluations: 251\n",
      "Optimization terminated successfully.\n",
      "         Current function value: -0.114678\n",
      "         Iterations: 2\n",
      "         Function evaluations: 504\n",
      "Optimization terminated successfully.\n",
      "         Current function value: -0.114826\n",
      "         Iterations: 2\n",
      "         Function evaluations: 527\n",
      "Optimization terminated successfully.\n",
      "         Current function value: -0.115012\n",
      "         Iterations: 2\n",
      "         Function evaluations: 558\n",
      "Optimization terminated successfully.\n",
      "         Current function value: -0.120309\n",
      "         Iterations: 8\n",
      "         Function evaluations: 2344\n",
      "Optimization terminated successfully.\n",
      "         Current function value: -0.119732\n",
      "         Iterations: 7\n",
      "         Function evaluations: 2081\n",
      "Optimization terminated successfully.\n",
      "         Current function value: -0.119785\n",
      "         Iterations: 7\n",
      "         Function evaluations: 2161\n",
      "Optimization terminated successfully.\n",
      "         Current function value: -0.124587\n",
      "         Iterations: 24\n",
      "         Function evaluations: 7678\n"
     ]
    },
    {
     "name": "stderr",
     "output_type": "stream",
     "text": [
      "d:\\Work\\Development\\Python\\SDP\\venv\\lib\\site-packages\\statsmodels\\tsa\\statespace\\sarimax.py:966: UserWarning: Non-stationary starting autoregressive parameters found. Using zeros as starting parameters.\n",
      "  warn('Non-stationary starting autoregressive parameters'\n",
      "d:\\Work\\Development\\Python\\SDP\\venv\\lib\\site-packages\\statsmodels\\tsa\\statespace\\sarimax.py:978: UserWarning: Non-invertible starting MA parameters found. Using zeros as starting parameters.\n",
      "  warn('Non-invertible starting MA parameters found.'\n"
     ]
    },
    {
     "name": "stdout",
     "output_type": "stream",
     "text": [
      "Optimization terminated successfully.\n",
      "         Current function value: -0.125396\n",
      "         Iterations: 28\n",
      "         Function evaluations: 9273\n"
     ]
    },
    {
     "name": "stderr",
     "output_type": "stream",
     "text": [
      "d:\\Work\\Development\\Python\\SDP\\venv\\lib\\site-packages\\statsmodels\\tsa\\statespace\\sarimax.py:966: UserWarning: Non-stationary starting autoregressive parameters found. Using zeros as starting parameters.\n",
      "  warn('Non-stationary starting autoregressive parameters'\n",
      "d:\\Work\\Development\\Python\\SDP\\venv\\lib\\site-packages\\statsmodels\\tsa\\statespace\\sarimax.py:978: UserWarning: Non-invertible starting MA parameters found. Using zeros as starting parameters.\n",
      "  warn('Non-invertible starting MA parameters found.'\n"
     ]
    },
    {
     "name": "stdout",
     "output_type": "stream",
     "text": [
      "Optimization terminated successfully.\n",
      "         Current function value: -0.125562\n",
      "         Iterations: 23\n",
      "         Function evaluations: 7847\n",
      "Optimization terminated successfully.\n",
      "         Current function value: -0.116051\n",
      "         Iterations: 2\n",
      "         Function evaluations: 518\n",
      "Optimization terminated successfully.\n",
      "         Current function value: -0.116280\n",
      "         Iterations: 3\n",
      "         Function evaluations: 790\n",
      "Optimization terminated successfully.\n",
      "         Current function value: -0.116219\n",
      "         Iterations: 3\n",
      "         Function evaluations: 844\n",
      "Optimization terminated successfully.\n",
      "         Current function value: -0.116212\n",
      "         Iterations: 2\n",
      "         Function evaluations: 565\n",
      "Optimization terminated successfully.\n",
      "         Current function value: -0.134177\n",
      "         Iterations: 15\n",
      "         Function evaluations: 4465\n",
      "Optimization terminated successfully.\n",
      "         Current function value: -0.133186\n",
      "         Iterations: 11\n",
      "         Function evaluations: 3421\n",
      "Optimization terminated successfully.\n",
      "         Current function value: -0.133175\n",
      "         Iterations: 10\n",
      "         Function evaluations: 3190\n",
      "Optimization terminated successfully.\n",
      "         Current function value: -0.132874\n",
      "         Iterations: 9\n",
      "         Function evaluations: 2966\n"
     ]
    },
    {
     "name": "stderr",
     "output_type": "stream",
     "text": [
      "d:\\Work\\Development\\Python\\SDP\\venv\\lib\\site-packages\\statsmodels\\tsa\\statespace\\sarimax.py:966: UserWarning: Non-stationary starting autoregressive parameters found. Using zeros as starting parameters.\n",
      "  warn('Non-stationary starting autoregressive parameters'\n"
     ]
    },
    {
     "name": "stdout",
     "output_type": "stream",
     "text": [
      "Optimization terminated successfully.\n",
      "         Current function value: -0.115191\n",
      "         Iterations: 10\n",
      "         Function evaluations: 3472\n"
     ]
    },
    {
     "name": "stderr",
     "output_type": "stream",
     "text": [
      "d:\\Work\\Development\\Python\\SDP\\venv\\lib\\site-packages\\statsmodels\\tsa\\statespace\\sarimax.py:966: UserWarning: Non-stationary starting autoregressive parameters found. Using zeros as starting parameters.\n",
      "  warn('Non-stationary starting autoregressive parameters'\n",
      "d:\\Work\\Development\\Python\\SDP\\venv\\lib\\site-packages\\statsmodels\\tsa\\statespace\\sarimax.py:978: UserWarning: Non-invertible starting MA parameters found. Using zeros as starting parameters.\n",
      "  warn('Non-invertible starting MA parameters found.'\n"
     ]
    },
    {
     "name": "stdout",
     "output_type": "stream",
     "text": [
      "Optimization terminated successfully.\n",
      "         Current function value: -0.131038\n",
      "         Iterations: 10\n",
      "         Function evaluations: 3449\n",
      "Optimization terminated successfully.\n",
      "         Current function value: -0.114854\n",
      "         Iterations: 1\n",
      "         Function evaluations: 261\n",
      "Optimization terminated successfully.\n",
      "         Current function value: -0.114808\n",
      "         Iterations: 2\n",
      "         Function evaluations: 532\n",
      "Optimization terminated successfully.\n",
      "         Current function value: -0.114964\n",
      "         Iterations: 2\n",
      "         Function evaluations: 578\n",
      "Optimization terminated successfully.\n",
      "         Current function value: -0.115145\n",
      "         Iterations: 2\n",
      "         Function evaluations: 571\n",
      "Optimization terminated successfully.\n",
      "         Current function value: -0.120577\n",
      "         Iterations: 8\n",
      "         Function evaluations: 2399\n",
      "Optimization terminated successfully.\n",
      "         Current function value: -0.119935\n",
      "         Iterations: 7\n",
      "         Function evaluations: 2151\n",
      "Optimization terminated successfully.\n",
      "         Current function value: -0.119968\n",
      "         Iterations: 7\n",
      "         Function evaluations: 2221\n",
      "Optimization terminated successfully.\n",
      "         Current function value: -0.124749\n",
      "         Iterations: 26\n",
      "         Function evaluations: 8660\n"
     ]
    },
    {
     "name": "stderr",
     "output_type": "stream",
     "text": [
      "d:\\Work\\Development\\Python\\SDP\\venv\\lib\\site-packages\\statsmodels\\tsa\\statespace\\sarimax.py:966: UserWarning: Non-stationary starting autoregressive parameters found. Using zeros as starting parameters.\n",
      "  warn('Non-stationary starting autoregressive parameters'\n",
      "d:\\Work\\Development\\Python\\SDP\\venv\\lib\\site-packages\\statsmodels\\tsa\\statespace\\sarimax.py:978: UserWarning: Non-invertible starting MA parameters found. Using zeros as starting parameters.\n",
      "  warn('Non-invertible starting MA parameters found.'\n"
     ]
    },
    {
     "name": "stdout",
     "output_type": "stream",
     "text": [
      "Optimization terminated successfully.\n",
      "         Current function value: -0.125649\n",
      "         Iterations: 27\n",
      "         Function evaluations: 9307\n"
     ]
    },
    {
     "name": "stderr",
     "output_type": "stream",
     "text": [
      "d:\\Work\\Development\\Python\\SDP\\venv\\lib\\site-packages\\statsmodels\\tsa\\statespace\\sarimax.py:966: UserWarning: Non-stationary starting autoregressive parameters found. Using zeros as starting parameters.\n",
      "  warn('Non-stationary starting autoregressive parameters'\n",
      "d:\\Work\\Development\\Python\\SDP\\venv\\lib\\site-packages\\statsmodels\\tsa\\statespace\\sarimax.py:978: UserWarning: Non-invertible starting MA parameters found. Using zeros as starting parameters.\n",
      "  warn('Non-invertible starting MA parameters found.'\n"
     ]
    },
    {
     "name": "stdout",
     "output_type": "stream",
     "text": [
      "Optimization terminated successfully.\n",
      "         Current function value: -0.124216\n",
      "         Iterations: 21\n",
      "         Function evaluations: 7344\n",
      "Optimization terminated successfully.\n",
      "         Current function value: -0.116130\n",
      "         Iterations: 1\n",
      "         Function evaluations: 263\n",
      "Optimization terminated successfully.\n",
      "         Current function value: -0.116314\n",
      "         Iterations: 3\n",
      "         Function evaluations: 821\n",
      "Optimization terminated successfully.\n",
      "         Current function value: -0.116241\n",
      "         Iterations: 3\n",
      "         Function evaluations: 863\n",
      "Optimization terminated successfully.\n",
      "         Current function value: -0.116236\n",
      "         Iterations: 2\n",
      "         Function evaluations: 589\n",
      "Optimization terminated successfully.\n",
      "         Current function value: -0.134493\n",
      "         Iterations: 18\n",
      "         Function evaluations: 5514\n",
      "Optimization terminated successfully.\n",
      "         Current function value: -0.134182\n",
      "         Iterations: 12\n",
      "         Function evaluations: 3823\n",
      "Optimization terminated successfully.\n",
      "         Current function value: -0.133914\n",
      "         Iterations: 11\n",
      "         Function evaluations: 3611\n",
      "Optimization terminated successfully.\n",
      "         Current function value: -0.133371\n",
      "         Iterations: 10\n",
      "         Function evaluations: 3404\n",
      "Optimization terminated successfully.\n",
      "         Current function value: -0.132908\n",
      "         Iterations: 9\n",
      "         Function evaluations: 3157\n"
     ]
    },
    {
     "name": "stderr",
     "output_type": "stream",
     "text": [
      "d:\\Work\\Development\\Python\\SDP\\venv\\lib\\site-packages\\statsmodels\\tsa\\statespace\\sarimax.py:966: UserWarning: Non-stationary starting autoregressive parameters found. Using zeros as starting parameters.\n",
      "  warn('Non-stationary starting autoregressive parameters'\n",
      "d:\\Work\\Development\\Python\\SDP\\venv\\lib\\site-packages\\statsmodels\\tsa\\statespace\\sarimax.py:978: UserWarning: Non-invertible starting MA parameters found. Using zeros as starting parameters.\n",
      "  warn('Non-invertible starting MA parameters found.'\n"
     ]
    },
    {
     "name": "stdout",
     "output_type": "stream",
     "text": [
      "Optimization terminated successfully.\n",
      "         Current function value: -0.130789\n",
      "         Iterations: 11\n",
      "         Function evaluations: 3914\n",
      "Optimization terminated successfully.\n",
      "         Current function value: -0.115440\n",
      "         Iterations: 1\n",
      "         Function evaluations: 260\n",
      "Optimization terminated successfully.\n",
      "         Current function value: -0.115511\n",
      "         Iterations: 2\n",
      "         Function evaluations: 547\n",
      "Optimization terminated successfully.\n",
      "         Current function value: -0.115677\n",
      "         Iterations: 2\n",
      "         Function evaluations: 566\n",
      "Optimization terminated successfully.\n",
      "         Current function value: -0.115736\n",
      "         Iterations: 2\n",
      "         Function evaluations: 597\n",
      "Optimization terminated successfully.\n",
      "         Current function value: -0.120883\n",
      "         Iterations: 8\n",
      "         Function evaluations: 2497\n",
      "Optimization terminated successfully.\n",
      "         Current function value: -0.120460\n",
      "         Iterations: 7\n",
      "         Function evaluations: 2250\n",
      "Optimization terminated successfully.\n",
      "         Current function value: -0.121068\n",
      "         Iterations: 12\n",
      "         Function evaluations: 3971\n",
      "Optimization terminated successfully.\n",
      "         Current function value: -0.120260\n",
      "         Iterations: 6\n",
      "         Function evaluations: 2003\n",
      "Optimization terminated successfully.\n",
      "         Current function value: -0.124735\n",
      "         Iterations: 21\n",
      "         Function evaluations: 7362\n"
     ]
    },
    {
     "name": "stderr",
     "output_type": "stream",
     "text": [
      "d:\\Work\\Development\\Python\\SDP\\venv\\lib\\site-packages\\statsmodels\\tsa\\statespace\\sarimax.py:966: UserWarning: Non-stationary starting autoregressive parameters found. Using zeros as starting parameters.\n",
      "  warn('Non-stationary starting autoregressive parameters'\n",
      "d:\\Work\\Development\\Python\\SDP\\venv\\lib\\site-packages\\statsmodels\\tsa\\statespace\\sarimax.py:978: UserWarning: Non-invertible starting MA parameters found. Using zeros as starting parameters.\n",
      "  warn('Non-invertible starting MA parameters found.'\n"
     ]
    },
    {
     "name": "stdout",
     "output_type": "stream",
     "text": [
      "Optimization terminated successfully.\n",
      "         Current function value: -0.120657\n",
      "         Iterations: 13\n",
      "         Function evaluations: 4697\n",
      "Optimization terminated successfully.\n",
      "         Current function value: -0.116849\n",
      "         Iterations: 1\n",
      "         Function evaluations: 271\n",
      "Optimization terminated successfully.\n",
      "         Current function value: -0.116662\n",
      "         Iterations: 3\n",
      "         Function evaluations: 846\n",
      "Optimization terminated successfully.\n",
      "         Current function value: -0.116544\n",
      "         Iterations: 3\n",
      "         Function evaluations: 879\n",
      "Optimization terminated successfully.\n",
      "         Current function value: -0.116558\n",
      "         Iterations: 2\n",
      "         Function evaluations: 603\n",
      "Optimization terminated successfully.\n",
      "         Current function value: -0.133071\n",
      "         Iterations: 20\n",
      "         Function evaluations: 6402\n",
      "Optimization terminated successfully.\n",
      "         Current function value: -0.133634\n",
      "         Iterations: 13\n",
      "         Function evaluations: 4255\n",
      "Optimization terminated successfully.\n",
      "         Current function value: -0.134463\n",
      "         Iterations: 12\n",
      "         Function evaluations: 4070\n",
      "Optimization terminated successfully.\n",
      "         Current function value: -0.134636\n",
      "         Iterations: 22\n",
      "         Function evaluations: 7730\n",
      "Optimization terminated successfully.\n",
      "         Current function value: -0.132867\n",
      "         Iterations: 9\n",
      "         Function evaluations: 3247\n"
     ]
    },
    {
     "name": "stderr",
     "output_type": "stream",
     "text": [
      "d:\\Work\\Development\\Python\\SDP\\venv\\lib\\site-packages\\statsmodels\\tsa\\statespace\\sarimax.py:966: UserWarning: Non-stationary starting autoregressive parameters found. Using zeros as starting parameters.\n",
      "  warn('Non-stationary starting autoregressive parameters'\n",
      "d:\\Work\\Development\\Python\\SDP\\venv\\lib\\site-packages\\statsmodels\\tsa\\statespace\\sarimax.py:978: UserWarning: Non-invertible starting MA parameters found. Using zeros as starting parameters.\n",
      "  warn('Non-invertible starting MA parameters found.'\n"
     ]
    },
    {
     "name": "stdout",
     "output_type": "stream",
     "text": [
      "Optimization terminated successfully.\n",
      "         Current function value: -0.132173\n",
      "         Iterations: 10\n",
      "         Function evaluations: 3675\n",
      "Optimization terminated successfully.\n",
      "         Current function value: -0.115678\n",
      "         Iterations: 1\n",
      "         Function evaluations: 282\n",
      "Optimization terminated successfully.\n",
      "         Current function value: -0.115742\n",
      "         Iterations: 2\n",
      "         Function evaluations: 586\n",
      "Optimization terminated successfully.\n",
      "         Current function value: -0.115923\n",
      "         Iterations: 2\n",
      "         Function evaluations: 585\n",
      "Optimization terminated successfully.\n",
      "         Current function value: -0.120231\n",
      "         Iterations: 9\n",
      "         Function evaluations: 2803\n",
      "Optimization terminated successfully.\n",
      "         Current function value: -0.120880\n",
      "         Iterations: 8\n",
      "         Function evaluations: 2556\n",
      "Optimization terminated successfully.\n",
      "         Current function value: -0.124978\n",
      "         Iterations: 26\n",
      "         Function evaluations: 8602\n",
      "Optimization terminated successfully.\n",
      "         Current function value: -0.121201\n",
      "         Iterations: 11\n",
      "         Function evaluations: 3727\n",
      "Optimization terminated successfully.\n",
      "         Current function value: -0.120526\n",
      "         Iterations: 7\n",
      "         Function evaluations: 2445\n",
      "Optimization terminated successfully.\n",
      "         Current function value: -0.120259\n",
      "         Iterations: 7\n",
      "         Function evaluations: 2524\n"
     ]
    },
    {
     "name": "stderr",
     "output_type": "stream",
     "text": [
      "d:\\Work\\Development\\Python\\SDP\\venv\\lib\\site-packages\\statsmodels\\tsa\\statespace\\sarimax.py:966: UserWarning: Non-stationary starting autoregressive parameters found. Using zeros as starting parameters.\n",
      "  warn('Non-stationary starting autoregressive parameters'\n",
      "d:\\Work\\Development\\Python\\SDP\\venv\\lib\\site-packages\\statsmodels\\tsa\\statespace\\sarimax.py:978: UserWarning: Non-invertible starting MA parameters found. Using zeros as starting parameters.\n",
      "  warn('Non-invertible starting MA parameters found.'\n"
     ]
    },
    {
     "name": "stdout",
     "output_type": "stream",
     "text": [
      "Optimization terminated successfully.\n",
      "         Current function value: -0.120373\n",
      "         Iterations: 7\n",
      "         Function evaluations: 2564\n",
      "Optimization terminated successfully.\n",
      "         Current function value: -0.117182\n",
      "         Iterations: 2\n",
      "         Function evaluations: 582\n",
      "Optimization terminated successfully.\n",
      "         Current function value: -0.116891\n",
      "         Iterations: 3\n",
      "         Function evaluations: 874\n",
      "Optimization terminated successfully.\n",
      "         Current function value: -0.116770\n",
      "         Iterations: 3\n",
      "         Function evaluations: 909\n",
      "Optimization terminated successfully.\n",
      "         Current function value: -0.116780\n",
      "         Iterations: 2\n",
      "         Function evaluations: 622\n",
      "Optimization terminated successfully.\n",
      "         Current function value: -0.133953\n",
      "         Iterations: 16\n",
      "         Function evaluations: 5264\n",
      "Optimization terminated successfully.\n",
      "         Current function value: -0.134098\n",
      "         Iterations: 14\n",
      "         Function evaluations: 4697\n",
      "Optimization terminated successfully.\n",
      "         Current function value: -0.134790\n",
      "         Iterations: 12\n",
      "         Function evaluations: 4184\n",
      "Optimization terminated successfully.\n",
      "         Current function value: -0.133921\n",
      "         Iterations: 9\n",
      "         Function evaluations: 3246\n",
      "Optimization terminated successfully.\n",
      "         Current function value: -0.133609\n",
      "         Iterations: 10\n",
      "         Function evaluations: 3733\n"
     ]
    },
    {
     "name": "stderr",
     "output_type": "stream",
     "text": [
      "d:\\Work\\Development\\Python\\SDP\\venv\\lib\\site-packages\\statsmodels\\tsa\\statespace\\sarimax.py:966: UserWarning: Non-stationary starting autoregressive parameters found. Using zeros as starting parameters.\n",
      "  warn('Non-stationary starting autoregressive parameters'\n",
      "d:\\Work\\Development\\Python\\SDP\\venv\\lib\\site-packages\\statsmodels\\tsa\\statespace\\sarimax.py:978: UserWarning: Non-invertible starting MA parameters found. Using zeros as starting parameters.\n",
      "  warn('Non-invertible starting MA parameters found.'\n"
     ]
    },
    {
     "name": "stdout",
     "output_type": "stream",
     "text": [
      "Optimization terminated successfully.\n",
      "         Current function value: -0.132518\n",
      "         Iterations: 10\n",
      "         Function evaluations: 3772\n",
      "Optimization terminated successfully.\n",
      "         Current function value: -0.116234\n",
      "         Iterations: 1\n",
      "         Function evaluations: 307\n",
      "Optimization terminated successfully.\n",
      "         Current function value: -0.116205\n",
      "         Iterations: 2\n",
      "         Function evaluations: 594\n",
      "Optimization terminated successfully.\n",
      "         Current function value: -0.116494\n",
      "         Iterations: 3\n",
      "         Function evaluations: 961\n",
      "Optimization terminated successfully.\n",
      "         Current function value: -0.121466\n",
      "         Iterations: 11\n",
      "         Function evaluations: 3571\n",
      "Optimization terminated successfully.\n",
      "         Current function value: -0.121485\n",
      "         Iterations: 8\n",
      "         Function evaluations: 2629\n",
      "Optimization terminated successfully.\n",
      "         Current function value: -0.120989\n",
      "         Iterations: 6\n",
      "         Function evaluations: 2055\n",
      "Optimization terminated successfully.\n",
      "         Current function value: -0.121002\n",
      "         Iterations: 6\n",
      "         Function evaluations: 2089\n",
      "Optimization terminated successfully.\n",
      "         Current function value: -0.120887\n",
      "         Iterations: 7\n",
      "         Function evaluations: 2534\n",
      "Optimization terminated successfully.\n",
      "         Current function value: -0.120710\n",
      "         Iterations: 6\n",
      "         Function evaluations: 2196\n"
     ]
    },
    {
     "name": "stderr",
     "output_type": "stream",
     "text": [
      "d:\\Work\\Development\\Python\\SDP\\venv\\lib\\site-packages\\statsmodels\\tsa\\statespace\\sarimax.py:966: UserWarning: Non-stationary starting autoregressive parameters found. Using zeros as starting parameters.\n",
      "  warn('Non-stationary starting autoregressive parameters'\n",
      "d:\\Work\\Development\\Python\\SDP\\venv\\lib\\site-packages\\statsmodels\\tsa\\statespace\\sarimax.py:978: UserWarning: Non-invertible starting MA parameters found. Using zeros as starting parameters.\n",
      "  warn('Non-invertible starting MA parameters found.'\n"
     ]
    },
    {
     "name": "stdout",
     "output_type": "stream",
     "text": [
      "Optimization terminated successfully.\n",
      "         Current function value: -0.120705\n",
      "         Iterations: 7\n",
      "         Function evaluations: 2666\n",
      "Optimization terminated successfully.\n",
      "         Current function value: -0.117886\n",
      "         Iterations: 2\n",
      "         Function evaluations: 600\n",
      "Optimization terminated successfully.\n",
      "         Current function value: -0.118201\n",
      "         Iterations: 3\n",
      "         Function evaluations: 911\n",
      "Optimization terminated successfully.\n",
      "         Current function value: -0.118077\n",
      "         Iterations: 3\n",
      "         Function evaluations: 941\n",
      "Optimization terminated successfully.\n",
      "         Current function value: -0.118057\n",
      "         Iterations: 3\n",
      "         Function evaluations: 974\n",
      "Optimization terminated successfully.\n",
      "         Current function value: -0.118063\n",
      "         Iterations: 3\n",
      "         Function evaluations: 999\n",
      "Optimization terminated successfully.\n",
      "         Current function value: -0.134231\n",
      "         Iterations: 14\n",
      "         Function evaluations: 4878\n",
      "Optimization terminated successfully.\n",
      "         Current function value: -0.134520\n",
      "         Iterations: 13\n",
      "         Function evaluations: 4623\n",
      "Optimization terminated successfully.\n",
      "         Current function value: -0.134006\n",
      "         Iterations: 12\n",
      "         Function evaluations: 4418\n",
      "Optimization terminated successfully.\n",
      "         Current function value: -0.134972\n",
      "         Iterations: 11\n",
      "         Function evaluations: 4193\n",
      "Optimization terminated successfully.\n",
      "         Current function value: -0.133758\n",
      "         Iterations: 12\n",
      "         Function evaluations: 4679\n",
      "Optimization terminated successfully.\n",
      "         Current function value: -0.116331\n",
      "         Iterations: 1\n",
      "         Function evaluations: 294\n",
      "Optimization terminated successfully.\n",
      "         Current function value: -0.116274\n",
      "         Iterations: 2\n",
      "         Function evaluations: 630\n",
      "Optimization terminated successfully.\n",
      "         Current function value: -0.116577\n",
      "         Iterations: 3\n",
      "         Function evaluations: 988\n",
      "Optimization terminated successfully.\n",
      "         Current function value: -0.121902\n",
      "         Iterations: 10\n",
      "         Function evaluations: 3278\n",
      "Optimization terminated successfully.\n",
      "         Current function value: -0.121503\n",
      "         Iterations: 8\n",
      "         Function evaluations: 2712\n",
      "Optimization terminated successfully.\n",
      "         Current function value: -0.121060\n",
      "         Iterations: 7\n",
      "         Function evaluations: 2451\n",
      "Optimization terminated successfully.\n",
      "         Current function value: -0.121140\n",
      "         Iterations: 6\n",
      "         Function evaluations: 2137\n",
      "Optimization terminated successfully.\n",
      "         Current function value: -0.121023\n",
      "         Iterations: 7\n",
      "         Function evaluations: 2566\n",
      "Optimization terminated successfully.\n",
      "         Current function value: -0.120882\n",
      "         Iterations: 6\n",
      "         Function evaluations: 2282\n",
      "Optimization terminated successfully.\n",
      "         Current function value: -0.120745\n",
      "         Iterations: 6\n",
      "         Function evaluations: 2308\n",
      "Optimization terminated successfully.\n",
      "         Current function value: -0.117933\n",
      "         Iterations: 2\n",
      "         Function evaluations: 616\n",
      "Optimization terminated successfully.\n",
      "         Current function value: -0.118304\n",
      "         Iterations: 3\n",
      "         Function evaluations: 943\n",
      "Optimization terminated successfully.\n",
      "         Current function value: -0.118185\n",
      "         Iterations: 3\n",
      "         Function evaluations: 980\n",
      "Optimization terminated successfully.\n",
      "         Current function value: -0.118161\n",
      "         Iterations: 3\n",
      "         Function evaluations: 1010\n",
      "Optimization terminated successfully.\n",
      "         Current function value: -0.118164\n",
      "         Iterations: 3\n",
      "         Function evaluations: 1030\n",
      "Optimization terminated successfully.\n",
      "         Current function value: -0.118158\n",
      "         Iterations: 3\n",
      "         Function evaluations: 1060\n",
      "Optimization terminated successfully.\n",
      "         Current function value: -0.134092\n",
      "         Iterations: 13\n",
      "         Function evaluations: 4761\n",
      "Optimization terminated successfully.\n",
      "         Current function value: -0.133794\n",
      "         Iterations: 11\n",
      "         Function evaluations: 4136\n",
      "Optimization terminated successfully.\n",
      "         Current function value: -0.135082\n",
      "         Iterations: 11\n",
      "         Function evaluations: 4285\n",
      "Optimization terminated successfully.\n",
      "         Current function value: -0.133918\n",
      "         Iterations: 12\n",
      "         Function evaluations: 4800\n",
      "Optimization terminated successfully.\n",
      "         Current function value: -0.117987\n",
      "         Iterations: 1\n",
      "         Function evaluations: 302\n",
      "Optimization terminated successfully.\n",
      "         Current function value: -0.118008\n",
      "         Iterations: 2\n",
      "         Function evaluations: 626\n",
      "Optimization terminated successfully.\n",
      "         Current function value: -0.118380\n",
      "         Iterations: 3\n",
      "         Function evaluations: 1003\n",
      "Optimization terminated successfully.\n",
      "         Current function value: -0.123075\n",
      "         Iterations: 9\n",
      "         Function evaluations: 3057\n",
      "Optimization terminated successfully.\n",
      "         Current function value: -0.122683\n",
      "         Iterations: 8\n",
      "         Function evaluations: 2767\n",
      "Optimization terminated successfully.\n",
      "         Current function value: -0.122520\n",
      "         Iterations: 6\n",
      "         Function evaluations: 2143\n",
      "Optimization terminated successfully.\n",
      "         Current function value: -0.122514\n",
      "         Iterations: 6\n",
      "         Function evaluations: 2213\n",
      "Optimization terminated successfully.\n",
      "         Current function value: -0.122285\n",
      "         Iterations: 7\n",
      "         Function evaluations: 2666\n",
      "Optimization terminated successfully.\n",
      "         Current function value: -0.122161\n",
      "         Iterations: 6\n",
      "         Function evaluations: 2359\n",
      "Optimization terminated successfully.\n",
      "         Current function value: -0.122051\n",
      "         Iterations: 6\n",
      "         Function evaluations: 2403\n",
      "Optimization terminated successfully.\n",
      "         Current function value: -0.119851\n",
      "         Iterations: 2\n",
      "         Function evaluations: 637\n",
      "Optimization terminated successfully.\n",
      "         Current function value: -0.119615\n",
      "         Iterations: 3\n",
      "         Function evaluations: 965\n",
      "Optimization terminated successfully.\n",
      "         Current function value: -0.119611\n",
      "         Iterations: 3\n",
      "         Function evaluations: 1002\n",
      "Optimization terminated successfully.\n",
      "         Current function value: -0.119567\n",
      "         Iterations: 3\n",
      "         Function evaluations: 1031\n",
      "Optimization terminated successfully.\n",
      "         Current function value: -0.134806\n",
      "         Iterations: 13\n",
      "         Function evaluations: 4649\n",
      "Optimization terminated successfully.\n",
      "         Current function value: -0.135216\n",
      "         Iterations: 12\n",
      "         Function evaluations: 4371\n",
      "Optimization terminated successfully.\n",
      "         Current function value: -0.135035\n",
      "         Iterations: 12\n",
      "         Function evaluations: 4508\n",
      "Optimization terminated successfully.\n",
      "         Current function value: -0.134685\n",
      "         Iterations: 12\n",
      "         Function evaluations: 4636\n",
      "Optimization terminated successfully.\n",
      "         Current function value: -0.134958\n",
      "         Iterations: 11\n",
      "         Function evaluations: 4359\n",
      "Optimization terminated successfully.\n",
      "         Current function value: -0.134165\n",
      "         Iterations: 11\n",
      "         Function evaluations: 4492\n",
      "Optimization terminated successfully.\n",
      "         Current function value: -0.117993\n",
      "         Iterations: 1\n",
      "         Function evaluations: 321\n",
      "Optimization terminated successfully.\n",
      "         Current function value: -0.118009\n",
      "         Iterations: 2\n",
      "         Function evaluations: 657\n",
      "Optimization terminated successfully.\n",
      "         Current function value: -0.123062\n",
      "         Iterations: 10\n",
      "         Function evaluations: 3472\n",
      "Optimization terminated successfully.\n",
      "         Current function value: -0.123141\n",
      "         Iterations: 9\n",
      "         Function evaluations: 3131\n",
      "Optimization terminated successfully.\n",
      "         Current function value: -0.122711\n",
      "         Iterations: 8\n",
      "         Function evaluations: 2859\n",
      "Optimization terminated successfully.\n",
      "         Current function value: -0.122521\n",
      "         Iterations: 7\n",
      "         Function evaluations: 2616\n",
      "Optimization terminated successfully.\n",
      "         Current function value: -0.122529\n",
      "         Iterations: 6\n",
      "         Function evaluations: 2281\n",
      "Optimization terminated successfully.\n",
      "         Current function value: -0.122302\n",
      "         Iterations: 7\n",
      "         Function evaluations: 2695\n",
      "Optimization terminated successfully.\n",
      "         Current function value: -0.122175\n",
      "         Iterations: 6\n",
      "         Function evaluations: 2393\n",
      "Optimization terminated successfully.\n",
      "         Current function value: -0.122066\n",
      "         Iterations: 6\n",
      "         Function evaluations: 2465\n",
      "Optimization terminated successfully.\n",
      "         Current function value: -0.119883\n",
      "         Iterations: 2\n",
      "         Function evaluations: 654\n",
      "Optimization terminated successfully.\n",
      "         Current function value: -0.119851\n",
      "         Iterations: 3\n",
      "         Function evaluations: 995\n",
      "Optimization terminated successfully.\n",
      "         Current function value: -0.119751\n",
      "         Iterations: 3\n",
      "         Function evaluations: 1030\n",
      "Optimization terminated successfully.\n",
      "         Current function value: -0.119708\n",
      "         Iterations: 3\n",
      "         Function evaluations: 1060\n",
      "Optimization terminated successfully.\n",
      "         Current function value: -0.135056\n",
      "         Iterations: 13\n",
      "         Function evaluations: 4767\n",
      "Optimization terminated successfully.\n",
      "         Current function value: -0.135205\n",
      "         Iterations: 13\n",
      "         Function evaluations: 4879\n",
      "Optimization terminated successfully.\n",
      "         Current function value: -0.134819\n",
      "         Iterations: 13\n",
      "         Function evaluations: 5028\n",
      "Optimization terminated successfully.\n",
      "         Current function value: -0.134602\n",
      "         Iterations: 12\n",
      "         Function evaluations: 4771\n",
      "Optimization terminated successfully.\n",
      "         Current function value: -0.135125\n",
      "         Iterations: 11\n",
      "         Function evaluations: 4465\n",
      "Optimization terminated successfully.\n",
      "         Current function value: -0.134144\n",
      "         Iterations: 11\n",
      "         Function evaluations: 4584\n",
      "Optimization terminated successfully.\n",
      "         Current function value: -0.118552\n",
      "         Iterations: 1\n",
      "         Function evaluations: 324\n",
      "Optimization terminated successfully.\n",
      "         Current function value: -0.118723\n",
      "         Iterations: 3\n",
      "         Function evaluations: 1058\n",
      "Optimization terminated successfully.\n",
      "         Current function value: -0.118980\n",
      "         Iterations: 3\n",
      "         Function evaluations: 1055\n",
      "Optimization terminated successfully.\n",
      "         Current function value: -0.123466\n",
      "         Iterations: 9\n",
      "         Function evaluations: 3217\n",
      "Optimization terminated successfully.\n",
      "         Current function value: -0.122983\n",
      "         Iterations: 8\n",
      "         Function evaluations: 2934\n",
      "Optimization terminated successfully.\n",
      "         Current function value: -0.122908\n",
      "         Iterations: 7\n",
      "         Function evaluations: 2648\n",
      "Optimization terminated successfully.\n",
      "         Current function value: -0.122828\n",
      "         Iterations: 7\n",
      "         Function evaluations: 2732\n",
      "Optimization terminated successfully.\n",
      "         Current function value: -0.122709\n",
      "         Iterations: 8\n",
      "         Function evaluations: 3219\n",
      "Optimization terminated successfully.\n",
      "         Current function value: -0.122556\n",
      "         Iterations: 7\n",
      "         Function evaluations: 2900\n",
      "Optimization terminated successfully.\n",
      "         Current function value: -0.122457\n",
      "         Iterations: 7\n",
      "         Function evaluations: 2967\n",
      "Best ARIMA parameters: (24, 0, 4)\n",
      "Best AIC: -1020.3672666309551\n"
     ]
    }
   ],
   "source": [
    "# Grid search for best parameters\n",
    "def grid_search_arima(data, p_range, d_range, q_range):\n",
    "    best_aic = float(\"inf\")\n",
    "    best_params = None\n",
    "\n",
    "    for p in p_range:\n",
    "        for d in d_range:\n",
    "            for q in q_range:\n",
    "                try:\n",
    "                    arima_model = fit_arima(scaler_target_train_df, order=(p, d, q))\n",
    "                    if arima_model.aic < best_aic:\n",
    "                        best_aic = arima_model.aic\n",
    "                        best_params = (p, d, q)\n",
    "                except:\n",
    "                    continue\n",
    "\n",
    "    return best_params, best_aic\n",
    "\n",
    "\n",
    "# Example usage\n",
    "p_range = range(0, 31)\n",
    "d_range = range(0, 2)\n",
    "q_range = range(0, 10)\n",
    "\n",
    "best_params, best_aic = grid_search_arima(train, p_range, d_range, q_range)\n",
    "print(f\"Best ARIMA parameters: {best_params}\")\n",
    "print(f\"Best AIC: {best_aic}\")"
   ]
  },
  {
   "cell_type": "markdown",
   "metadata": {},
   "source": [
    "#### training arima model"
   ]
  },
  {
   "cell_type": "markdown",
   "metadata": {},
   "source": [
    "Best ARIMA parameters: (24, 0, 4)\n",
    "Best AIC: -1020.3672666309551"
   ]
  },
  {
   "cell_type": "code",
   "execution_count": 15,
   "metadata": {},
   "outputs": [
    {
     "name": "stdout",
     "output_type": "stream",
     "text": [
      "Optimization terminated successfully.\n",
      "         Current function value: -0.134493\n",
      "         Iterations: 18\n",
      "         Function evaluations: 5514\n",
      "\n",
      "ARIMA Model Summary:\n",
      "                               SARIMAX Results                                \n",
      "==============================================================================\n",
      "Dep. Variable:        Avg Temperature   No. Observations:                 4009\n",
      "Model:              SARIMAX(24, 0, 4)   Log Likelihood                 539.184\n",
      "Date:                Fri, 21 Mar 2025   AIC                          -1020.367\n",
      "Time:                        18:42:34   BIC                           -837.775\n",
      "Sample:                    01-01-2010   HQIC                          -955.650\n",
      "                         - 12-24-2020                                         \n",
      "Covariance Type:                  opg                                         \n",
      "==============================================================================\n",
      "                 coef    std err          z      P>|z|      [0.025      0.975]\n",
      "------------------------------------------------------------------------------\n",
      "ar.L1          0.0605      0.059      1.025      0.305      -0.055       0.176\n",
      "ar.L2          0.6150      0.058     10.599      0.000       0.501       0.729\n",
      "ar.L3          0.6883      0.083      8.288      0.000       0.526       0.851\n",
      "ar.L4          0.3046      0.056      5.445      0.000       0.195       0.414\n",
      "ar.L5         -0.6656      0.047    -14.020      0.000      -0.759      -0.573\n",
      "ar.L6          0.1010      0.024      4.257      0.000       0.055       0.148\n",
      "ar.L7          0.0308      0.023      1.349      0.177      -0.014       0.076\n",
      "ar.L8          0.0047      0.022      0.214      0.831      -0.039       0.048\n",
      "ar.L9         -0.0287      0.023     -1.248      0.212      -0.074       0.016\n",
      "ar.L10        -0.0276      0.022     -1.252      0.211      -0.071       0.016\n",
      "ar.L11        -0.0114      0.023     -0.506      0.613      -0.056       0.033\n",
      "ar.L12        -0.0215      0.022     -0.958      0.338      -0.065       0.023\n",
      "ar.L13        -0.0481      0.023     -2.080      0.038      -0.093      -0.003\n",
      "ar.L14        -0.0153      0.023     -0.671      0.502      -0.060       0.029\n",
      "ar.L15         0.0362      0.023      1.576      0.115      -0.009       0.081\n",
      "ar.L16         0.0479      0.023      2.064      0.039       0.002       0.093\n",
      "ar.L17        -0.0275      0.023     -1.172      0.241      -0.074       0.018\n",
      "ar.L18        -0.0385      0.023     -1.647      0.100      -0.084       0.007\n",
      "ar.L19         0.0076      0.023      0.329      0.742      -0.038       0.053\n",
      "ar.L20         0.0495      0.022      2.273      0.023       0.007       0.092\n",
      "ar.L21         0.0276      0.021      1.326      0.185      -0.013       0.068\n",
      "ar.L22        -0.0090      0.019     -0.463      0.643      -0.047       0.029\n",
      "ar.L23        -0.0627      0.016     -3.964      0.000      -0.094      -0.032\n",
      "ar.L24        -0.0233      0.016     -1.480      0.139      -0.054       0.008\n",
      "ma.L1          0.7818      0.058     13.533      0.000       0.669       0.895\n",
      "ma.L2         -0.0498      0.055     -0.911      0.362      -0.157       0.057\n",
      "ma.L3         -0.7796      0.056    -13.852      0.000      -0.890      -0.669\n",
      "ma.L4         -0.9217      0.055    -16.879      0.000      -1.029      -0.815\n",
      "sigma2         0.0447      0.001     53.007      0.000       0.043       0.046\n",
      "===================================================================================\n",
      "Ljung-Box (L1) (Q):                   0.01   Jarque-Bera (JB):               464.43\n",
      "Prob(Q):                              0.92   Prob(JB):                         0.00\n",
      "Heteroskedasticity (H):               1.03   Skew:                            -0.60\n",
      "Prob(H) (two-sided):                  0.64   Kurtosis:                         4.17\n",
      "===================================================================================\n",
      "\n",
      "Warnings:\n",
      "[1] Covariance matrix calculated using the outer product of gradients (complex-step).\n"
     ]
    }
   ],
   "source": [
    "# Fit ARIMA model\n",
    "# order=(p,d,q) where:\n",
    "# p = AR terms (lags)\n",
    "# d = differencing\n",
    "# q = MA terms\n",
    "# arima_model = fit_arima(train, order=(29, 0, 1), exogenous_df=train_exog)\n",
    "# arima_model = fit_arima(scaler_target_train_df, order=(5, 1, 2))\n",
    "## grid search best parammeter in range\n",
    "arima_model = fit_arima(scaler_target_train_df, order=(24, 0, 4))\n",
    "print(\"\\nARIMA Model Summary:\")\n",
    "print(arima_model.summary())"
   ]
  },
  {
   "cell_type": "code",
   "execution_count": 16,
   "metadata": {},
   "outputs": [
    {
     "name": "stdout",
     "output_type": "stream",
     "text": [
      "{'optimizer': 'powell', 'start_params': array([-2.66443771e+00, -3.41311949e-01, -1.82559390e-01, -1.41338979e-01,\n",
      "       -1.20530675e-01, -1.01983194e-01, -1.00529061e-01, -5.13780654e-02,\n",
      "       -4.03528006e-02, -3.11392035e-02, -8.25307304e-03,  2.27455372e-02,\n",
      "       -6.05039255e-03, -1.92346449e-02, -3.10534408e-03,  4.94885732e-03,\n",
      "        2.41394497e-02, -5.60565655e-03, -1.06684288e-02, -2.10673957e-03,\n",
      "        2.92926367e-02,  1.49646650e-02,  4.44775583e-02, -1.26462070e-02,\n",
      "        3.60666941e-01,  8.67839488e-02,  1.68457372e-02,  4.62021036e-03,\n",
      "        2.15182732e-01]), 'maxiter': 500, 'full_output': 1, 'disp': 5, 'fargs': ({'transformed': False, 'includes_fixed': False, 'score_method': 'approx', 'approx_complex_step': True},), 'callback': None, 'retall': False, 'extra_fit_funcs': {}, 'xtol': 0.0001, 'ftol': 0.0001, 'maxfun': None, 'start_direc': None}\n"
     ]
    }
   ],
   "source": [
    "print(arima_model.mle_settings)"
   ]
  },
  {
   "cell_type": "markdown",
   "metadata": {},
   "source": [
    "#### testing arimax model"
   ]
  },
  {
   "cell_type": "markdown",
   "metadata": {},
   "source": [
    "start from beginnin, use standard scaling on only one variable avg temperature then use date and year for proper time indexing, an continue"
   ]
  },
  {
   "cell_type": "code",
   "execution_count": 22,
   "metadata": {},
   "outputs": [
    {
     "data": {
      "text/html": [
       "<div>\n",
       "<style scoped>\n",
       "    .dataframe tbody tr th:only-of-type {\n",
       "        vertical-align: middle;\n",
       "    }\n",
       "\n",
       "    .dataframe tbody tr th {\n",
       "        vertical-align: top;\n",
       "    }\n",
       "\n",
       "    .dataframe thead th {\n",
       "        text-align: right;\n",
       "    }\n",
       "</style>\n",
       "<table border=\"1\" class=\"dataframe\">\n",
       "  <thead>\n",
       "    <tr style=\"text-align: right;\">\n",
       "      <th></th>\n",
       "      <th>Avg Temperature</th>\n",
       "    </tr>\n",
       "    <tr>\n",
       "      <th>Date</th>\n",
       "      <th></th>\n",
       "    </tr>\n",
       "  </thead>\n",
       "  <tbody>\n",
       "    <tr>\n",
       "      <th>2020-12-25</th>\n",
       "      <td>-1.852604</td>\n",
       "    </tr>\n",
       "    <tr>\n",
       "      <th>2020-12-26</th>\n",
       "      <td>-1.752019</td>\n",
       "    </tr>\n",
       "    <tr>\n",
       "      <th>2020-12-27</th>\n",
       "      <td>-1.458000</td>\n",
       "    </tr>\n",
       "    <tr>\n",
       "      <th>2020-12-28</th>\n",
       "      <td>-1.852604</td>\n",
       "    </tr>\n",
       "    <tr>\n",
       "      <th>2020-12-29</th>\n",
       "      <td>-2.146623</td>\n",
       "    </tr>\n",
       "  </tbody>\n",
       "</table>\n",
       "</div>"
      ],
      "text/plain": [
       "            Avg Temperature\n",
       "Date                       \n",
       "2020-12-25        -1.852604\n",
       "2020-12-26        -1.752019\n",
       "2020-12-27        -1.458000\n",
       "2020-12-28        -1.852604\n",
       "2020-12-29        -2.146623"
      ]
     },
     "execution_count": 22,
     "metadata": {},
     "output_type": "execute_result"
    }
   ],
   "source": [
    "scaler_target_test_df.head()"
   ]
  },
  {
   "cell_type": "code",
   "execution_count": 23,
   "metadata": {},
   "outputs": [],
   "source": [
    "forcast_steps = 1000"
   ]
  },
  {
   "cell_type": "code",
   "execution_count": 24,
   "metadata": {},
   "outputs": [
    {
     "data": {
      "text/plain": [
       "2020-12-23   -1.561243\n",
       "2020-12-24   -1.527004\n",
       "2020-12-25   -1.520809\n",
       "2020-12-26   -1.513638\n",
       "2020-12-27   -1.479179\n",
       "                ...   \n",
       "2023-09-14   -0.125426\n",
       "2023-09-15   -0.131198\n",
       "2023-09-16   -0.136663\n",
       "2023-09-17   -0.142317\n",
       "2023-09-18   -0.147661\n",
       "Freq: D, Name: predicted_mean, Length: 1000, dtype: float64"
      ]
     },
     "execution_count": 24,
     "metadata": {},
     "output_type": "execute_result"
    }
   ],
   "source": [
    "# Make the forecast\n",
    "forecast = arima_model.get_forecast(steps=forcast_steps)\n",
    "forecast_values = forecast.predicted_mean  # This is already a numpy array\n",
    "forecast_ci = forecast.conf_int()\n",
    "forecast_values\n"
   ]
  },
  {
   "cell_type": "code",
   "execution_count": 25,
   "metadata": {},
   "outputs": [
    {
     "name": "stdout",
     "output_type": "stream",
     "text": [
      "           Avg Temperature\n",
      "2020-12-23       56.311728\n",
      "2020-12-24       56.776832\n",
      "2020-12-25       56.860982\n",
      "2020-12-26       56.958402\n",
      "2020-12-27       57.426491\n",
      "...                    ...\n",
      "2023-09-14       75.816057\n",
      "2023-09-15       75.737643\n",
      "2023-09-16       75.663403\n",
      "2023-09-17       75.586609\n",
      "2023-09-18       75.514009\n",
      "\n",
      "[1000 rows x 1 columns]\n",
      "            lower Avg Temperature  upper Avg Temperature\n",
      "2020-12-23              50.684002              61.939453\n",
      "2020-12-24              49.418712              64.134951\n",
      "2020-12-25              48.726719              64.995246\n",
      "2020-12-26              48.415267              65.501538\n",
      "2020-12-27              48.633743              66.219239\n",
      "...                           ...                    ...\n",
      "2023-09-14              51.680549              99.951565\n",
      "2023-09-15              51.601878              99.873407\n",
      "2023-09-16              51.527356              99.799450\n",
      "2023-09-17              51.450240              99.722978\n",
      "2023-09-18              51.377289              99.650729\n",
      "\n",
      "[1000 rows x 2 columns]\n"
     ]
    }
   ],
   "source": [
    "## inversing back from scaled data to normal temperature values for ploting and understanding\n",
    "forecast_values_original = pd.DataFrame(\n",
    "    scaler_target_train.inverse_transform(forecast_values.values.reshape(-1, 1)),\n",
    "    index=forecast_values.index,\n",
    "    columns=[target_column],\n",
    ")\n",
    "forecast_ci_original = pd.DataFrame(\n",
    "    scaler_target_train.inverse_transform(forecast_ci),\n",
    "    index=forecast_ci.index,\n",
    "    columns=forecast_ci.columns,\n",
    ")\n",
    "\n",
    "print(forecast_values_original)\n",
    "print(forecast_ci_original)"
   ]
  },
  {
   "cell_type": "code",
   "execution_count": 26,
   "metadata": {},
   "outputs": [
    {
     "data": {
      "image/png": "[encoded data removed]",
      "text/plain": [
       "<Figure size 1000x600 with 1 Axes>"
      ]
     },
     "metadata": {},
     "output_type": "display_data"
    }
   ],
   "source": [
    "# Convert Period index to DateTime for plotting\n",
    "plot_index = test.index[:forcast_steps].astype(str).astype(\"datetime64[ns]\")\n",
    "\n",
    "# Plot with DateTime index\n",
    "plt.figure(figsize=(10, 6))\n",
    "plt.plot(\n",
    "    plot_index,\n",
    "    test[target_column].iloc[:forcast_steps],\n",
    "    label=\"Original Data\",\n",
    "    marker=\"o\",\n",
    ")\n",
    "plt.plot(plot_index, forecast_values_original, label=\"Forecast\", color=\"yellow\", marker=\"o\")\n",
    "plt.fill_between(\n",
    "    plot_index,\n",
    "    forecast_ci_original.iloc[:, 0],\n",
    "    forecast_ci_original.iloc[:, 1],\n",
    "    color=\"orange\",\n",
    "    alpha=0.2,\n",
    "    label=\"Confidence Interval\",\n",
    ")\n",
    "\n",
    "# Improve plot formatting\n",
    "plt.xlabel(\"Date\")\n",
    "plt.ylabel(target_column)\n",
    "plt.title(\"ARIMA Model: Original Data and Forecast After Grid Search\")\n",
    "plt.legend()\n",
    "plt.grid(True)\n",
    "plt.xticks(rotation=45)\n",
    "plt.tight_layout()\n",
    "plt.show()"
   ]
  },
  {
   "cell_type": "markdown",
   "metadata": {},
   "source": [
    "#### arima model evaluation"
   ]
  },
  {
   "cell_type": "code",
   "execution_count": null,
   "metadata": {},
   "outputs": [
    {
     "name": "stdout",
     "output_type": "stream",
     "text": [
      "\n",
      "Model Performance Metrics:\n",
      "-------------------------\n",
      "MSE:  61.905\n",
      "RMSE: 7.868\n",
      "MAE:  6.413\n",
      "MAPE: 8.85%\n"
     ]
    }
   ],
   "source": [
    "from math import sqrt\n",
    "from sklearn.metrics import mean_squared_error, mean_absolute_error, r2_score\n",
    "import numpy as np\n",
    "\n",
    "\n",
    "# Calculate all error metrics\n",
    "def calculate_metrics(actual, predicted):\n",
    "    mse = mean_squared_error(actual, predicted)\n",
    "    rmse = sqrt(mse)\n",
    "    mae = mean_absolute_error(actual, predicted)\n",
    "\n",
    "    # Calculate MAPE\n",
    "    actual_array = np.array(actual)\n",
    "    predicted_array = np.array(predicted)\n",
    "    mape = np.mean(np.abs((actual_array - predicted_array) / actual_array)) * 100\n",
    "    r2 = r2_score(actual, predicted)\n",
    "\n",
    "    return {\"MSE\": mse, \"RMSE\": rmse, \"MAE\": mae, \"MAPE\": mape, \"R²\": r2}\n",
    "\n",
    "\n",
    "# Calculate metrics\n",
    "metrics = calculate_metrics(\n",
    "    test[target_column].iloc[:forcast_steps], forecast_values_original\n",
    ")\n",
    "\n",
    "# Print all metrics with proper formatting\n",
    "print(\"\\nModel Performance Metrics:\")\n",
    "print(\"-\" * 25)\n",
    "print(f\"MSE:  {metrics['MSE']:.3f}\")\n",
    "print(f\"RMSE: {metrics['RMSE']:.3f}\")\n",
    "print(f\"MAE:  {metrics['MAE']:.3f}\")\n",
    "print(f\"MAPE: {metrics['MAPE']:.2f}%\")\n",
    "print(f\"R²: {metrics['R²']:.2f}%\")"
   ]
  },
  {
   "cell_type": "code",
   "execution_count": null,
   "metadata": {},
   "outputs": [],
   "source": []
  },
  {
   "cell_type": "markdown",
   "metadata": {},
   "source": [
    "#### Grid search to check for best sarimax model parameters"
   ]
  },
  {
   "cell_type": "code",
   "execution_count": 52,
   "metadata": {},
   "outputs": [
    {
     "name": "stdout",
     "output_type": "stream",
     "text": [
      "Optimization terminated successfully.\n",
      "         Current function value: -0.113313\n",
      "         Iterations: 4\n",
      "         Function evaluations: 651\n",
      "Optimization terminated successfully.\n",
      "         Current function value: -0.114578\n",
      "         Iterations: 3\n",
      "         Function evaluations: 513\n",
      "Optimization terminated successfully.\n",
      "         Current function value: -0.114641\n",
      "         Iterations: 3\n",
      "         Function evaluations: 549\n",
      "Optimization terminated successfully.\n",
      "         Current function value: -0.114639\n",
      "         Iterations: 3\n",
      "         Function evaluations: 573\n",
      "Optimization terminated successfully.\n",
      "         Current function value: -0.114635\n",
      "         Iterations: 3\n",
      "         Function evaluations: 604\n",
      "Optimization terminated successfully.\n",
      "         Current function value: -0.114677\n",
      "         Iterations: 3\n",
      "         Function evaluations: 633\n",
      "Optimization terminated successfully.\n",
      "         Current function value: -0.114679\n",
      "         Iterations: 3\n",
      "         Function evaluations: 664\n",
      "Optimization terminated successfully.\n",
      "         Current function value: -0.114776\n",
      "         Iterations: 3\n",
      "         Function evaluations: 690\n",
      "Optimization terminated successfully.\n",
      "         Current function value: -0.115680\n",
      "         Iterations: 3\n",
      "         Function evaluations: 717\n",
      "Progress: 10/162 combinations\n",
      "Optimization terminated successfully.\n",
      "         Current function value: -0.094622\n",
      "         Iterations: 5\n",
      "         Function evaluations: 851\n",
      "Optimization terminated successfully.\n",
      "         Current function value: -0.094659\n",
      "         Iterations: 5\n",
      "         Function evaluations: 889\n"
     ]
    },
    {
     "ename": "KeyboardInterrupt",
     "evalue": "",
     "output_type": "error",
     "traceback": [
      "\u001b[1;31m---------------------------------------------------------------------------\u001b[0m",
      "\u001b[1;31mKeyboardInterrupt\u001b[0m                         Traceback (most recent call last)",
      "Cell \u001b[1;32mIn[52], line 57\u001b[0m\n\u001b[0;32m     54\u001b[0m s \u001b[38;5;241m=\u001b[39m \u001b[38;5;241m30\u001b[39m  \u001b[38;5;66;03m# Seasonal period (e.g., 24 for hourly data with daily seasonality)\u001b[39;00m\n\u001b[0;32m     56\u001b[0m \u001b[38;5;66;03m# Perform grid search\u001b[39;00m\n\u001b[1;32m---> 57\u001b[0m best_params, best_aic \u001b[38;5;241m=\u001b[39m \u001b[43mgrid_search_sarima\u001b[49m\u001b[43m(\u001b[49m\n\u001b[0;32m     58\u001b[0m \u001b[43m    \u001b[49m\u001b[43mscaler_target_train_df\u001b[49m\u001b[43m,\u001b[49m\u001b[43m \u001b[49m\u001b[43mP_range\u001b[49m\u001b[43m,\u001b[49m\u001b[43m \u001b[49m\u001b[43mD_range\u001b[49m\u001b[43m,\u001b[49m\u001b[43m \u001b[49m\u001b[43mQ_range\u001b[49m\u001b[43m,\u001b[49m\u001b[43m \u001b[49m\u001b[43ms\u001b[49m\n\u001b[0;32m     59\u001b[0m \u001b[43m)\u001b[49m\n\u001b[0;32m     61\u001b[0m \u001b[38;5;28mprint\u001b[39m(\u001b[38;5;124m\"\u001b[39m\u001b[38;5;130;01m\\n\u001b[39;00m\u001b[38;5;124mBest SARIMA parameters found:\u001b[39m\u001b[38;5;124m\"\u001b[39m)\n\u001b[0;32m     62\u001b[0m \u001b[38;5;28mprint\u001b[39m(\u001b[38;5;124mf\u001b[39m\u001b[38;5;124m\"\u001b[39m\u001b[38;5;124mSeasonal Order (P,D,Q,s): \u001b[39m\u001b[38;5;132;01m{\u001b[39;00mbest_params\u001b[38;5;132;01m}\u001b[39;00m\u001b[38;5;124m\"\u001b[39m)\n",
      "Cell \u001b[1;32mIn[52], line 33\u001b[0m, in \u001b[0;36mgrid_search_sarima\u001b[1;34m(data, P_range, D_range, Q_range, s)\u001b[0m\n\u001b[0;32m     30\u001b[0m     \u001b[38;5;28mprint\u001b[39m(\u001b[38;5;124mf\u001b[39m\u001b[38;5;124m\"\u001b[39m\u001b[38;5;124mProgress: \u001b[39m\u001b[38;5;132;01m{\u001b[39;00mcurrent\u001b[38;5;132;01m}\u001b[39;00m\u001b[38;5;124m/\u001b[39m\u001b[38;5;132;01m{\u001b[39;00mtotal_combinations\u001b[38;5;132;01m}\u001b[39;00m\u001b[38;5;124m combinations\u001b[39m\u001b[38;5;124m\"\u001b[39m)\n\u001b[0;32m     32\u001b[0m \u001b[38;5;28;01mtry\u001b[39;00m:\n\u001b[1;32m---> 33\u001b[0m     model \u001b[38;5;241m=\u001b[39m \u001b[43mfit_sarima\u001b[49m\u001b[43m(\u001b[49m\u001b[43mdata\u001b[49m\u001b[43m,\u001b[49m\u001b[43m \u001b[49m\u001b[43morder\u001b[49m\u001b[38;5;241;43m=\u001b[39;49m\u001b[43m(\u001b[49m\u001b[38;5;241;43m10\u001b[39;49m\u001b[43m,\u001b[49m\u001b[43m \u001b[49m\u001b[38;5;241;43m0\u001b[39;49m\u001b[43m,\u001b[49m\u001b[43m \u001b[49m\u001b[38;5;241;43m2\u001b[39;49m\u001b[43m)\u001b[49m\u001b[43m,\u001b[49m\u001b[43m \u001b[49m\u001b[43mseasonal_order\u001b[49m\u001b[38;5;241;43m=\u001b[39;49m\u001b[43mparam_seasonal\u001b[49m\u001b[43m)\u001b[49m\n\u001b[0;32m     34\u001b[0m     results \u001b[38;5;241m=\u001b[39m model\u001b[38;5;241m.\u001b[39mfit()\n\u001b[0;32m     36\u001b[0m     \u001b[38;5;28;01mif\u001b[39;00m results\u001b[38;5;241m.\u001b[39maic \u001b[38;5;241m<\u001b[39m best_aic:\n",
      "Cell \u001b[1;32mIn[51], line 27\u001b[0m, in \u001b[0;36mfit_sarima\u001b[1;34m(data, order, seasonal_order, exogenous_df)\u001b[0m\n\u001b[0;32m     25\u001b[0m \u001b[38;5;28;01mdef\u001b[39;00m\u001b[38;5;250m \u001b[39m\u001b[38;5;21mfit_sarima\u001b[39m(data, order, seasonal_order, exogenous_df\u001b[38;5;241m=\u001b[39m\u001b[38;5;28;01mNone\u001b[39;00m):\n\u001b[0;32m     26\u001b[0m     model \u001b[38;5;241m=\u001b[39m SARIMAX(data, order\u001b[38;5;241m=\u001b[39morder, seasonal_order\u001b[38;5;241m=\u001b[39mseasonal_order, exog\u001b[38;5;241m=\u001b[39mexogenous_df)\n\u001b[1;32m---> 27\u001b[0m     results \u001b[38;5;241m=\u001b[39m \u001b[43mmodel\u001b[49m\u001b[38;5;241;43m.\u001b[39;49m\u001b[43mfit\u001b[49m\u001b[43m(\u001b[49m\u001b[43mmethod\u001b[49m\u001b[38;5;241;43m=\u001b[39;49m\u001b[38;5;124;43m\"\u001b[39;49m\u001b[38;5;124;43mpowell\u001b[39;49m\u001b[38;5;124;43m\"\u001b[39;49m\u001b[43m,\u001b[49m\u001b[43m \u001b[49m\u001b[43mmaxiter\u001b[49m\u001b[38;5;241;43m=\u001b[39;49m\u001b[38;5;241;43m500\u001b[39;49m\u001b[43m)\u001b[49m\n\u001b[0;32m     28\u001b[0m     \u001b[38;5;28;01mreturn\u001b[39;00m results\n",
      "File \u001b[1;32md:\\Work\\Development\\Python\\SDP\\venv\\lib\\site-packages\\statsmodels\\tsa\\statespace\\mlemodel.py:705\u001b[0m, in \u001b[0;36mMLEModel.fit\u001b[1;34m(self, start_params, transformed, includes_fixed, cov_type, cov_kwds, method, maxiter, full_output, disp, callback, return_params, optim_score, optim_complex_step, optim_hessian, flags, low_memory, **kwargs)\u001b[0m\n\u001b[0;32m    703\u001b[0m         flags[\u001b[38;5;124m'\u001b[39m\u001b[38;5;124mhessian_method\u001b[39m\u001b[38;5;124m'\u001b[39m] \u001b[38;5;241m=\u001b[39m optim_hessian\n\u001b[0;32m    704\u001b[0m     fargs \u001b[38;5;241m=\u001b[39m (flags,)\n\u001b[1;32m--> 705\u001b[0m     mlefit \u001b[38;5;241m=\u001b[39m \u001b[38;5;28msuper\u001b[39m()\u001b[38;5;241m.\u001b[39mfit(start_params, method\u001b[38;5;241m=\u001b[39mmethod,\n\u001b[0;32m    706\u001b[0m                          fargs\u001b[38;5;241m=\u001b[39mfargs,\n\u001b[0;32m    707\u001b[0m                          maxiter\u001b[38;5;241m=\u001b[39mmaxiter,\n\u001b[0;32m    708\u001b[0m                          full_output\u001b[38;5;241m=\u001b[39mfull_output,\n\u001b[0;32m    709\u001b[0m                          disp\u001b[38;5;241m=\u001b[39mdisp, callback\u001b[38;5;241m=\u001b[39mcallback,\n\u001b[0;32m    710\u001b[0m                          skip_hessian\u001b[38;5;241m=\u001b[39m\u001b[38;5;28;01mTrue\u001b[39;00m, \u001b[38;5;241m*\u001b[39m\u001b[38;5;241m*\u001b[39mkwargs)\n\u001b[0;32m    712\u001b[0m \u001b[38;5;66;03m# Just return the fitted parameters if requested\u001b[39;00m\n\u001b[0;32m    713\u001b[0m \u001b[38;5;28;01mif\u001b[39;00m return_params:\n",
      "File \u001b[1;32md:\\Work\\Development\\Python\\SDP\\venv\\lib\\site-packages\\statsmodels\\base\\model.py:566\u001b[0m, in \u001b[0;36mLikelihoodModel.fit\u001b[1;34m(self, start_params, method, maxiter, full_output, disp, fargs, callback, retall, skip_hessian, **kwargs)\u001b[0m\n\u001b[0;32m    563\u001b[0m     \u001b[38;5;28;01mdel\u001b[39;00m kwargs[\u001b[38;5;124m\"\u001b[39m\u001b[38;5;124muse_t\u001b[39m\u001b[38;5;124m\"\u001b[39m]\n\u001b[0;32m    565\u001b[0m optimizer \u001b[38;5;241m=\u001b[39m Optimizer()\n\u001b[1;32m--> 566\u001b[0m xopt, retvals, optim_settings \u001b[38;5;241m=\u001b[39m \u001b[43moptimizer\u001b[49m\u001b[38;5;241;43m.\u001b[39;49m\u001b[43m_fit\u001b[49m\u001b[43m(\u001b[49m\u001b[43mf\u001b[49m\u001b[43m,\u001b[49m\u001b[43m \u001b[49m\u001b[43mscore\u001b[49m\u001b[43m,\u001b[49m\u001b[43m \u001b[49m\u001b[43mstart_params\u001b[49m\u001b[43m,\u001b[49m\n\u001b[0;32m    567\u001b[0m \u001b[43m                                               \u001b[49m\u001b[43mfargs\u001b[49m\u001b[43m,\u001b[49m\u001b[43m \u001b[49m\u001b[43mkwargs\u001b[49m\u001b[43m,\u001b[49m\n\u001b[0;32m    568\u001b[0m \u001b[43m                                               \u001b[49m\u001b[43mhessian\u001b[49m\u001b[38;5;241;43m=\u001b[39;49m\u001b[43mhess\u001b[49m\u001b[43m,\u001b[49m\n\u001b[0;32m    569\u001b[0m \u001b[43m                                               \u001b[49m\u001b[43mmethod\u001b[49m\u001b[38;5;241;43m=\u001b[39;49m\u001b[43mmethod\u001b[49m\u001b[43m,\u001b[49m\n\u001b[0;32m    570\u001b[0m \u001b[43m                                               \u001b[49m\u001b[43mdisp\u001b[49m\u001b[38;5;241;43m=\u001b[39;49m\u001b[43mdisp\u001b[49m\u001b[43m,\u001b[49m\n\u001b[0;32m    571\u001b[0m \u001b[43m                                               \u001b[49m\u001b[43mmaxiter\u001b[49m\u001b[38;5;241;43m=\u001b[39;49m\u001b[43mmaxiter\u001b[49m\u001b[43m,\u001b[49m\n\u001b[0;32m    572\u001b[0m \u001b[43m                                               \u001b[49m\u001b[43mcallback\u001b[49m\u001b[38;5;241;43m=\u001b[39;49m\u001b[43mcallback\u001b[49m\u001b[43m,\u001b[49m\n\u001b[0;32m    573\u001b[0m \u001b[43m                                               \u001b[49m\u001b[43mretall\u001b[49m\u001b[38;5;241;43m=\u001b[39;49m\u001b[43mretall\u001b[49m\u001b[43m,\u001b[49m\n\u001b[0;32m    574\u001b[0m \u001b[43m                                               \u001b[49m\u001b[43mfull_output\u001b[49m\u001b[38;5;241;43m=\u001b[39;49m\u001b[43mfull_output\u001b[49m\u001b[43m)\u001b[49m\n\u001b[0;32m    575\u001b[0m \u001b[38;5;66;03m# Restore cov_type, cov_kwds and use_t\u001b[39;00m\n\u001b[0;32m    576\u001b[0m optim_settings\u001b[38;5;241m.\u001b[39mupdate(kwds)\n",
      "File \u001b[1;32md:\\Work\\Development\\Python\\SDP\\venv\\lib\\site-packages\\statsmodels\\base\\optimizer.py:243\u001b[0m, in \u001b[0;36mOptimizer._fit\u001b[1;34m(self, objective, gradient, start_params, fargs, kwargs, hessian, method, maxiter, full_output, disp, callback, retall)\u001b[0m\n\u001b[0;32m    240\u001b[0m     fit_funcs\u001b[38;5;241m.\u001b[39mupdate(extra_fit_funcs)\n\u001b[0;32m    242\u001b[0m func \u001b[38;5;241m=\u001b[39m fit_funcs[method]\n\u001b[1;32m--> 243\u001b[0m xopt, retvals \u001b[38;5;241m=\u001b[39m \u001b[43mfunc\u001b[49m\u001b[43m(\u001b[49m\u001b[43mobjective\u001b[49m\u001b[43m,\u001b[49m\u001b[43m \u001b[49m\u001b[43mgradient\u001b[49m\u001b[43m,\u001b[49m\u001b[43m \u001b[49m\u001b[43mstart_params\u001b[49m\u001b[43m,\u001b[49m\u001b[43m \u001b[49m\u001b[43mfargs\u001b[49m\u001b[43m,\u001b[49m\u001b[43m \u001b[49m\u001b[43mkwargs\u001b[49m\u001b[43m,\u001b[49m\n\u001b[0;32m    244\u001b[0m \u001b[43m                     \u001b[49m\u001b[43mdisp\u001b[49m\u001b[38;5;241;43m=\u001b[39;49m\u001b[43mdisp\u001b[49m\u001b[43m,\u001b[49m\u001b[43m \u001b[49m\u001b[43mmaxiter\u001b[49m\u001b[38;5;241;43m=\u001b[39;49m\u001b[43mmaxiter\u001b[49m\u001b[43m,\u001b[49m\u001b[43m \u001b[49m\u001b[43mcallback\u001b[49m\u001b[38;5;241;43m=\u001b[39;49m\u001b[43mcallback\u001b[49m\u001b[43m,\u001b[49m\n\u001b[0;32m    245\u001b[0m \u001b[43m                     \u001b[49m\u001b[43mretall\u001b[49m\u001b[38;5;241;43m=\u001b[39;49m\u001b[43mretall\u001b[49m\u001b[43m,\u001b[49m\u001b[43m \u001b[49m\u001b[43mfull_output\u001b[49m\u001b[38;5;241;43m=\u001b[39;49m\u001b[43mfull_output\u001b[49m\u001b[43m,\u001b[49m\n\u001b[0;32m    246\u001b[0m \u001b[43m                     \u001b[49m\u001b[43mhess\u001b[49m\u001b[38;5;241;43m=\u001b[39;49m\u001b[43mhessian\u001b[49m\u001b[43m)\u001b[49m\n\u001b[0;32m    248\u001b[0m optim_settings \u001b[38;5;241m=\u001b[39m {\u001b[38;5;124m'\u001b[39m\u001b[38;5;124moptimizer\u001b[39m\u001b[38;5;124m'\u001b[39m: method, \u001b[38;5;124m'\u001b[39m\u001b[38;5;124mstart_params\u001b[39m\u001b[38;5;124m'\u001b[39m: start_params,\n\u001b[0;32m    249\u001b[0m                   \u001b[38;5;124m'\u001b[39m\u001b[38;5;124mmaxiter\u001b[39m\u001b[38;5;124m'\u001b[39m: maxiter, \u001b[38;5;124m'\u001b[39m\u001b[38;5;124mfull_output\u001b[39m\u001b[38;5;124m'\u001b[39m: full_output,\n\u001b[0;32m    250\u001b[0m                   \u001b[38;5;124m'\u001b[39m\u001b[38;5;124mdisp\u001b[39m\u001b[38;5;124m'\u001b[39m: disp, \u001b[38;5;124m'\u001b[39m\u001b[38;5;124mfargs\u001b[39m\u001b[38;5;124m'\u001b[39m: fargs, \u001b[38;5;124m'\u001b[39m\u001b[38;5;124mcallback\u001b[39m\u001b[38;5;124m'\u001b[39m: callback,\n\u001b[0;32m    251\u001b[0m                   \u001b[38;5;124m'\u001b[39m\u001b[38;5;124mretall\u001b[39m\u001b[38;5;124m'\u001b[39m: retall, \u001b[38;5;124m\"\u001b[39m\u001b[38;5;124mextra_fit_funcs\u001b[39m\u001b[38;5;124m\"\u001b[39m: extra_fit_funcs}\n\u001b[0;32m    252\u001b[0m optim_settings\u001b[38;5;241m.\u001b[39mupdate(kwargs)\n",
      "File \u001b[1;32md:\\Work\\Development\\Python\\SDP\\venv\\lib\\site-packages\\statsmodels\\base\\optimizer.py:959\u001b[0m, in \u001b[0;36m_fit_powell\u001b[1;34m(f, score, start_params, fargs, kwargs, disp, maxiter, callback, retall, full_output, hess)\u001b[0m\n\u001b[0;32m    957\u001b[0m maxfun \u001b[38;5;241m=\u001b[39m kwargs\u001b[38;5;241m.\u001b[39msetdefault(\u001b[38;5;124m'\u001b[39m\u001b[38;5;124mmaxfun\u001b[39m\u001b[38;5;124m'\u001b[39m, \u001b[38;5;28;01mNone\u001b[39;00m)\n\u001b[0;32m    958\u001b[0m start_direc \u001b[38;5;241m=\u001b[39m kwargs\u001b[38;5;241m.\u001b[39msetdefault(\u001b[38;5;124m'\u001b[39m\u001b[38;5;124mstart_direc\u001b[39m\u001b[38;5;124m'\u001b[39m, \u001b[38;5;28;01mNone\u001b[39;00m)\n\u001b[1;32m--> 959\u001b[0m retvals \u001b[38;5;241m=\u001b[39m \u001b[43moptimize\u001b[49m\u001b[38;5;241;43m.\u001b[39;49m\u001b[43mfmin_powell\u001b[49m\u001b[43m(\u001b[49m\u001b[43mf\u001b[49m\u001b[43m,\u001b[49m\u001b[43m \u001b[49m\u001b[43mstart_params\u001b[49m\u001b[43m,\u001b[49m\u001b[43m \u001b[49m\u001b[43margs\u001b[49m\u001b[38;5;241;43m=\u001b[39;49m\u001b[43mfargs\u001b[49m\u001b[43m,\u001b[49m\u001b[43m \u001b[49m\u001b[43mxtol\u001b[49m\u001b[38;5;241;43m=\u001b[39;49m\u001b[43mxtol\u001b[49m\u001b[43m,\u001b[49m\n\u001b[0;32m    960\u001b[0m \u001b[43m                               \u001b[49m\u001b[43mftol\u001b[49m\u001b[38;5;241;43m=\u001b[39;49m\u001b[43mftol\u001b[49m\u001b[43m,\u001b[49m\u001b[43m \u001b[49m\u001b[43mmaxiter\u001b[49m\u001b[38;5;241;43m=\u001b[39;49m\u001b[43mmaxiter\u001b[49m\u001b[43m,\u001b[49m\u001b[43m \u001b[49m\u001b[43mmaxfun\u001b[49m\u001b[38;5;241;43m=\u001b[39;49m\u001b[43mmaxfun\u001b[49m\u001b[43m,\u001b[49m\n\u001b[0;32m    961\u001b[0m \u001b[43m                               \u001b[49m\u001b[43mfull_output\u001b[49m\u001b[38;5;241;43m=\u001b[39;49m\u001b[43mfull_output\u001b[49m\u001b[43m,\u001b[49m\u001b[43m \u001b[49m\u001b[43mdisp\u001b[49m\u001b[38;5;241;43m=\u001b[39;49m\u001b[43mdisp\u001b[49m\u001b[43m,\u001b[49m\n\u001b[0;32m    962\u001b[0m \u001b[43m                               \u001b[49m\u001b[43mretall\u001b[49m\u001b[38;5;241;43m=\u001b[39;49m\u001b[43mretall\u001b[49m\u001b[43m,\u001b[49m\u001b[43m \u001b[49m\u001b[43mcallback\u001b[49m\u001b[38;5;241;43m=\u001b[39;49m\u001b[43mcallback\u001b[49m\u001b[43m,\u001b[49m\n\u001b[0;32m    963\u001b[0m \u001b[43m                               \u001b[49m\u001b[43mdirec\u001b[49m\u001b[38;5;241;43m=\u001b[39;49m\u001b[43mstart_direc\u001b[49m\u001b[43m)\u001b[49m\n\u001b[0;32m    964\u001b[0m \u001b[38;5;28;01mif\u001b[39;00m full_output:\n\u001b[0;32m    965\u001b[0m     \u001b[38;5;28;01mif\u001b[39;00m \u001b[38;5;129;01mnot\u001b[39;00m retall:\n",
      "File \u001b[1;32md:\\Work\\Development\\Python\\SDP\\venv\\lib\\site-packages\\scipy\\optimize\\_optimize.py:3360\u001b[0m, in \u001b[0;36mfmin_powell\u001b[1;34m(func, x0, args, xtol, ftol, maxiter, maxfun, full_output, disp, retall, callback, direc)\u001b[0m\n\u001b[0;32m   3351\u001b[0m opts \u001b[38;5;241m=\u001b[39m {\u001b[38;5;124m'\u001b[39m\u001b[38;5;124mxtol\u001b[39m\u001b[38;5;124m'\u001b[39m: xtol,\n\u001b[0;32m   3352\u001b[0m         \u001b[38;5;124m'\u001b[39m\u001b[38;5;124mftol\u001b[39m\u001b[38;5;124m'\u001b[39m: ftol,\n\u001b[0;32m   3353\u001b[0m         \u001b[38;5;124m'\u001b[39m\u001b[38;5;124mmaxiter\u001b[39m\u001b[38;5;124m'\u001b[39m: maxiter,\n\u001b[1;32m   (...)\u001b[0m\n\u001b[0;32m   3356\u001b[0m         \u001b[38;5;124m'\u001b[39m\u001b[38;5;124mdirec\u001b[39m\u001b[38;5;124m'\u001b[39m: direc,\n\u001b[0;32m   3357\u001b[0m         \u001b[38;5;124m'\u001b[39m\u001b[38;5;124mreturn_all\u001b[39m\u001b[38;5;124m'\u001b[39m: retall}\n\u001b[0;32m   3359\u001b[0m callback \u001b[38;5;241m=\u001b[39m _wrap_callback(callback)\n\u001b[1;32m-> 3360\u001b[0m res \u001b[38;5;241m=\u001b[39m _minimize_powell(func, x0, args, callback\u001b[38;5;241m=\u001b[39mcallback, \u001b[38;5;241m*\u001b[39m\u001b[38;5;241m*\u001b[39mopts)\n\u001b[0;32m   3362\u001b[0m \u001b[38;5;28;01mif\u001b[39;00m full_output:\n\u001b[0;32m   3363\u001b[0m     retlist \u001b[38;5;241m=\u001b[39m (res[\u001b[38;5;124m'\u001b[39m\u001b[38;5;124mx\u001b[39m\u001b[38;5;124m'\u001b[39m], res[\u001b[38;5;124m'\u001b[39m\u001b[38;5;124mfun\u001b[39m\u001b[38;5;124m'\u001b[39m], res[\u001b[38;5;124m'\u001b[39m\u001b[38;5;124mdirec\u001b[39m\u001b[38;5;124m'\u001b[39m], res[\u001b[38;5;124m'\u001b[39m\u001b[38;5;124mnit\u001b[39m\u001b[38;5;124m'\u001b[39m],\n\u001b[0;32m   3364\u001b[0m                res[\u001b[38;5;124m'\u001b[39m\u001b[38;5;124mnfev\u001b[39m\u001b[38;5;124m'\u001b[39m], res[\u001b[38;5;124m'\u001b[39m\u001b[38;5;124mstatus\u001b[39m\u001b[38;5;124m'\u001b[39m])\n",
      "File \u001b[1;32md:\\Work\\Development\\Python\\SDP\\venv\\lib\\site-packages\\scipy\\optimize\\_optimize.py:3529\u001b[0m, in \u001b[0;36m_minimize_powell\u001b[1;34m(func, x0, args, callback, bounds, xtol, ftol, maxiter, maxfev, disp, direc, return_all, **unknown_options)\u001b[0m\n\u001b[0;32m   3527\u001b[0m direc1 \u001b[38;5;241m=\u001b[39m direc[i]\n\u001b[0;32m   3528\u001b[0m fx2 \u001b[38;5;241m=\u001b[39m fval\n\u001b[1;32m-> 3529\u001b[0m fval, x, direc1 \u001b[38;5;241m=\u001b[39m \u001b[43m_linesearch_powell\u001b[49m\u001b[43m(\u001b[49m\u001b[43mfunc\u001b[49m\u001b[43m,\u001b[49m\u001b[43m \u001b[49m\u001b[43mx\u001b[49m\u001b[43m,\u001b[49m\u001b[43m \u001b[49m\u001b[43mdirec1\u001b[49m\u001b[43m,\u001b[49m\n\u001b[0;32m   3530\u001b[0m \u001b[43m                                     \u001b[49m\u001b[43mtol\u001b[49m\u001b[38;5;241;43m=\u001b[39;49m\u001b[43mxtol\u001b[49m\u001b[43m \u001b[49m\u001b[38;5;241;43m*\u001b[39;49m\u001b[43m \u001b[49m\u001b[38;5;241;43m100\u001b[39;49m\u001b[43m,\u001b[49m\n\u001b[0;32m   3531\u001b[0m \u001b[43m                                     \u001b[49m\u001b[43mlower_bound\u001b[49m\u001b[38;5;241;43m=\u001b[39;49m\u001b[43mlower_bound\u001b[49m\u001b[43m,\u001b[49m\n\u001b[0;32m   3532\u001b[0m \u001b[43m                                     \u001b[49m\u001b[43mupper_bound\u001b[49m\u001b[38;5;241;43m=\u001b[39;49m\u001b[43mupper_bound\u001b[49m\u001b[43m,\u001b[49m\n\u001b[0;32m   3533\u001b[0m \u001b[43m                                     \u001b[49m\u001b[43mfval\u001b[49m\u001b[38;5;241;43m=\u001b[39;49m\u001b[43mfval\u001b[49m\u001b[43m)\u001b[49m\n\u001b[0;32m   3534\u001b[0m \u001b[38;5;28;01mif\u001b[39;00m (fx2 \u001b[38;5;241m-\u001b[39m fval) \u001b[38;5;241m>\u001b[39m delta:\n\u001b[0;32m   3535\u001b[0m     delta \u001b[38;5;241m=\u001b[39m fx2 \u001b[38;5;241m-\u001b[39m fval\n",
      "File \u001b[1;32md:\\Work\\Development\\Python\\SDP\\venv\\lib\\site-packages\\scipy\\optimize\\_optimize.py:3205\u001b[0m, in \u001b[0;36m_linesearch_powell\u001b[1;34m(func, p, xi, tol, lower_bound, upper_bound, fval)\u001b[0m\n\u001b[0;32m   3202\u001b[0m     \u001b[38;5;28;01mreturn\u001b[39;00m ((fval, p, xi) \u001b[38;5;28;01mif\u001b[39;00m fval \u001b[38;5;129;01mis\u001b[39;00m \u001b[38;5;129;01mnot\u001b[39;00m \u001b[38;5;28;01mNone\u001b[39;00m \u001b[38;5;28;01melse\u001b[39;00m (func(p), p, xi))\n\u001b[0;32m   3203\u001b[0m \u001b[38;5;28;01melif\u001b[39;00m lower_bound \u001b[38;5;129;01mis\u001b[39;00m \u001b[38;5;28;01mNone\u001b[39;00m \u001b[38;5;129;01mand\u001b[39;00m upper_bound \u001b[38;5;129;01mis\u001b[39;00m \u001b[38;5;28;01mNone\u001b[39;00m:\n\u001b[0;32m   3204\u001b[0m     \u001b[38;5;66;03m# non-bounded minimization\u001b[39;00m\n\u001b[1;32m-> 3205\u001b[0m     res \u001b[38;5;241m=\u001b[39m \u001b[43m_recover_from_bracket_error\u001b[49m\u001b[43m(\u001b[49m\u001b[43m_minimize_scalar_brent\u001b[49m\u001b[43m,\u001b[49m\n\u001b[0;32m   3206\u001b[0m \u001b[43m                                      \u001b[49m\u001b[43mmyfunc\u001b[49m\u001b[43m,\u001b[49m\u001b[43m \u001b[49m\u001b[38;5;28;43;01mNone\u001b[39;49;00m\u001b[43m,\u001b[49m\u001b[43m \u001b[49m\u001b[38;5;28;43mtuple\u001b[39;49m\u001b[43m(\u001b[49m\u001b[43m)\u001b[49m\u001b[43m,\u001b[49m\u001b[43m \u001b[49m\u001b[43mxtol\u001b[49m\u001b[38;5;241;43m=\u001b[39;49m\u001b[43mtol\u001b[49m\u001b[43m)\u001b[49m\n\u001b[0;32m   3207\u001b[0m     alpha_min, fret \u001b[38;5;241m=\u001b[39m res\u001b[38;5;241m.\u001b[39mx, res\u001b[38;5;241m.\u001b[39mfun\n\u001b[0;32m   3208\u001b[0m     xi \u001b[38;5;241m=\u001b[39m alpha_min \u001b[38;5;241m*\u001b[39m xi\n",
      "File \u001b[1;32md:\\Work\\Development\\Python\\SDP\\venv\\lib\\site-packages\\scipy\\optimize\\_optimize.py:3098\u001b[0m, in \u001b[0;36m_recover_from_bracket_error\u001b[1;34m(solver, fun, bracket, args, **options)\u001b[0m\n\u001b[0;32m   3079\u001b[0m \u001b[38;5;28;01mdef\u001b[39;00m\u001b[38;5;250m \u001b[39m\u001b[38;5;21m_recover_from_bracket_error\u001b[39m(solver, fun, bracket, args, \u001b[38;5;241m*\u001b[39m\u001b[38;5;241m*\u001b[39moptions):\n\u001b[0;32m   3080\u001b[0m     \u001b[38;5;66;03m# `bracket` was originally written without checking whether the resulting\u001b[39;00m\n\u001b[0;32m   3081\u001b[0m     \u001b[38;5;66;03m# bracket is valid. `brent` and `golden` built on top of it without\u001b[39;00m\n\u001b[1;32m   (...)\u001b[0m\n\u001b[0;32m   3095\u001b[0m     \u001b[38;5;66;03m# storing the information needed by `minimize_scalar` in the error object,\u001b[39;00m\n\u001b[0;32m   3096\u001b[0m     \u001b[38;5;66;03m# and intercepting it here.\u001b[39;00m\n\u001b[0;32m   3097\u001b[0m     \u001b[38;5;28;01mtry\u001b[39;00m:\n\u001b[1;32m-> 3098\u001b[0m         res \u001b[38;5;241m=\u001b[39m solver(fun, bracket, args, \u001b[38;5;241m*\u001b[39m\u001b[38;5;241m*\u001b[39moptions)\n\u001b[0;32m   3099\u001b[0m     \u001b[38;5;28;01mexcept\u001b[39;00m BracketError \u001b[38;5;28;01mas\u001b[39;00m e:\n\u001b[0;32m   3100\u001b[0m         msg \u001b[38;5;241m=\u001b[39m \u001b[38;5;28mstr\u001b[39m(e)\n",
      "File \u001b[1;32md:\\Work\\Development\\Python\\SDP\\venv\\lib\\site-packages\\scipy\\optimize\\_optimize.py:2697\u001b[0m, in \u001b[0;36m_minimize_scalar_brent\u001b[1;34m(func, brack, args, xtol, maxiter, disp, **unknown_options)\u001b[0m\n\u001b[0;32m   2694\u001b[0m brent \u001b[38;5;241m=\u001b[39m Brent(func\u001b[38;5;241m=\u001b[39mfunc, args\u001b[38;5;241m=\u001b[39margs, tol\u001b[38;5;241m=\u001b[39mtol,\n\u001b[0;32m   2695\u001b[0m               full_output\u001b[38;5;241m=\u001b[39m\u001b[38;5;28;01mTrue\u001b[39;00m, maxiter\u001b[38;5;241m=\u001b[39mmaxiter, disp\u001b[38;5;241m=\u001b[39mdisp)\n\u001b[0;32m   2696\u001b[0m brent\u001b[38;5;241m.\u001b[39mset_bracket(brack)\n\u001b[1;32m-> 2697\u001b[0m \u001b[43mbrent\u001b[49m\u001b[38;5;241;43m.\u001b[39;49m\u001b[43moptimize\u001b[49m\u001b[43m(\u001b[49m\u001b[43m)\u001b[49m\n\u001b[0;32m   2698\u001b[0m x, fval, nit, nfev \u001b[38;5;241m=\u001b[39m brent\u001b[38;5;241m.\u001b[39mget_result(full_output\u001b[38;5;241m=\u001b[39m\u001b[38;5;28;01mTrue\u001b[39;00m)\n\u001b[0;32m   2700\u001b[0m success \u001b[38;5;241m=\u001b[39m nit \u001b[38;5;241m<\u001b[39m maxiter \u001b[38;5;129;01mand\u001b[39;00m \u001b[38;5;129;01mnot\u001b[39;00m (np\u001b[38;5;241m.\u001b[39misnan(x) \u001b[38;5;129;01mor\u001b[39;00m np\u001b[38;5;241m.\u001b[39misnan(fval))\n",
      "File \u001b[1;32md:\\Work\\Development\\Python\\SDP\\venv\\lib\\site-packages\\scipy\\optimize\\_optimize.py:2534\u001b[0m, in \u001b[0;36mBrent.optimize\u001b[1;34m(self)\u001b[0m\n\u001b[0;32m   2532\u001b[0m \u001b[38;5;28;01melse\u001b[39;00m:\n\u001b[0;32m   2533\u001b[0m     u \u001b[38;5;241m=\u001b[39m x \u001b[38;5;241m+\u001b[39m rat\n\u001b[1;32m-> 2534\u001b[0m fu \u001b[38;5;241m=\u001b[39m \u001b[43mfunc\u001b[49m\u001b[43m(\u001b[49m\u001b[38;5;241;43m*\u001b[39;49m\u001b[43m(\u001b[49m\u001b[43m(\u001b[49m\u001b[43mu\u001b[49m\u001b[43m,\u001b[49m\u001b[43m)\u001b[49m\u001b[43m \u001b[49m\u001b[38;5;241;43m+\u001b[39;49m\u001b[43m \u001b[49m\u001b[38;5;28;43mself\u001b[39;49m\u001b[38;5;241;43m.\u001b[39;49m\u001b[43margs\u001b[49m\u001b[43m)\u001b[49m\u001b[43m)\u001b[49m      \u001b[38;5;66;03m# calculate new output value\u001b[39;00m\n\u001b[0;32m   2535\u001b[0m funcalls \u001b[38;5;241m+\u001b[39m\u001b[38;5;241m=\u001b[39m \u001b[38;5;241m1\u001b[39m\n\u001b[0;32m   2537\u001b[0m \u001b[38;5;28;01mif\u001b[39;00m (fu \u001b[38;5;241m>\u001b[39m fx):                 \u001b[38;5;66;03m# if it's bigger than current\u001b[39;00m\n",
      "File \u001b[1;32md:\\Work\\Development\\Python\\SDP\\venv\\lib\\site-packages\\scipy\\optimize\\_optimize.py:3198\u001b[0m, in \u001b[0;36m_linesearch_powell.<locals>.myfunc\u001b[1;34m(alpha)\u001b[0m\n\u001b[0;32m   3197\u001b[0m \u001b[38;5;28;01mdef\u001b[39;00m\u001b[38;5;250m \u001b[39m\u001b[38;5;21mmyfunc\u001b[39m(alpha):\n\u001b[1;32m-> 3198\u001b[0m     \u001b[38;5;28;01mreturn\u001b[39;00m \u001b[43mfunc\u001b[49m\u001b[43m(\u001b[49m\u001b[43mp\u001b[49m\u001b[43m \u001b[49m\u001b[38;5;241;43m+\u001b[39;49m\u001b[43m \u001b[49m\u001b[43malpha\u001b[49m\u001b[38;5;241;43m*\u001b[39;49m\u001b[43mxi\u001b[49m\u001b[43m)\u001b[49m\n",
      "File \u001b[1;32md:\\Work\\Development\\Python\\SDP\\venv\\lib\\site-packages\\scipy\\optimize\\_optimize.py:542\u001b[0m, in \u001b[0;36m_wrap_scalar_function_maxfun_validation.<locals>.function_wrapper\u001b[1;34m(x, *wrapper_args)\u001b[0m\n\u001b[0;32m    540\u001b[0m ncalls[\u001b[38;5;241m0\u001b[39m] \u001b[38;5;241m+\u001b[39m\u001b[38;5;241m=\u001b[39m \u001b[38;5;241m1\u001b[39m\n\u001b[0;32m    541\u001b[0m \u001b[38;5;66;03m# A copy of x is sent to the user function (gh13740)\u001b[39;00m\n\u001b[1;32m--> 542\u001b[0m fx \u001b[38;5;241m=\u001b[39m \u001b[43mfunction\u001b[49m\u001b[43m(\u001b[49m\u001b[43mnp\u001b[49m\u001b[38;5;241;43m.\u001b[39;49m\u001b[43mcopy\u001b[49m\u001b[43m(\u001b[49m\u001b[43mx\u001b[49m\u001b[43m)\u001b[49m\u001b[43m,\u001b[49m\u001b[43m \u001b[49m\u001b[38;5;241;43m*\u001b[39;49m\u001b[43m(\u001b[49m\u001b[43mwrapper_args\u001b[49m\u001b[43m \u001b[49m\u001b[38;5;241;43m+\u001b[39;49m\u001b[43m \u001b[49m\u001b[43margs\u001b[49m\u001b[43m)\u001b[49m\u001b[43m)\u001b[49m\n\u001b[0;32m    543\u001b[0m \u001b[38;5;66;03m# Ideally, we'd like to a have a true scalar returned from f(x). For\u001b[39;00m\n\u001b[0;32m    544\u001b[0m \u001b[38;5;66;03m# backwards-compatibility, also allow np.array([1.3]),\u001b[39;00m\n\u001b[0;32m    545\u001b[0m \u001b[38;5;66;03m# np.array([[1.3]]) etc.\u001b[39;00m\n\u001b[0;32m    546\u001b[0m \u001b[38;5;28;01mif\u001b[39;00m \u001b[38;5;129;01mnot\u001b[39;00m np\u001b[38;5;241m.\u001b[39misscalar(fx):\n",
      "File \u001b[1;32md:\\Work\\Development\\Python\\SDP\\venv\\lib\\site-packages\\statsmodels\\base\\model.py:534\u001b[0m, in \u001b[0;36mLikelihoodModel.fit.<locals>.f\u001b[1;34m(params, *args)\u001b[0m\n\u001b[0;32m    533\u001b[0m \u001b[38;5;28;01mdef\u001b[39;00m\u001b[38;5;250m \u001b[39m\u001b[38;5;21mf\u001b[39m(params, \u001b[38;5;241m*\u001b[39margs):\n\u001b[1;32m--> 534\u001b[0m     \u001b[38;5;28;01mreturn\u001b[39;00m \u001b[38;5;241m-\u001b[39m\u001b[38;5;28;43mself\u001b[39;49m\u001b[38;5;241;43m.\u001b[39;49m\u001b[43mloglike\u001b[49m\u001b[43m(\u001b[49m\u001b[43mparams\u001b[49m\u001b[43m,\u001b[49m\u001b[43m \u001b[49m\u001b[38;5;241;43m*\u001b[39;49m\u001b[43margs\u001b[49m\u001b[43m)\u001b[49m \u001b[38;5;241m/\u001b[39m nobs\n",
      "File \u001b[1;32md:\\Work\\Development\\Python\\SDP\\venv\\lib\\site-packages\\statsmodels\\tsa\\statespace\\mlemodel.py:940\u001b[0m, in \u001b[0;36mMLEModel.loglike\u001b[1;34m(self, params, *args, **kwargs)\u001b[0m\n\u001b[0;32m    937\u001b[0m \u001b[38;5;28;01mif\u001b[39;00m complex_step:\n\u001b[0;32m    938\u001b[0m     kwargs[\u001b[38;5;124m'\u001b[39m\u001b[38;5;124minversion_method\u001b[39m\u001b[38;5;124m'\u001b[39m] \u001b[38;5;241m=\u001b[39m INVERT_UNIVARIATE \u001b[38;5;241m|\u001b[39m SOLVE_LU\n\u001b[1;32m--> 940\u001b[0m loglike \u001b[38;5;241m=\u001b[39m \u001b[38;5;28mself\u001b[39m\u001b[38;5;241m.\u001b[39mssm\u001b[38;5;241m.\u001b[39mloglike(complex_step\u001b[38;5;241m=\u001b[39mcomplex_step, \u001b[38;5;241m*\u001b[39m\u001b[38;5;241m*\u001b[39mkwargs)\n\u001b[0;32m    942\u001b[0m \u001b[38;5;66;03m# Koopman, Shephard, and Doornik recommend maximizing the average\u001b[39;00m\n\u001b[0;32m    943\u001b[0m \u001b[38;5;66;03m# likelihood to avoid scale issues, but the averaging is done\u001b[39;00m\n\u001b[0;32m    944\u001b[0m \u001b[38;5;66;03m# automatically in the base model `fit` method\u001b[39;00m\n\u001b[0;32m    945\u001b[0m \u001b[38;5;28;01mreturn\u001b[39;00m loglike\n",
      "File \u001b[1;32md:\\Work\\Development\\Python\\SDP\\venv\\lib\\site-packages\\statsmodels\\tsa\\statespace\\kalman_filter.py:1001\u001b[0m, in \u001b[0;36mKalmanFilter.loglike\u001b[1;34m(self, **kwargs)\u001b[0m\n\u001b[0;32m    985\u001b[0m \u001b[38;5;250m\u001b[39m\u001b[38;5;124mr\u001b[39m\u001b[38;5;124;03m\"\"\"\u001b[39;00m\n\u001b[0;32m    986\u001b[0m \u001b[38;5;124;03mCalculate the loglikelihood associated with the statespace model.\u001b[39;00m\n\u001b[0;32m    987\u001b[0m \n\u001b[1;32m   (...)\u001b[0m\n\u001b[0;32m    997\u001b[0m \u001b[38;5;124;03m    The joint loglikelihood.\u001b[39;00m\n\u001b[0;32m    998\u001b[0m \u001b[38;5;124;03m\"\"\"\u001b[39;00m\n\u001b[0;32m    999\u001b[0m kwargs\u001b[38;5;241m.\u001b[39msetdefault(\u001b[38;5;124m'\u001b[39m\u001b[38;5;124mconserve_memory\u001b[39m\u001b[38;5;124m'\u001b[39m,\n\u001b[0;32m   1000\u001b[0m                   MEMORY_CONSERVE \u001b[38;5;241m^\u001b[39m MEMORY_NO_LIKELIHOOD)\n\u001b[1;32m-> 1001\u001b[0m kfilter \u001b[38;5;241m=\u001b[39m \u001b[38;5;28mself\u001b[39m\u001b[38;5;241m.\u001b[39m_filter(\u001b[38;5;241m*\u001b[39m\u001b[38;5;241m*\u001b[39mkwargs)\n\u001b[0;32m   1002\u001b[0m loglikelihood_burn \u001b[38;5;241m=\u001b[39m kwargs\u001b[38;5;241m.\u001b[39mget(\u001b[38;5;124m'\u001b[39m\u001b[38;5;124mloglikelihood_burn\u001b[39m\u001b[38;5;124m'\u001b[39m,\n\u001b[0;32m   1003\u001b[0m                                 \u001b[38;5;28mself\u001b[39m\u001b[38;5;241m.\u001b[39mloglikelihood_burn)\n\u001b[0;32m   1004\u001b[0m \u001b[38;5;28;01mif\u001b[39;00m \u001b[38;5;129;01mnot\u001b[39;00m (kwargs[\u001b[38;5;124m'\u001b[39m\u001b[38;5;124mconserve_memory\u001b[39m\u001b[38;5;124m'\u001b[39m] \u001b[38;5;241m&\u001b[39m MEMORY_NO_LIKELIHOOD):\n",
      "\u001b[1;31mKeyboardInterrupt\u001b[0m: "
     ]
    }
   ],
   "source": [
    "from itertools import product\n",
    "import warnings\n",
    "\n",
    "warnings.filterwarnings(\"ignore\")\n",
    "\n",
    "\n",
    "def grid_search_sarima(data, P_range, D_range, Q_range, s):\n",
    "    \"\"\"\n",
    "    Perform grid search for SARIMA parameters\n",
    "\n",
    "    Args:\n",
    "        data: Time series data\n",
    "        P_range, D_range, Q_range: Ranges for seasonal parameters\n",
    "        s: Seasonal period\n",
    "    \"\"\"\n",
    "    best_aic = float(\"inf\")\n",
    "    best_params = None\n",
    "\n",
    "    # Create all possible combinations of parameters\n",
    "    seasonal_pdq = list(product(P_range, D_range, Q_range, [s]))\n",
    "    # print(seasonal_pdq)\n",
    "\n",
    "    # Progress tracking\n",
    "    total_combinations = len(seasonal_pdq)\n",
    "    current = 0\n",
    "\n",
    "    for param_seasonal in seasonal_pdq:\n",
    "        print(f\"Trying SARIMA{24, 0, 4}x{param_seasonal}\")\n",
    "        current += 1\n",
    "        if current % 10 == 0:\n",
    "            print(f\"Progress: {current}/{total_combinations} combinations\")\n",
    "\n",
    "        try:\n",
    "            model = fit_sarima(data, order=(10, 0, 2), seasonal_order=param_seasonal)\n",
    "            results = model.fit()\n",
    "\n",
    "            if results.aic < best_aic:\n",
    "                best_aic = results.aic\n",
    "                best_params = param_seasonal\n",
    "                print(f\"New best parameters found:\")\n",
    "                print(f\"SARIMA{24, 0, 4}x{param_seasonal} - AIC:{results.aic}\")\n",
    "\n",
    "        except Exception as e:\n",
    "            continue\n",
    "\n",
    "    return best_params, best_aic\n",
    "\n",
    "\n",
    "# Example usage\n",
    "# Assuming your time series data is in 'time_series' variable\n",
    "\n",
    "P_range = range(1, 10)  # Seasonal AR\n",
    "D_range = range(0, 2)  # Seasonal difference\n",
    "Q_range = range(1, 10)  # Seasonal MA\n",
    "s = 30  # Seasonal period (e.g., 24 for hourly data with daily seasonality)\n",
    "\n",
    "# Perform grid search\n",
    "best_params, best_aic = grid_search_sarima(\n",
    "    scaler_target_train_df, P_range, D_range, Q_range, s\n",
    ")\n",
    "\n",
    "print(\"\\nBest SARIMA parameters found:\")\n",
    "print(f\"Seasonal Order (P,D,Q,s): {best_params}\")\n",
    "print(f\"Best AIC: {best_aic}\")"
   ]
  },
  {
   "cell_type": "markdown",
   "metadata": {},
   "source": [
    "#### training sarima model"
   ]
  },
  {
   "cell_type": "code",
   "execution_count": 17,
   "metadata": {},
   "outputs": [],
   "source": [
    "forcast_steps = 1003"
   ]
  },
  {
   "cell_type": "code",
   "execution_count": null,
   "metadata": {},
   "outputs": [
    {
     "name": "stderr",
     "output_type": "stream",
     "text": [
      "d:\\Work\\Development\\Python\\SDP\\venv\\lib\\site-packages\\statsmodels\\tsa\\base\\tsa_model.py:473: ValueWarning: A date index has been provided, but it has no associated frequency information and so will be ignored when e.g. forecasting.\n",
      "  self._init_dates(dates, freq)\n",
      "d:\\Work\\Development\\Python\\SDP\\venv\\lib\\site-packages\\statsmodels\\tsa\\base\\tsa_model.py:473: ValueWarning: A date index has been provided, but it has no associated frequency information and so will be ignored when e.g. forecasting.\n",
      "  self._init_dates(dates, freq)\n"
     ]
    }
   ],
   "source": [
    "# Fit SARIMA model\n",
    "# order=(p,d,q), seasonal_order=(P,D,Q,s) where:\n",
    "# P = seasonal AR terms\n",
    "# D = seasonal differencing\n",
    "# Q = seasonal MA terms\n",
    "# s = seasonal period (e.g., 24 for hourly data with daily seasonality)\n",
    "sarima_model = fit_sarima(\n",
    "    scaler_target_train_df, order=(24, 0, 4), seasonal_order=(1, 1, 1, 365)\n",
    ")\n",
    "print(\"\\nSARIMA Model Summary:\")\n",
    "print(sarima_model.summary())"
   ]
  },
  {
   "cell_type": "markdown",
   "metadata": {},
   "source": [
    "#### tesing sarima model"
   ]
  },
  {
   "cell_type": "code",
   "execution_count": 19,
   "metadata": {},
   "outputs": [
    {
     "name": "stderr",
     "output_type": "stream",
     "text": [
      "d:\\Work\\Development\\Python\\SDP\\venv\\lib\\site-packages\\statsmodels\\tsa\\base\\tsa_model.py:837: ValueWarning: No supported index is available. Prediction results will be given with an integer index beginning at `start`.\n",
      "  return get_prediction_index(\n",
      "d:\\Work\\Development\\Python\\SDP\\venv\\lib\\site-packages\\statsmodels\\tsa\\base\\tsa_model.py:837: FutureWarning: No supported index is available. In the next version, calling this method in a model without a supported index will result in an exception.\n",
      "  return get_prediction_index(\n"
     ]
    },
    {
     "data": {
      "text/plain": [
       "4009   -1.561243\n",
       "4010   -1.527004\n",
       "4011   -1.520809\n",
       "4012   -1.513638\n",
       "4013   -1.479179\n",
       "          ...   \n",
       "5007   -0.142317\n",
       "5008   -0.147661\n",
       "5009   -0.153189\n",
       "5010   -0.158406\n",
       "5011   -0.163802\n",
       "Name: predicted_mean, Length: 1003, dtype: float64"
      ]
     },
     "execution_count": 19,
     "metadata": {},
     "output_type": "execute_result"
    }
   ],
   "source": [
    "# Make the forecast\n",
    "forecast = sarima_model.get_forecast(steps=forcast_steps)\n",
    "forecast_values = forecast.predicted_mean  # This is already a numpy array\n",
    "forecast_ci = forecast.conf_int()\n",
    "forecast_values"
   ]
  },
  {
   "cell_type": "code",
   "execution_count": 20,
   "metadata": {},
   "outputs": [
    {
     "name": "stdout",
     "output_type": "stream",
     "text": [
      "     Avg Temperature\n",
      "4009       56.311728\n",
      "4010       56.776831\n",
      "4011       56.860982\n",
      "4012       56.958403\n",
      "4013       57.426491\n",
      "...              ...\n",
      "5007       75.586607\n",
      "5008       75.514007\n",
      "5009       75.438919\n",
      "5010       75.368043\n",
      "5011       75.294744\n",
      "\n",
      "[1003 rows x 1 columns]\n",
      "      lower Avg Temperature  upper Avg Temperature\n",
      "4009              50.684002              61.939453\n",
      "4010              49.418711              64.134950\n",
      "4011              48.726718              64.995245\n",
      "4012              48.415268              65.501537\n",
      "4013              48.633744              66.219239\n",
      "...                     ...                    ...\n",
      "5007              51.450237              99.722977\n",
      "5008              51.377286              99.650727\n",
      "5009              51.301805              99.576033\n",
      "5010              51.230504              99.505581\n",
      "5011              51.156736              99.432753\n",
      "\n",
      "[1003 rows x 2 columns]\n"
     ]
    }
   ],
   "source": [
    "## inversing back from scaled data to normal temperature values for ploting and understanding\n",
    "forecast_values_original = pd.DataFrame(\n",
    "    scaler_target_train.inverse_transform(forecast_values.values.reshape(-1, 1)),\n",
    "    index=forecast_values.index,\n",
    "    columns=[target_column],\n",
    ")\n",
    "forecast_ci_original = pd.DataFrame(\n",
    "    scaler_target_train.inverse_transform(forecast_ci),\n",
    "    index=forecast_ci.index,\n",
    "    columns=forecast_ci.columns,\n",
    ")\n",
    "\n",
    "print(forecast_values_original)\n",
    "print(forecast_ci_original)"
   ]
  },
  {
   "cell_type": "code",
   "execution_count": 21,
   "metadata": {},
   "outputs": [
    {
     "data": {
      "image/png": "[encoded data removed]",
      "text/plain": [
       "<Figure size 1000x600 with 1 Axes>"
      ]
     },
     "metadata": {},
     "output_type": "display_data"
    }
   ],
   "source": [
    "# Convert Period index to DateTime for plotting\n",
    "plot_index = test.index[:forcast_steps].astype(str).astype(\"datetime64[ns]\")\n",
    "\n",
    "# Plot with DateTime index\n",
    "plt.figure(figsize=(10, 6))\n",
    "plt.plot(\n",
    "    plot_index,\n",
    "    test[target_column].iloc[:forcast_steps],\n",
    "    label=\"Original Data\",\n",
    "    marker=\"o\",\n",
    ")\n",
    "plt.plot(\n",
    "    plot_index, forecast_values_original, label=\"Forecast\", color=\"yellow\", marker=\"o\"\n",
    ")\n",
    "plt.fill_between(\n",
    "    plot_index,\n",
    "    forecast_ci_original.iloc[:, 0],\n",
    "    forecast_ci_original.iloc[:, 1],\n",
    "    color=\"orange\",\n",
    "    alpha=0.2,\n",
    "    label=\"Confidence Interval\",\n",
    ")\n",
    "\n",
    "# Improve plot formatting\n",
    "plt.xlabel(\"Date\")\n",
    "plt.ylabel(target_column)\n",
    "plt.title(\"SARIMA Model: Original Data and Forecast Before Grid Search\")\n",
    "plt.legend()\n",
    "plt.grid(True)\n",
    "plt.xticks(rotation=45)\n",
    "plt.tight_layout()\n",
    "plt.show()"
   ]
  },
  {
   "cell_type": "markdown",
   "metadata": {},
   "source": [
    "#### sarima model evaluation"
   ]
  },
  {
   "cell_type": "code",
   "execution_count": null,
   "metadata": {},
   "outputs": [],
   "source": [
    "from math import sqrt\n",
    "from sklearn.metrics import mean_squared_error, mean_absolute_error, r2_score\n",
    "import numpy as np\n",
    "\n",
    "\n",
    "# Calculate all error metrics\n",
    "def calculate_metrics(actual, predicted):\n",
    "    mse = mean_squared_error(actual, predicted)\n",
    "    rmse = sqrt(mse)\n",
    "    mae = mean_absolute_error(actual, predicted)\n",
    "\n",
    "    # Calculate MAPE\n",
    "    actual_array = np.array(actual)\n",
    "    predicted_array = np.array(predicted)\n",
    "    mape = np.mean(np.abs((actual_array - predicted_array) / actual_array)) * 100\n",
    "    r2 = r2_score(actual, predicted)\n",
    "\n",
    "    return {\"MSE\": mse, \"RMSE\": rmse, \"MAE\": mae, \"MAPE\": mape, \"R²\": r2}\n",
    "\n",
    "\n",
    "# Calculate metrics\n",
    "metrics = calculate_metrics(\n",
    "    test[target_column].iloc[:forcast_steps], forecast_values_original\n",
    ")\n",
    "\n",
    "# Print all metrics with proper formatting\n",
    "print(\"\\nModel Performance Metrics:\")\n",
    "print(\"-\" * 25)\n",
    "print(f\"MSE:  {metrics['MSE']:.3f}\")\n",
    "print(f\"RMSE: {metrics['RMSE']:.3f}\")\n",
    "print(f\"MAE:  {metrics['MAE']:.3f}\")\n",
    "print(f\"MAPE: {metrics['MAPE']:.2f}%\")\n",
    "print(f\"R²: {metrics['R²']:.2f}%\")"
   ]
  }
 ],
 "metadata": {
  "kernelspec": {
   "display_name": "venv",
   "language": "python",
   "name": "python3"
  },
  "language_info": {
   "codemirror_mode": {
    "name": "ipython",
    "version": 3
   },
   "file_extension": ".py",
   "mimetype": "text/x-python",
   "name": "python",
   "nbconvert_exporter": "python",
   "pygments_lexer": "ipython3",
   "version": "3.10.0"
  }
 },
 "nbformat": 4,
 "nbformat_minor": 2
}
